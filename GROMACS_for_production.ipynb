{
  "nbformat": 4,
  "nbformat_minor": 0,
  "metadata": {
    "colab": {
      "private_outputs": true,
      "provenance": [],
      "collapsed_sections": [
        "vv5cq2Wv7UhB",
        "LvpsKUqmtsT3"
      ],
      "machine_shape": "hm"
    },
    "kernelspec": {
      "name": "python3",
      "display_name": "Python 3"
    },
    "language_info": {
      "name": "python"
    },
    "gpuClass": "standard",
    "accelerator": "GPU"
  },
  "cells": [
    {
      "cell_type": "markdown",
      "source": [
        "#### GROMACS for production\n",
        "(See also: [`GROMACS_for_CHARMM-GUI.ipynb`](https://colab.research.google.com/github/bioinfkaustin/gromacs-on-colab/blob/main/GROMACS_for_CHARMM-GUI.ipynb).)"
      ],
      "metadata": {
        "id": "4zwSgdGDP9cV"
      }
    },
    {
      "cell_type": "markdown",
      "source": [
        "#### Documentation\n",
        "Please click ***↳ cells hidden*** below to show the documentation for this notebook."
      ],
      "metadata": {
        "id": "vv5cq2Wv7UhB"
      }
    },
    {
      "cell_type": "markdown",
      "source": [
        "##### About this software\n",
        "\n",
        "> This notebook processes a **CHARMM-GUI system archive** (`.tgz`), producing a **GROMACS-ready folder for production runs**.\n",
        ">\n",
        "> A protein system prepared with the CHARMM-GUI **Solution Builder** or **Membrane Builder** must be provided. Optionally, a docked ligand conformation prepared with **Ligand Reader** may be provided, in which case the two structures and topologies will be merged into a protein-ligand complex. If the system spans a membrane, $z$-axis walls may be defined if desired.\n",
        ">\n",
        "> The recommended **minimisation** and **equilibration** simulations are then run with **GROMACS**, which automatically utilises the GPU if one is allocated. The equilibrated system is saved for a later production simulation. "
      ],
      "metadata": {
        "id": "Jb0ESikELkRH"
      }
    },
    {
      "cell_type": "markdown",
      "source": [
        "##### License\n",
        "\n",
        "> This notebook as a work of software is licensed under the terms of the [AGPL-3.0](https://opensource.org/licenses/AGPL-3.0) or later."
      ],
      "metadata": {
        "id": "5dTAvj38Dal8"
      }
    },
    {
      "cell_type": "markdown",
      "source": [
        "#### Configuration"
      ],
      "metadata": {
        "id": "1pWciuVhQCYo"
      }
    },
    {
      "cell_type": "code",
      "execution_count": null,
      "metadata": {
        "id": "Pm9Dk5FBDoF4",
        "cellView": "form"
      },
      "outputs": [],
      "source": [
        "import os\n",
        "import re\n",
        "import shutil\n",
        "\n",
        "#@markdown Specify the location of the **GROMACS project folder** to simulate. It should contain at least the input files `conf.gro` and `topol.top` (and probably `toppar/`), as well as a simulation parameters file `grompp.mdp` with any secondary inputs it references such as `index.ndx` or `restraint.gro`.\n",
        "project_folder = \"{GoogleDrive}/GROMACS/7FBF_FABPH_vs_octanoic_acid\" #@param {type: \"string\"}\n",
        "# default: {GoogleDrive}/GROMACS/7FBF_FABPH_vs_octanoic_acid\n",
        "\n",
        "#@markdown Choose for how long the simulation should run.\n",
        "simulation_duration_ns = 10 #@param {type: \"integer\"}\n",
        "# default: 10\n",
        "\n",
        "#@markdown Optionally, a group may be specified for which the RMSD from the initial conformation should be monitored -- the RMSD over time is plotted at the end of the simulation. Furthermore, if a threshold RMSD (in Angstroms) is exceeded, the simulation stops immediately. \n",
        "rmsd_group = \"\" #@param {type: \"string\"}\n",
        "rmsd_early_stop_threshold_A = 12.0 #@param {type: \"number\"}\n",
        "# default: 12.0\n",
        "\n",
        "#@markdown Provide a unique filename prefix for this simulation. \n",
        "output_prefix = \"sim\" #@param {type: \"string\"}\n",
        "# default: sim\n",
        "\n",
        "#@markdown **After filling in this form, run the notebook by clicking *Runtime -> Run all* in the toolbar.**\n",
        "\n",
        "\n",
        "#\n",
        "# Make sure that the notebook is in the start directory\n",
        "#\n",
        "\n",
        "if \"START\" not in os.environ or not os.environ[\"START\"]:\n",
        "  %env START={os.getcwd()}\n",
        "else:\n",
        "  %cd {os.environ[\"START\"]}\n",
        "\n",
        "\n",
        "#\n",
        "# Validate the input values\n",
        "#\n",
        "\n",
        "\n",
        "def google_drive_format(folder):\n",
        "  if \"{GoogleDrive}\" in folder:\n",
        "    if not folder.startswith(\"{GoogleDrive}\"):\n",
        "      raise ValueError(f\"Error: {{GoogleDrive}} is a path prefix, but appears later: {folder}\")\n",
        "    if not os.path.isdir(\"/content/drive/MyDrive\"):\n",
        "      from google.colab import drive\n",
        "      drive.mount(\"/content/drive\")\n",
        "  return folder.format(GoogleDrive=\"/content/drive/MyDrive\")\n",
        "  #             ^^^ raises KeyError if any {...} placeholder is present except {GoogleDrive}\n",
        "\n",
        "\n",
        "# project_folder\n",
        "\n",
        "project_folder = os.path.abspath(google_drive_format(project_folder.strip()))\n",
        "\n",
        "\n",
        "# simulation_duration_ns\n",
        "\n",
        "if simulation_duration_ns <= 0:\n",
        "  raise RuntimeError(f\"Error: simulation duration must be more than 0 ns, but got: {simulation_duration_ns} ns\")\n",
        "\n",
        "simulation_duration_ps = 1000 * simulation_duration_ns\n",
        "\n",
        "\n",
        "# rmsd_group\n",
        "\n",
        "\n",
        "# rmsd_early_stop_threshold\n",
        "\n",
        "if rmsd_early_stop_threshold_A is None:\n",
        "  rmsd_early_stop_threshold_A = 0.0\n",
        "\n",
        "rmsd_early_stop_threshold_nm = rmsd_early_stop_threshold_A / 10.\n",
        "\n",
        "\n",
        "# output_prefix\n",
        "\n",
        "if not output_prefix:\n",
        "  raise RuntimeError(\"Error: an output prefix must be provided\")\n",
        "\n",
        "if not re.match(r\"^[0-9a-zA-Z_-]+$\", output_prefix):\n",
        "  raise RuntimeError(f\"Error: special characters are not allowed in output prefix, but got: {output_prefix}\")\n",
        "\n",
        "\n",
        "#\n",
        "# Use a clean scratch directory for the rest of the run\n",
        "#\n",
        "\n",
        "try:\n",
        "  shutil.rmtree(\"scratch\")\n",
        "except FileNotFoundError:\n",
        "  pass\n",
        "shutil.copytree(project_folder, \"scratch\")\n",
        "%cd \"scratch\""
      ]
    },
    {
      "cell_type": "markdown",
      "source": [
        "#### Installation"
      ],
      "metadata": {
        "id": "LvpsKUqmtsT3"
      }
    },
    {
      "cell_type": "code",
      "source": [
        "%%bash\n",
        "#@markdown When this cell runs, **GROMACS** is loaded from Google Drive. If not found, it is downloaded and compiled from source code. (This takes a while.)\n",
        "\n",
        "if [[ -d \"/usr/local/gromacs\" ]]; then\n",
        "  exit 0  # already installed\n",
        "fi\n",
        "\n",
        "gromacs_version=\"gromacs-2023-rc1\" #@param {type: \"string\"}\n",
        "usr_local_gromacs=\"/content/drive/MyDrive/usr_local_${gromacs_version}.tar.gz\"\n",
        "\n",
        "export DEBIAN_FRONTEND=noninteractive\n",
        "add-apt-repository -y \"ppa:ubuntu-toolchain-r/test\"\n",
        "apt-get update\n",
        "apt-get -y install --no-install-recommends \"g++-9\"\n",
        "update-alternatives --install \"/usr/bin/gcc\" \"gcc\" \"/usr/bin/gcc-9\" 99\n",
        "update-alternatives --install \"/usr/bin/g++\" \"g++\" \"/usr/bin/g++-9\" 99\n",
        "\n",
        "if [[ -s \"${usr_local_gromacs}\" ]]; then\n",
        "  tar -xzf \"${usr_local_gromacs}\" -C \"/usr/local\"\n",
        "else\n",
        "  wget \"ftp://ftp.gromacs.org/gromacs/${gromacs_version}.tar.gz\"\n",
        "  tar -xzf \"${gromacs_version}.tar.gz\"\n",
        "  cd \"${gromacs_version}\"\n",
        "  mkdir \"build\"\n",
        "  cd \"build\"\n",
        "  cmake .. -DGMX_BUILD_OWN_FFTW=ON -DGMX_GPU=CUDA\n",
        "  make -j $(nproc)\n",
        "  make install # -> /usr/local/gromacs\n",
        "\n",
        "  if [[ -d \"$(dirname \"$usr_local_gromacs\")\" ]]; then\n",
        "    tar -czf \"usr_local_gromacs.tar.gz\" -C \"/usr/local\" \"gromacs\"\n",
        "    mv \"usr_local_gromacs.tar.gz\" \"${usr_local_gromacs}\"\n",
        "  fi\n",
        "fi"
      ],
      "metadata": {
        "cellView": "form",
        "id": "v15jodW-tn6E"
      },
      "execution_count": null,
      "outputs": []
    },
    {
      "cell_type": "markdown",
      "source": [
        "#### Simulation"
      ],
      "metadata": {
        "id": "CW5PS8lCuDS1"
      }
    },
    {
      "cell_type": "code",
      "source": [
        "%%writefile \"run.bash\"\n",
        "project_folder=\"$1\"\n",
        "simulation_duration_ps=$2\n",
        "rmsd_group=\"$3\"\n",
        "rmsd_early_stop_threshold_nm=$4\n",
        "output_prefix=\"$5\"\n",
        "#@markdown Create a script to run the production simulation.\n",
        "\n",
        "source \"/usr/local/gromacs/bin/GMXRC.bash\"\n",
        "export GMX_MAXCONSTRWARN=-1\n",
        "\n",
        "echo \"Notice: saving output to folder: $project_folder\"\n",
        "sleep 1\n",
        "\n",
        "block_ps=1000\n",
        "\n",
        "{\n",
        "  echo \"***\"\n",
        "  date \"+%F %T\"\n",
        "  echo \"$(nproc) cores, $(free -m | awk 'NR == 2 { print $2 }') MiB\"\n",
        "  nvidia_smi=\"$(nvidia-smi --query-gpu=\"name,memory.total\" --format=\"csv,noheader\")\"\n",
        "  if (( $? == 0 )); then\n",
        "    echo \"$nvidia_smi\"\n",
        "  fi\n",
        "  echo \"***\"\n",
        "} | tee -a \"$output_prefix.clock.log\"\n",
        "\n",
        "if [[ ! -s \"$output_prefix.tpr\" ]]; then\n",
        "  # Ensure the first step is only $block_ps\n",
        "  sim_dt=$(awk '$1 == \"dt\" { print $3 }' \"grompp.mdp\")\n",
        "  steps_per_block=$(perl -e \"printf(\\\"%.0f\\n\\\", $block_ps / $sim_dt)\")\n",
        "  sed -i\"\" -E \"s/^(nsteps *) = [0-9]+\\$/\\1 = $steps_per_block/\" \"grompp.mdp\"\n",
        "\n",
        "  # Construct the grompp command\n",
        "  cmd=( gmx grompp -f \"grompp.mdp\" -o \"$output_prefix.tpr\" -c \"conf.gro\" -p \"topol.top\" -maxwarn 999 )\n",
        "  if [[ -s \"restraint.gro\" ]]; then\n",
        "    cmd+=( -r \"restraint.gro\" )\n",
        "  fi\n",
        "  if [[ -s \"index.ndx\" ]]; then\n",
        "    cmd+=( -n \"index.ndx\" )\n",
        "  fi\n",
        "  \"${cmd[@]}\"\n",
        "fi\n",
        "\n",
        "# First block of 1 ns\n",
        "if [[ ! -s \"$output_prefix.trr\" ]]; then\n",
        "  echo \"***\"\n",
        "  echo \"Block: $block_ps ps / $simulation_duration_ps ps    (Block size: $block_ps ps)\"\n",
        "  echo \"***\"\n",
        "  gmx mdrun -v -stepout 1000 -deffnm \"$output_prefix\"\n",
        "fi\n",
        "\n",
        "[[ -s \"$output_prefix.xtc\" ]] && trrext=\"xtc\" || trrext=\"trr\"\n",
        "\n",
        "# Subsequent blocks of 1 ns until duration reached\n",
        "t=$(gmx check -f \"$output_prefix.$trrext\" 2>&1 | tr \"\\r\" \"\\n\" | fgrep \"Last frame\" | awk '{ print $5 }')\n",
        "t=$(perl -le \"printf(\\\"%.0f\\n\\\", $t)\")\n",
        "\n",
        "while true; do\n",
        "  t=$(($t + $block_ps))\n",
        "\n",
        "  grep \"ns/day\" \"$output_prefix.log\" -A2 -B2 >> \"$output_prefix.clock\"\n",
        "\n",
        "  # Send output to the output folder\n",
        "  for f in $output_prefix.*; do\n",
        "    if [[ \"${f: -1}\" == \"~\" || ! -s \"$f\" ]]; then\n",
        "      continue\n",
        "    fi\n",
        "    if [[ -s \"$project_folder/$f\" ]]; then\n",
        "      mv \"$project_folder/$f\" \"$project_folder/$f~\"\n",
        "    fi\n",
        "    cp \"$f\" \"$project_folder/\"\n",
        "  done\n",
        "  \n",
        "  # Check RMSD of specified group\n",
        "  if [[ ! -z \"$rmsd_group\" && ! -z \"$rmsd_early_stop_threshold_nm\" ]] && perl -le \"$rmsd_early_stop_threshold_nm > 0.001 ? exit 0 : exit 1\"; then\n",
        "    {\n",
        "      echo \"C-alpha\"\n",
        "      echo \"$rmsd_group\"\n",
        "    } | gmx rms -s \"$output_prefix.tpr\" -f \"$output_prefix.$trrext\" -b $(($t - $block_ps))\n",
        "    rmsd_alarm=$(sed '/^[#@&]/d; /^ *$/d' \"rmsd.xvg\" | awk \"\\$2 > $rmsd_early_stop_threshold_nm\" | wc -l)\n",
        "    if (( $rmsd_alarm > 0 )); then\n",
        "      echo \"Notice: detected that RMSD of $rmsd_group exceeded threshold $rmsd_early_stop_threshold_nm nm\" >&2\n",
        "      break\n",
        "    fi\n",
        "  fi\n",
        "\n",
        "  # End if we have reached the end of the simulation duration\n",
        "  if (( $t >= $simulation_duration_ps )); then\n",
        "    break\n",
        "  fi\n",
        "\n",
        "  # Run the simulation\n",
        "  echo \"***\"\n",
        "  echo \"Block: $t ps / $simulation_duration_ps ps    (Block size: $block_ps ps)\"\n",
        "  echo \"***\"\n",
        "  gmx convert-tpr -s \"$output_prefix.tpr\" -extend $block_ps -o \"tprout.tpr\"\n",
        "  mv \"tprout.tpr\" \"$output_prefix.tpr\"\n",
        "  gmx mdrun -s \"$output_prefix.tpr\" -cpi \"$output_prefix.cpt\" -v -stepout 1000 -deffnm \"$output_prefix\"\n",
        "done\n",
        "\n",
        "gmx trjconv -f \"$output_prefix.$trrext\" -s \"$output_prefix.tpr\" -pbc whole -o \"$output_prefix.whole.xtc\" <<< 0\n",
        "cp \"$output_prefix.whole.xtc\" \"$project_folder/\"\n",
        "\n",
        "if [[ ! -z \"$rmsd_group\" ]]; then\n",
        "  {\n",
        "    echo \"C-alpha\"\n",
        "    echo \"$rmsd_group\"\n",
        "  } | gmx rms -s \"$output_prefix.tpr\" -f \"$output_prefix.$trrext\"\n",
        "  echo \"Time_(ns),RMSD_(A)\" > \"$output_prefix.rmsd.csv\"\n",
        "  sed '/^[#@&]/d; /^ *$/d' \"rmsd.xvg\" | awk '{ print $1 / 1000\",\"10 * $2 }' >> \"$output_prefix.rmsd.csv\"\n",
        "fi"
      ],
      "metadata": {
        "id": "lQCxDPfFuYDb",
        "cellView": "form"
      },
      "execution_count": null,
      "outputs": []
    },
    {
      "cell_type": "code",
      "source": [
        "#@markdown Execute the simulation script:\n",
        "#@markdown 1. Run a loop of 1 ns blocks until the **production simulation** is complete -- each loop saves a partial output.\n",
        "#@markdown 2. Save the postprocessed final output.\n",
        "!bash \"run.bash\" \"$project_folder\" \"$simulation_duration_ps\" \"$rmsd_group\" \"$rmsd_early_stop_threshold_nm\" \"$output_prefix\"\n",
        "!sleep 10"
      ],
      "metadata": {
        "cellView": "form",
        "id": "1eeGZPavxbQG"
      },
      "execution_count": null,
      "outputs": []
    },
    {
      "cell_type": "code",
      "source": [
        "#@markdown If a group was monitored for its RMSD along its simulated trajectory, save a plot of its RMSD over time.\n",
        "\n",
        "if os.path.isfile(f\"{output_prefix}.rmsd.csv\"):\n",
        "  import pandas as pd\n",
        "  import matplotlib.pyplot as plt\n",
        "  import seaborn as sns\n",
        "  data = pd.read_csv(f\"{output_prefix}.rmsd.csv\")\n",
        "  lp = sns.lineplot(data=data, x=\"Time_(ns)\", y=\"RMSD_(A)\")\n",
        "  lp.figure.savefig(f\"{output_prefix}.rmsd.png\")\n",
        "  plt.show()\n",
        "\n",
        "  shutil.copy(f\"{output_prefix}.rmsd.csv\", project_folder)\n",
        "  shutil.copy(f\"{output_prefix}.rmsd.png\", project_folder)"
      ],
      "metadata": {
        "cellView": "form",
        "id": "FWgbuRBgujGm"
      },
      "execution_count": null,
      "outputs": []
    },
    {
      "cell_type": "code",
      "source": [
        "#@markdown Finally, disconnect the runtime. (This option is ignored if the project folder is not in your Google Drive.)\n",
        "disconnect = True #@param {type: \"boolean\"}\n",
        "\n",
        "if disconnect and project_folder.startswith(\"/content/drive/MyDrive/\"):\n",
        "  from google.colab import runtime\n",
        "  runtime.unassign()"
      ],
      "metadata": {
        "cellView": "form",
        "id": "QCfsHZdbxNAv"
      },
      "execution_count": null,
      "outputs": []
    }
  ]
}