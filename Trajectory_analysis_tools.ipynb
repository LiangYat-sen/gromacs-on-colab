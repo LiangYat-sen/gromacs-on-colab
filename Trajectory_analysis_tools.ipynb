{
 "cells": [
  {
   "cell_type": "markdown",
   "metadata": {
    "id": "4zwSgdGDP9cV"
   },
   "source": [
    "#### Trajectory analysis tools <font color=\"DarkSeaGreen\">/ GROMACS-on-Colab</font>\n",
    "<small>Suite: [`Build_to_Google_Drive.ipynb`](https://colab.research.google.com/github/bioinfkaustin/gromacs-on-colab/blob/main/Build_to_Google_Drive.ipynb) | [`GROMACS_for_CHARMM-GUI.ipynb`](https://colab.research.google.com/github/bioinfkaustin/gromacs-on-colab/blob/main/GROMACS_for_CHARMM-GUI.ipynb) | [`GROMACS_for_production.ipynb`](https://colab.research.google.com/github/bioinfkaustin/gromacs-on-colab/blob/main/GROMACS_for_production.ipynb) | `Trajectory_analysis_tools.ipynb`</small>"
   ]
  },
  {
   "cell_type": "markdown",
   "metadata": {
    "id": "vv5cq2Wv7UhB"
   },
   "source": [
    "#### Documentation\n",
    "Please click ***↳ cells hidden*** below to show the documentation for this notebook."
   ]
  },
  {
   "cell_type": "markdown",
   "metadata": {
    "id": "5dTAvj38Dal8"
   },
   "source": [
    "##### License\n",
    "\n",
    "> This notebook as a work of software is licensed under the terms of the [AGPL-3.0](https://opensource.org/licenses/AGPL-3.0) or later."
   ]
  },
  {
   "cell_type": "markdown",
   "metadata": {
    "id": "Jb0ESikELkRH"
   },
   "source": [
    "##### About this software\n",
    "\n",
    "> This notebook allows a number of **analysis tools** to be run on a simulated trajectory. A description of each tool is provided in its respective code cell.\n",
    ">\n",
    "> The specified **run folder** must contain the final output of a production simulation (e.g. `sim_reference.xtc`), on which the analyses will be performed."
   ]
  },
  {
   "cell_type": "markdown",
   "metadata": {
    "id": "Cl4YtmH7mICa"
   },
   "source": [
    "##### Installation\n",
    "\n",
    "> The installation notebook, [`Build_to_Google_Drive.ipynb`](https://colab.research.google.com/github/bioinfkaustin/gromacs-on-colab/blob/main/Build_to_Google_Drive.ipynb), must be run before using this notebook."
   ]
  },
  {
   "cell_type": "markdown",
   "metadata": {
    "id": "1pWciuVhQCYo"
   },
   "source": [
    "#### Configuration"
   ]
  },
  {
   "cell_type": "code",
   "execution_count": 19,
   "metadata": {
    "cellView": "form",
    "execution": {
     "iopub.execute_input": "2023-07-28T10:20:06.170127Z",
     "iopub.status.busy": "2023-07-28T10:20:06.168998Z",
     "iopub.status.idle": "2023-07-28T10:20:06.304690Z",
     "shell.execute_reply": "2023-07-28T10:20:06.303801Z",
     "shell.execute_reply.started": "2023-07-28T10:20:06.170096Z"
    },
    "id": "Pm9Dk5FBDoF4",
    "scrolled": true,
    "tags": []
   },
   "outputs": [],
   "source": [
    "%%capture\n",
    "\n",
    "import os\n",
    "import re\n",
    "import shutil\n",
    "\n",
    "#@markdown Specify the location of the **GROMACS project folder** to analyse. It should contain the outputs from a production run, e.g. `sim.gro`, `sim.trr` and/or `sim.xtc`, and so on.\n",
    "project_folder = \"{GoogleDrive}/Result/hmuscosa1\" #@param {type: \"string\"}\n",
    "# default: {GoogleDrive}/GROMACS/7FBF_FABPH_vs_octanoic_acid\n",
    "\n",
    "#@markdown Provide the unique filename prefix used for the simulation.\n",
    "output_prefix = \"sim\" #@param {type: \"string\"}\n",
    "# default: sim\n",
    "\n",
    "#@markdown **After filling in this form, run the notebook by clicking *Runtime -> Run all* in the toolbar.**\n",
    "\n",
    "\n",
    "#\n",
    "# Google Drive\n",
    "#\n",
    "\n",
    "if not os.path.isdir(\"/home/aistudio\") and project_folder.startswith(\"{GoogleDrive}\"):\n",
    "  from google.colab import drive\n",
    "  drive.mount(\"/home/aistudio\")\n",
    "\n",
    "if not os.path.isdir(\"/home/aistudio\"):\n",
    "  raise RuntimeError(\"Error: could not connect to Google Drive\")\n",
    "\n",
    "\n",
    "#\n",
    "# Methods for parsing and validation\n",
    "#\n",
    "\n",
    "def _path(s, exists=False):\n",
    "  if \"{GoogleDrive}\" in s and not s.startswith(\"{GoogleDrive}\"):  raise ValueError(f\"Error: {{GoogleDrive}} is a path prefix, but appears later: {s}\")\n",
    "  s = s.format(GoogleDrive=\"/home/aistudio\")\n",
    "  #     ^^^ raises KeyError if any {...} placeholder is present except {GoogleDrive}\n",
    "\n",
    "  if exists  and not os.path.isdir(s):  raise FileNotFoundError(f\"Error: folder not found: {s}\")\n",
    "  return os.path.abspath(s)\n",
    "\n",
    "def parse(s, mandatory=False, path=False, exists=False):\n",
    "  s = s.strip()\n",
    "  # error on e.g. \"\"\n",
    "  if mandatory and not s:\n",
    "    raise ValueError(\"Error: mandatory setting without value\")\n",
    "  # e.g. {GoogleDrive}/archive.tgz -> /content/drive/MyDrive/archive.tgz\n",
    "  if path:\n",
    "    s = _path(s, exists=exists)\n",
    "  return s\n",
    "\n",
    "\n",
    "#\n",
    "# Validate the input values\n",
    "#\n",
    "\n",
    "# project_folder\n",
    "\n",
    "project_folder = parse(project_folder, mandatory=True, path=True, exists=True)\n",
    "\n",
    "\n",
    "# output_prefix\n",
    "\n",
    "if not output_prefix:\n",
    "  raise RuntimeError(\"Error: an output prefix must be provided\")\n",
    "\n",
    "if not re.match(r\"^[0-9a-zA-Z]+$\", output_prefix):\n",
    "  raise RuntimeError(f\"Error: special characters are not allowed in output prefix, but got: {output_prefix}\")\n",
    "\n",
    "\n",
    "#\n",
    "# Make sure that the notebook is in the start folder\n",
    "#\n",
    "\n",
    "if \"START\" not in os.environ or not os.environ[\"START\"]:\n",
    "  %env START={os.getcwd()}\n",
    "else:\n",
    "  %cd {os.environ[\"START\"]}\n",
    "\n",
    "\n",
    "#\n",
    "# Use a clean scratch directory for the rest of the run\n",
    "#\n",
    "\n",
    "try:\n",
    "  shutil.rmtree(\"scratch\")\n",
    "except FileNotFoundError:\n",
    "  pass\n",
    "os.makedirs(\"scratch\")\n",
    "%cd \"scratch\"\n",
    "\n",
    "\n",
    "#\n",
    "# Verbosity\n",
    "#\n",
    "\n",
    "#@markdown \\\n",
    "#@markdown By default, only relevant output is displayed. To see the full output, including any error messages, enable the `verbose` option below.\n",
    "verbose=False #@param {type: \"boolean\"}\n",
    "if verbose:\n",
    "  %env VERBOSE=true\n",
    "else:\n",
    "  %env VERBOSE=false"
   ]
  },
  {
   "cell_type": "markdown",
   "metadata": {
    "id": "lZM0vkKdy6v6"
   },
   "source": [
    "#### Installation"
   ]
  },
  {
   "cell_type": "code",
   "execution_count": 20,
   "metadata": {
    "cellView": "form",
    "execution": {
     "iopub.execute_input": "2023-07-28T10:20:06.306795Z",
     "iopub.status.busy": "2023-07-28T10:20:06.306229Z",
     "iopub.status.idle": "2023-07-28T10:20:06.310943Z",
     "shell.execute_reply": "2023-07-28T10:20:06.310242Z",
     "shell.execute_reply.started": "2023-07-28T10:20:06.306770Z"
    },
    "id": "bhcpS51_dHd4",
    "scrolled": true
   },
   "outputs": [
    {
     "name": "stdout",
     "output_type": "stream",
     "text": [
      "env: STORAGE=/home/aistudio/gromacs-on-colab\r\n"
     ]
    }
   ],
   "source": [
    "#@markdown In the following cells, applications are downloaded from a **persistent cache** in your Google Drive.\n",
    "#@markdown\n",
    "#@markdown This cell sets up the cache folder.\n",
    "\n",
    "storage = \"/home/aistudio/gromacs-on-colab\"\n",
    "%env STORAGE={storage}"
   ]
  },
  {
   "cell_type": "code",
   "execution_count": 21,
   "metadata": {
    "cellView": "form",
    "execution": {
     "iopub.execute_input": "2023-07-28T10:20:06.312162Z",
     "iopub.status.busy": "2023-07-28T10:20:06.311849Z",
     "iopub.status.idle": "2023-07-28T10:20:06.328721Z",
     "shell.execute_reply": "2023-07-28T10:20:06.327967Z",
     "shell.execute_reply.started": "2023-07-28T10:20:06.312142Z"
    },
    "id": "WV8aP1j0Ra0E",
    "scrolled": true
   },
   "outputs": [],
   "source": [
    "%%bash\n",
    "#@markdown **GROMACS** is installed from cache.\n",
    "\n",
    "if [[ -d \"/home/aistudio/gromacs\" ]]; then\n",
    "  exit 0  # already installed\n",
    "fi\n",
    "\n",
    "gromacs_vers=\"2023\" #@param {type: \"string\"}\n",
    "cache_gromacs=\"${STORAGE}/gromacs-${gromacs_vers}.tar.gz\"\n",
    "\n",
    "if [[ -s \"${cache_gromacs}\" ]]; then\n",
    "  tar -xzf \"${cache_gromacs}\" -C \"/usr/local\"\n",
    "else\n",
    "  echo \"Error: GROMACS installation not found\" >&2\n",
    "  echo \"(Have you installed GROMACS to your Google Drive?)\" >&2\n",
    "  exit 1\n",
    "fi"
   ]
  },
  {
   "cell_type": "code",
   "execution_count": 22,
   "metadata": {
    "cellView": "form",
    "execution": {
     "iopub.execute_input": "2023-07-28T10:20:06.330076Z",
     "iopub.status.busy": "2023-07-28T10:20:06.329759Z",
     "iopub.status.idle": "2023-07-28T10:20:06.346020Z",
     "shell.execute_reply": "2023-07-28T10:20:06.345288Z",
     "shell.execute_reply.started": "2023-07-28T10:20:06.330054Z"
    },
    "id": "QWr9d9Pg5-R5",
    "scrolled": true
   },
   "outputs": [],
   "source": [
    "%%bash\n",
    "#@markdown The CHARMM36 forcefield is downloaded from cache.\n",
    "\n",
    "if [[ -d \"${START}/charmm36.ff\" ]]; then\n",
    "  exit 0  # already installed\n",
    "fi\n",
    "\n",
    "charmm36_vers=\"jul2022\" #@param {type: \"string\"}\n",
    "cache_charmm36=\"${STORAGE}/charmm36-${charmm36_vers}.tar.gz\"\n",
    "\n",
    "if [[ -s \"${cache_charmm36}\" ]]; then\n",
    "  tar -xzf \"${cache_charmm36}\" -C \"${START}\"\n",
    "else\n",
    "  echo \"Error: CHARMM36 forcefield installation not found\" >&2\n",
    "  echo \"(Have you installed the CHARMM36 forcefield to your Google Drive?)\" >&2\n",
    "  exit 1\n",
    "fi"
   ]
  },
  {
   "cell_type": "markdown",
   "metadata": {
    "id": "reax83yQAG-9"
   },
   "source": [
    "#### Input"
   ]
  },
  {
   "cell_type": "code",
   "execution_count": 23,
   "metadata": {
    "cellView": "form",
    "execution": {
     "iopub.execute_input": "2023-07-28T10:20:06.348092Z",
     "iopub.status.busy": "2023-07-28T10:20:06.347666Z",
     "iopub.status.idle": "2023-07-28T10:20:08.014215Z",
     "shell.execute_reply": "2023-07-28T10:20:08.013415Z",
     "shell.execute_reply.started": "2023-07-28T10:20:06.348070Z"
    },
    "id": "KhWcXUPPzoNk",
    "scrolled": true
   },
   "outputs": [
    {
     "name": "stdout",
     "output_type": "stream",
     "text": [
      "~/Result/hmuscosa1 ~/scratch\r\n",
      "~/scratch\r\n"
     ]
    }
   ],
   "source": [
    "%%bash -s \"$project_folder\" \"$output_prefix\"\n",
    "project_folder=\"$1\"\n",
    "output_prefix=\"$2\"\n",
    "#@markdown Extract the trajectory from the project folder.\n",
    "\n",
    "if [[ ! -z \"$(ls -A)\" ]]; then\n",
    "  exit 0  # already extracted\n",
    "fi\n",
    "\n",
    "if [[ ! -d \"${project_folder}\" ]]; then\n",
    "  echo \"Error: folder not found: ${project_folder}\" >&2\n",
    "  exit 1\n",
    "fi\n",
    "\n",
    "pushd \"${project_folder}\"\n",
    "\n",
    "cp \"grompp.mdp\"  \"conf.gro\"  \"restraint.gro\"  \"index.ndx\"  \"topol.top\"  \"${START}/scratch/\" 2> /dev/null\n",
    "\n",
    "top_level_dir=\"$(realpath .)\"\n",
    "function get_includes_recursively {\n",
    "  f=\"$1\"\n",
    "  sed -E \"/^#include/!d; s/^#include +['\\\"]//; s/['\\\"]$//\" \"${f}\" | while read -r g; do\n",
    "    d=\"$(dirname \"${g}\")\"\n",
    "    b=\"$(basename \"${g}\")\"\n",
    "    pushd \"${d}\" > /dev/null\n",
    "    get_includes_recursively \"${b}\"\n",
    "    echo \"$(realpath --relative-to=\"${top_level_dir}\" \"${b}\")\"\n",
    "    popd > /dev/null\n",
    "  done\n",
    "}\n",
    "get_includes_recursively \"topol.top\" | while read -r f; do\n",
    "  cp --parents \"${f}\" \"${START}/scratch/\"\n",
    "done\n",
    "\n",
    "# Convert old-style backups to new-style backups\n",
    "ls \"${output_prefix}\".*~ 2> /dev/null | while read -r f; do\n",
    "  g=\"${f:: -1}\"\n",
    "  mv --no-clobber \"${f}\" \"_${g}_\" && touch \"${g}\"\n",
    "done\n",
    "\n",
    "cp \"${output_prefix}\".*  \"#${output_prefix}.log\".*\"#\"  \"${output_prefix}_reference.xtc\"  \"${START}/scratch/\" 2> /dev/null\n",
    "\n",
    "popd\n",
    "\n",
    "if [[ ! -s \"grompp.mdp\" || ! -s \"conf.gro\" || ! -s \"topol.top\" ]]; then\n",
    "  echo \"Error: essential files not found: grompp.mdp, conf.gro, topol.top\" >&2\n",
    "  exit 1\n",
    "fi\n",
    "\n",
    "\n",
    "# Backwards compatibility with older versions of the production notebook\n",
    "if [[ ! -s \"sim_reference.xtc\" ]]; then\n",
    "  if [[ -s \"sim.whole-progressive-fit.xtc\" ]]; then\n",
    "    mv \"sim.whole-progressive-fit.xtc\" \"sim_reference.xtc\"\n",
    "  elif [[ -s \"sim.whole.xtc\" ]]; then\n",
    "    mv \"sim.whole.xtc\" \"sim_reference.xtc\"\n",
    "  elif [[ -s \"sim.xtc\" ]]; then\n",
    "    mv \"sim.xtc\" \"sim_reference.xtc\"\n",
    "  fi\n",
    "fi"
   ]
  },
  {
   "cell_type": "markdown",
   "metadata": {
    "id": "RjORKXToACjc"
   },
   "source": [
    "#### Analyses"
   ]
  },
  {
   "cell_type": "code",
   "execution_count": 24,
   "metadata": {
    "cellView": "form",
    "execution": {
     "iopub.execute_input": "2023-07-28T10:20:08.015513Z",
     "iopub.status.busy": "2023-07-28T10:20:08.015193Z",
     "iopub.status.idle": "2023-07-28T10:20:08.031966Z",
     "shell.execute_reply": "2023-07-28T10:20:08.030787Z",
     "shell.execute_reply.started": "2023-07-28T10:20:08.015491Z"
    },
    "id": "nwaG8Uh6DO0R",
    "scrolled": true
   },
   "outputs": [
    {
     "ename": "StopIteration",
     "evalue": "Please continue by running the desired cells manually.",
     "output_type": "error",
     "traceback": [
      "\u001b[0;31m---------------------------------------------------------------------------\u001b[0m",
      "\u001b[0;31mStopIteration\u001b[0m                             Traceback (most recent call last)",
      "Cell \u001b[0;32mIn[24], line 4\u001b[0m\n\u001b[1;32m      1\u001b[0m \u001b[38;5;66;03m#@markdown This cell deliberately throws an error, to interrupt *Run all*.\u001b[39;00m\n\u001b[1;32m      2\u001b[0m \u001b[38;5;66;03m#@markdown\u001b[39;00m\n\u001b[1;32m      3\u001b[0m \u001b[38;5;66;03m#@markdown **In the cells below, press the <u>play button</u> (left) to use the specified tool.**\u001b[39;00m\n\u001b[0;32m----> 4\u001b[0m \u001b[38;5;28;01mraise\u001b[39;00m \u001b[38;5;167;01mStopIteration\u001b[39;00m(\u001b[38;5;124m\"\u001b[39m\u001b[38;5;124mPlease continue by running the desired cells manually.\u001b[39m\u001b[38;5;124m\"\u001b[39m)\n",
      "\u001b[0;31mStopIteration\u001b[0m: Please continue by running the desired cells manually."
     ]
    }
   ],
   "source": [
    "#@markdown This cell deliberately throws an error, to interrupt *Run all*.\n",
    "#@markdown\n",
    "#@markdown **In the cells below, press the <u>play button</u> (left) to use the specified tool.**\n",
    "raise StopIteration(\"Please continue by running the desired cells manually.\")\n",
    "\n"
   ]
  },
  {
   "cell_type": "markdown",
   "metadata": {
    "id": "oyzcEN77agrl"
   },
   "source": [
    "  \\"
   ]
  },
  {
   "cell_type": "code",
   "execution_count": 37,
   "metadata": {
    "cellView": "form",
    "execution": {
     "iopub.execute_input": "2023-07-28T10:44:18.268360Z",
     "iopub.status.busy": "2023-07-28T10:44:18.267249Z",
     "iopub.status.idle": "2023-07-28T10:44:18.299999Z",
     "shell.execute_reply": "2023-07-28T10:44:18.298984Z",
     "shell.execute_reply.started": "2023-07-28T10:44:18.268328Z"
    },
    "id": "u6HS-fy8a2bq",
    "scrolled": true
   },
   "outputs": [],
   "source": [
    "%%bash -s \"$project_folder\"\n",
    "project_folder=\"$1\"\n",
    "\n",
    "#@markdown **Save analyses to Google Drive.** After using the tools below, run this cell to save outputs (e.g. graphs) to the project folder.\n",
    "#@markdown\n",
    "#@markdown <font size=5> </font>\n",
    "#@markdown <small>*Input:* `dat.*`</small>\n",
    "\n",
    "cp \"dat.\"* \"${project_folder}/\""
   ]
  },
  {
   "cell_type": "markdown",
   "metadata": {
    "id": "wDjIJRSIa1Gq"
   },
   "source": [
    "  \\"
   ]
  },
  {
   "cell_type": "code",
   "execution_count": 25,
   "metadata": {
    "cellView": "form",
    "execution": {
     "iopub.execute_input": "2023-07-28T10:28:20.397695Z",
     "iopub.status.busy": "2023-07-28T10:28:20.397192Z",
     "iopub.status.idle": "2023-07-28T10:28:20.728686Z",
     "shell.execute_reply": "2023-07-28T10:28:20.727935Z",
     "shell.execute_reply.started": "2023-07-28T10:28:20.397668Z"
    },
    "id": "xXKZaZh068o3",
    "scrolled": true,
    "tags": []
   },
   "outputs": [
    {
     "name": "stdout",
     "output_type": "stream",
     "text": [
      "***\r\n",
      "Made:  dat.sim_centroid_LIG_0-1000.gro\r\n",
      "***\r\n"
     ]
    }
   ],
   "source": [
    "%%bash -s \"$output_prefix\"\n",
    "exec 3>&1\n",
    "if $VERBOSE; then\n",
    "  exec 2>&1  # fix stderr and stdout appearing out of order\n",
    "else\n",
    "  exec >/dev/null 2>/dev/null  # silence\n",
    "fi\n",
    "output_prefix=\"$1\"\n",
    "\n",
    "#@markdown **Compute a centroid,** a representative frame within a time range.\n",
    "#@markdown\n",
    "#@markdown The frames in the time range are clustered by the RMSD of the specified group. In the largest cluster, the frame with the smallest mean RMSD to the other frames is the \"centroid.\"\n",
    "rmsd_group=\"LIG\" #@param {type: \"string\"}\n",
    "start_ps=0 #@param {type: \"integer\"}\n",
    "end_ps=1000 #@param {type: \"integer\"}\n",
    "#@markdown <font size=5> </font>\n",
    "#@markdown <small>*Output:* `dat.{output_prefix}_centroid_{rmsd_group}_{start_ps}-{end_ps}.gro`</small>\n",
    "\n",
    "source \"/home/aistudio/gromacs/bin/GMXRC.bash\"\n",
    "\n",
    "\n",
    "# Calculate the all-against-all matrix of RMSDs for the time range\n",
    "( echo \"C-alpha\"; echo \"${rmsd_group}\" ) | gmx rms -nomw -s \"${output_prefix}.tpr\" -f \"${output_prefix}_reference.xtc\" -b $start_ps -e $end_ps -m \"rmsd.xpm\"\n",
    "\n",
    "# Use the RMSDs to cluster the frames in the time range\n",
    "( echo \"System\"; echo \"System\" ) | gmx cluster -s \"${output_prefix}.tpr\" -f \"${output_prefix}_reference.xtc\" -b $start_ps -e $end_ps -dm \"rmsd.xpm\" -cl \"clusters.gro\" -clid \"clust-id.xvg\" -sz \"clust-size.xvg\"\n",
    "\n",
    "# Get the centroid of the largest cluster\n",
    "target_frame=$(paste <(fgrep \"frame t=\" \"clusters.gro\") <(sed '/^[@#]/d' \"clust-size.xvg\") | sort -n -k5 | tail -n1 | awk '{ print $3 }')\n",
    "name=\"${output_prefix}_centroid_${rmsd_group}_${start_ps}-${end_ps}\"\n",
    "gmx trjconv -s \"${output_prefix}.tpr\" -f \"${output_prefix}_reference.xtc\" -dump $target_frame -o \"dat.${name}.gro\" <<< \"0\"\n",
    "\n",
    "rm \"rmsd.xpm\" \"clusters.gro\" \"clust-id.xvg\" \"clust-size.xvg\"\n",
    "\n",
    "for i in $(seq 5); do echo \"\"; done\n",
    "{\n",
    "  echo \"***\"\n",
    "  echo \"Made:  dat.${name}.gro\"\n",
    "  echo \"***\"\n",
    "} >&3"
   ]
  },
  {
   "cell_type": "markdown",
   "metadata": {
    "id": "Xj4_U0QkanKh"
   },
   "source": [
    "  \\"
   ]
  },
  {
   "cell_type": "code",
   "execution_count": 26,
   "metadata": {
    "cellView": "form",
    "execution": {
     "iopub.execute_input": "2023-07-28T10:28:39.417024Z",
     "iopub.status.busy": "2023-07-28T10:28:39.415886Z",
     "iopub.status.idle": "2023-07-28T10:28:40.024558Z",
     "shell.execute_reply": "2023-07-28T10:28:40.023246Z",
     "shell.execute_reply.started": "2023-07-28T10:28:39.416991Z"
    },
    "id": "9NvIMpWA6Wfd",
    "scrolled": true,
    "tags": []
   },
   "outputs": [
    {
     "ename": "CalledProcessError",
     "evalue": "Command 'b'output_prefix=\"$1\"\\nexec 3>&1\\nif $VERBOSE; then\\n  exec 2>&1  # fix stderr and stdout appearing out of order\\nelse\\n  exec >/dev/null 2>/dev/null  # silence\\nfi\\n\\n#@markdown **Compute RMSD over time data** for the trajectory, with respect to some specified frame of reference.\\n#@markdown\\n#@markdown A frame of reference can either be a **time** in ps, e.g. 0, or a **time range of a computed centroid**, e.g. 0-1000.\\n#@markdown\\n#@markdown (For convenience, you may specify multiple RMSD groups and/or frames of reference, comma separated, and all will be calculated.)\\nrmsd_group=\"LIG\" #@param {type: \"string\"}\\nreference_ps=\"0, 0-1000\" #@param {type: \"string\"}\\n#@markdown <font size=5> </font>\\n#@markdown <small>*Input:* optionally, if a centroid is specified, needs `dat.{output_prefix}_centroid_{rmsd_group}_{start_ps}-{end_ps}.gro` \\\\\\\\\\n#@markdown *Output:* `dat.{output_prefix}_rmsd_{rmsd_group}_{reference_ps}.csv`</small>\\n\\nsource \"/home/aistudio/gromacs/bin/GMXRC.bash\"\\n\\nlog=\"$(mktemp)\"\\n\\nrmsd_groups=\"$(tr -d \" \" <<< \"${rmsd_group}\" | tr \",\" \" \")\"\\nfor rmsd_group in $rmsd_groups; do\\n\\n  ranges_ps=\"$(tr -d \" \" <<< \"${reference_ps}\" | tr \",\" \" \")\"\\n  for range_ps in $ranges_ps; do\\n\\n    if [[ -z \"${range_ps}\" || $range_ps == 0 ]]; then  # first frame\\n      if [[ -s \"conf.gro\" ]]; then\\n        input=\"conf.gro\"\\n      else\\n        range_ps=0  # extract the first frame later\\n      fi\\n    fi\\n\\n    if [[ -z \"${range_ps}\" ]]; then  # already handled\\n      :\\n    elif [[ \"${range_ps}\" =~ - ]]; then  # a centroid already calculated\\n      input=\"dat.${output_prefix}_centroid_${rmsd_group}_${range_ps}.gro\"\\n      if [[ ! -s \"${input}\" ]]; then\\n        echo \"Error: centroid not found for range ${range_ps}: ${input}\" >&2\\n        exit 1\\n      fi\\n    else  # some specified frame to extract\\n      frame_ps=$(($range_ps))\\n      if [[ -z \"${frame_ps}\" ]]; then\\n        echo \"Error: invalid frame time: ${frame_ps}\" >&2\\n        exit 1\\n      fi\\n      input=\"dat.${output_prefix}_frame_${frame_ps}.gro\"\\n      if [[ ! -s \"${input}\" ]]; then\\n        gmx trjconv -s \"${output_prefix}.tpr\" -f \"${output_prefix}_reference.xtc\" -dump $frame_ps -o \"${input}\" <<< \"0\"\\n\\n        echo \"Made:  ${input}\" >> \"${log}\"\\n      fi\\n    fi\\n\\n    ( echo \"C-alpha\"; echo \"${rmsd_group}\"; ) | gmx rms -nomw -s \"${input}\" -n \"index.ndx\" -f \"${output_prefix}_reference.xtc\" -o \"rmsd.xvg\"\\n\\n    name=\"${output_prefix}_rmsd_${rmsd_group}_${range_ps}\"\\n    {\\n      echo \"Time_(ns),RMSD_(A)\"\\n      sed \\'/^[@#]/d\\' \"rmsd.xvg\" | awk \\'{ print $1/1000\",\"$2*10 }\\'\\n    } > \"dat.${name}.csv\"\\n\\n    echo \"Made:  dat.${name}.csv\" >> \"${log}\"\\n\\n    rm \"rmsd.xvg\"\\n\\n  done\\n\\ndone\\n\\nfor i in $(seq 5); do echo \"\"; done\\n{\\n  echo \"***\"\\n  cat \"${log}\"\\n  echo \"***\"\\n} >&3\\nrm \"${log}\"\\n'' returned non-zero exit status 1.",
     "output_type": "error",
     "traceback": [
      "\u001b[0;31m---------------------------------------------------------------------------\u001b[0m",
      "\u001b[0;31mCalledProcessError\u001b[0m                        Traceback (most recent call last)",
      "Cell \u001b[0;32mIn[26], line 1\u001b[0m\n\u001b[0;32m----> 1\u001b[0m \u001b[43mget_ipython\u001b[49m\u001b[43m(\u001b[49m\u001b[43m)\u001b[49m\u001b[38;5;241;43m.\u001b[39;49m\u001b[43mrun_cell_magic\u001b[49m\u001b[43m(\u001b[49m\u001b[38;5;124;43m'\u001b[39;49m\u001b[38;5;124;43mbash\u001b[39;49m\u001b[38;5;124;43m'\u001b[39;49m\u001b[43m,\u001b[49m\u001b[43m \u001b[49m\u001b[38;5;124;43m'\u001b[39;49m\u001b[38;5;124;43m-s \u001b[39;49m\u001b[38;5;124;43m\"\u001b[39;49m\u001b[38;5;124;43m$output_prefix\u001b[39;49m\u001b[38;5;124;43m\"\u001b[39;49m\u001b[38;5;124;43m'\u001b[39;49m\u001b[43m,\u001b[49m\u001b[43m \u001b[49m\u001b[38;5;124;43m'\u001b[39;49m\u001b[38;5;124;43moutput_prefix=\u001b[39;49m\u001b[38;5;124;43m\"\u001b[39;49m\u001b[38;5;124;43m$1\u001b[39;49m\u001b[38;5;124;43m\"\u001b[39;49m\u001b[38;5;130;43;01m\\n\u001b[39;49;00m\u001b[38;5;124;43mexec 3>&1\u001b[39;49m\u001b[38;5;130;43;01m\\n\u001b[39;49;00m\u001b[38;5;124;43mif $VERBOSE; then\u001b[39;49m\u001b[38;5;130;43;01m\\n\u001b[39;49;00m\u001b[38;5;124;43m  exec 2>&1  # fix stderr and stdout appearing out of order\u001b[39;49m\u001b[38;5;130;43;01m\\n\u001b[39;49;00m\u001b[38;5;124;43melse\u001b[39;49m\u001b[38;5;130;43;01m\\n\u001b[39;49;00m\u001b[38;5;124;43m  exec >/dev/null 2>/dev/null  # silence\u001b[39;49m\u001b[38;5;130;43;01m\\n\u001b[39;49;00m\u001b[38;5;124;43mfi\u001b[39;49m\u001b[38;5;130;43;01m\\n\u001b[39;49;00m\u001b[38;5;130;43;01m\\n\u001b[39;49;00m\u001b[38;5;124;43m#@markdown **Compute RMSD over time data** for the trajectory, with respect to some specified frame of reference.\u001b[39;49m\u001b[38;5;130;43;01m\\n\u001b[39;49;00m\u001b[38;5;124;43m#@markdown\u001b[39;49m\u001b[38;5;130;43;01m\\n\u001b[39;49;00m\u001b[38;5;124;43m#@markdown A frame of reference can either be a **time** in ps, e.g. 0, or a **time range of a computed centroid**, e.g. 0-1000.\u001b[39;49m\u001b[38;5;130;43;01m\\n\u001b[39;49;00m\u001b[38;5;124;43m#@markdown\u001b[39;49m\u001b[38;5;130;43;01m\\n\u001b[39;49;00m\u001b[38;5;124;43m#@markdown (For convenience, you may specify multiple RMSD groups and/or frames of reference, comma separated, and all will be calculated.)\u001b[39;49m\u001b[38;5;130;43;01m\\n\u001b[39;49;00m\u001b[38;5;124;43mrmsd_group=\u001b[39;49m\u001b[38;5;124;43m\"\u001b[39;49m\u001b[38;5;124;43mLIG\u001b[39;49m\u001b[38;5;124;43m\"\u001b[39;49m\u001b[38;5;124;43m #@param \u001b[39;49m\u001b[38;5;124;43m{\u001b[39;49m\u001b[38;5;124;43mtype: \u001b[39;49m\u001b[38;5;124;43m\"\u001b[39;49m\u001b[38;5;124;43mstring\u001b[39;49m\u001b[38;5;124;43m\"\u001b[39;49m\u001b[38;5;124;43m}\u001b[39;49m\u001b[38;5;130;43;01m\\n\u001b[39;49;00m\u001b[38;5;124;43mreference_ps=\u001b[39;49m\u001b[38;5;124;43m\"\u001b[39;49m\u001b[38;5;124;43m0, 0-1000\u001b[39;49m\u001b[38;5;124;43m\"\u001b[39;49m\u001b[38;5;124;43m #@param \u001b[39;49m\u001b[38;5;124;43m{\u001b[39;49m\u001b[38;5;124;43mtype: \u001b[39;49m\u001b[38;5;124;43m\"\u001b[39;49m\u001b[38;5;124;43mstring\u001b[39;49m\u001b[38;5;124;43m\"\u001b[39;49m\u001b[38;5;124;43m}\u001b[39;49m\u001b[38;5;130;43;01m\\n\u001b[39;49;00m\u001b[38;5;124;43m#@markdown <font size=5> </font>\u001b[39;49m\u001b[38;5;130;43;01m\\n\u001b[39;49;00m\u001b[38;5;124;43m#@markdown <small>*Input:* optionally, if a centroid is specified, needs `dat.\u001b[39;49m\u001b[38;5;132;43;01m{output_prefix}\u001b[39;49;00m\u001b[38;5;124;43m_centroid_\u001b[39;49m\u001b[38;5;132;43;01m{rmsd_group}\u001b[39;49;00m\u001b[38;5;124;43m_\u001b[39;49m\u001b[38;5;132;43;01m{start_ps}\u001b[39;49;00m\u001b[38;5;124;43m-\u001b[39;49m\u001b[38;5;132;43;01m{end_ps}\u001b[39;49;00m\u001b[38;5;124;43m.gro` \u001b[39;49m\u001b[38;5;130;43;01m\\\\\u001b[39;49;00m\u001b[38;5;130;43;01m\\\\\u001b[39;49;00m\u001b[38;5;130;43;01m\\n\u001b[39;49;00m\u001b[38;5;124;43m#@markdown *Output:* `dat.\u001b[39;49m\u001b[38;5;132;43;01m{output_prefix}\u001b[39;49;00m\u001b[38;5;124;43m_rmsd_\u001b[39;49m\u001b[38;5;132;43;01m{rmsd_group}\u001b[39;49;00m\u001b[38;5;124;43m_\u001b[39;49m\u001b[38;5;132;43;01m{reference_ps}\u001b[39;49;00m\u001b[38;5;124;43m.csv`</small>\u001b[39;49m\u001b[38;5;130;43;01m\\n\u001b[39;49;00m\u001b[38;5;130;43;01m\\n\u001b[39;49;00m\u001b[38;5;124;43msource \u001b[39;49m\u001b[38;5;124;43m\"\u001b[39;49m\u001b[38;5;124;43m/home/aistudio/gromacs/bin/GMXRC.bash\u001b[39;49m\u001b[38;5;124;43m\"\u001b[39;49m\u001b[38;5;130;43;01m\\n\u001b[39;49;00m\u001b[38;5;130;43;01m\\n\u001b[39;49;00m\u001b[38;5;124;43mlog=\u001b[39;49m\u001b[38;5;124;43m\"\u001b[39;49m\u001b[38;5;124;43m$(mktemp)\u001b[39;49m\u001b[38;5;124;43m\"\u001b[39;49m\u001b[38;5;130;43;01m\\n\u001b[39;49;00m\u001b[38;5;130;43;01m\\n\u001b[39;49;00m\u001b[38;5;124;43mrmsd_groups=\u001b[39;49m\u001b[38;5;124;43m\"\u001b[39;49m\u001b[38;5;124;43m$(tr -d \u001b[39;49m\u001b[38;5;124;43m\"\u001b[39;49m\u001b[38;5;124;43m \u001b[39;49m\u001b[38;5;124;43m\"\u001b[39;49m\u001b[38;5;124;43m <<< \u001b[39;49m\u001b[38;5;124;43m\"\u001b[39;49m\u001b[38;5;124;43m$\u001b[39;49m\u001b[38;5;132;43;01m{rmsd_group}\u001b[39;49;00m\u001b[38;5;124;43m\"\u001b[39;49m\u001b[38;5;124;43m | tr \u001b[39;49m\u001b[38;5;124;43m\"\u001b[39;49m\u001b[38;5;124;43m,\u001b[39;49m\u001b[38;5;124;43m\"\u001b[39;49m\u001b[38;5;124;43m \u001b[39;49m\u001b[38;5;124;43m\"\u001b[39;49m\u001b[38;5;124;43m \u001b[39;49m\u001b[38;5;124;43m\"\u001b[39;49m\u001b[38;5;124;43m)\u001b[39;49m\u001b[38;5;124;43m\"\u001b[39;49m\u001b[38;5;130;43;01m\\n\u001b[39;49;00m\u001b[38;5;124;43mfor rmsd_group in $rmsd_groups; do\u001b[39;49m\u001b[38;5;130;43;01m\\n\u001b[39;49;00m\u001b[38;5;130;43;01m\\n\u001b[39;49;00m\u001b[38;5;124;43m  ranges_ps=\u001b[39;49m\u001b[38;5;124;43m\"\u001b[39;49m\u001b[38;5;124;43m$(tr -d \u001b[39;49m\u001b[38;5;124;43m\"\u001b[39;49m\u001b[38;5;124;43m \u001b[39;49m\u001b[38;5;124;43m\"\u001b[39;49m\u001b[38;5;124;43m <<< \u001b[39;49m\u001b[38;5;124;43m\"\u001b[39;49m\u001b[38;5;124;43m$\u001b[39;49m\u001b[38;5;132;43;01m{reference_ps}\u001b[39;49;00m\u001b[38;5;124;43m\"\u001b[39;49m\u001b[38;5;124;43m | tr \u001b[39;49m\u001b[38;5;124;43m\"\u001b[39;49m\u001b[38;5;124;43m,\u001b[39;49m\u001b[38;5;124;43m\"\u001b[39;49m\u001b[38;5;124;43m \u001b[39;49m\u001b[38;5;124;43m\"\u001b[39;49m\u001b[38;5;124;43m \u001b[39;49m\u001b[38;5;124;43m\"\u001b[39;49m\u001b[38;5;124;43m)\u001b[39;49m\u001b[38;5;124;43m\"\u001b[39;49m\u001b[38;5;130;43;01m\\n\u001b[39;49;00m\u001b[38;5;124;43m  for range_ps in $ranges_ps; do\u001b[39;49m\u001b[38;5;130;43;01m\\n\u001b[39;49;00m\u001b[38;5;130;43;01m\\n\u001b[39;49;00m\u001b[38;5;124;43m    if [[ -z \u001b[39;49m\u001b[38;5;124;43m\"\u001b[39;49m\u001b[38;5;124;43m$\u001b[39;49m\u001b[38;5;132;43;01m{range_ps}\u001b[39;49;00m\u001b[38;5;124;43m\"\u001b[39;49m\u001b[38;5;124;43m || $range_ps == 0 ]]; then  # first frame\u001b[39;49m\u001b[38;5;130;43;01m\\n\u001b[39;49;00m\u001b[38;5;124;43m      if [[ -s \u001b[39;49m\u001b[38;5;124;43m\"\u001b[39;49m\u001b[38;5;124;43mconf.gro\u001b[39;49m\u001b[38;5;124;43m\"\u001b[39;49m\u001b[38;5;124;43m ]]; then\u001b[39;49m\u001b[38;5;130;43;01m\\n\u001b[39;49;00m\u001b[38;5;124;43m        input=\u001b[39;49m\u001b[38;5;124;43m\"\u001b[39;49m\u001b[38;5;124;43mconf.gro\u001b[39;49m\u001b[38;5;124;43m\"\u001b[39;49m\u001b[38;5;130;43;01m\\n\u001b[39;49;00m\u001b[38;5;124;43m      else\u001b[39;49m\u001b[38;5;130;43;01m\\n\u001b[39;49;00m\u001b[38;5;124;43m        range_ps=0  # extract the first frame later\u001b[39;49m\u001b[38;5;130;43;01m\\n\u001b[39;49;00m\u001b[38;5;124;43m      fi\u001b[39;49m\u001b[38;5;130;43;01m\\n\u001b[39;49;00m\u001b[38;5;124;43m    fi\u001b[39;49m\u001b[38;5;130;43;01m\\n\u001b[39;49;00m\u001b[38;5;130;43;01m\\n\u001b[39;49;00m\u001b[38;5;124;43m    if [[ -z \u001b[39;49m\u001b[38;5;124;43m\"\u001b[39;49m\u001b[38;5;124;43m$\u001b[39;49m\u001b[38;5;132;43;01m{range_ps}\u001b[39;49;00m\u001b[38;5;124;43m\"\u001b[39;49m\u001b[38;5;124;43m ]]; then  # already handled\u001b[39;49m\u001b[38;5;130;43;01m\\n\u001b[39;49;00m\u001b[38;5;124;43m      :\u001b[39;49m\u001b[38;5;130;43;01m\\n\u001b[39;49;00m\u001b[38;5;124;43m    elif [[ \u001b[39;49m\u001b[38;5;124;43m\"\u001b[39;49m\u001b[38;5;124;43m$\u001b[39;49m\u001b[38;5;132;43;01m{range_ps}\u001b[39;49;00m\u001b[38;5;124;43m\"\u001b[39;49m\u001b[38;5;124;43m =~ - ]]; then  # a centroid already calculated\u001b[39;49m\u001b[38;5;130;43;01m\\n\u001b[39;49;00m\u001b[38;5;124;43m      input=\u001b[39;49m\u001b[38;5;124;43m\"\u001b[39;49m\u001b[38;5;124;43mdat.$\u001b[39;49m\u001b[38;5;132;43;01m{output_prefix}\u001b[39;49;00m\u001b[38;5;124;43m_centroid_$\u001b[39;49m\u001b[38;5;132;43;01m{rmsd_group}\u001b[39;49;00m\u001b[38;5;124;43m_$\u001b[39;49m\u001b[38;5;132;43;01m{range_ps}\u001b[39;49;00m\u001b[38;5;124;43m.gro\u001b[39;49m\u001b[38;5;124;43m\"\u001b[39;49m\u001b[38;5;130;43;01m\\n\u001b[39;49;00m\u001b[38;5;124;43m      if [[ ! -s \u001b[39;49m\u001b[38;5;124;43m\"\u001b[39;49m\u001b[38;5;124;43m$\u001b[39;49m\u001b[38;5;132;43;01m{input}\u001b[39;49;00m\u001b[38;5;124;43m\"\u001b[39;49m\u001b[38;5;124;43m ]]; then\u001b[39;49m\u001b[38;5;130;43;01m\\n\u001b[39;49;00m\u001b[38;5;124;43m        echo \u001b[39;49m\u001b[38;5;124;43m\"\u001b[39;49m\u001b[38;5;124;43mError: centroid not found for range $\u001b[39;49m\u001b[38;5;132;43;01m{range_ps}\u001b[39;49;00m\u001b[38;5;124;43m: $\u001b[39;49m\u001b[38;5;132;43;01m{input}\u001b[39;49;00m\u001b[38;5;124;43m\"\u001b[39;49m\u001b[38;5;124;43m >&2\u001b[39;49m\u001b[38;5;130;43;01m\\n\u001b[39;49;00m\u001b[38;5;124;43m        exit 1\u001b[39;49m\u001b[38;5;130;43;01m\\n\u001b[39;49;00m\u001b[38;5;124;43m      fi\u001b[39;49m\u001b[38;5;130;43;01m\\n\u001b[39;49;00m\u001b[38;5;124;43m    else  # some specified frame to extract\u001b[39;49m\u001b[38;5;130;43;01m\\n\u001b[39;49;00m\u001b[38;5;124;43m      frame_ps=$(($range_ps))\u001b[39;49m\u001b[38;5;130;43;01m\\n\u001b[39;49;00m\u001b[38;5;124;43m      if [[ -z \u001b[39;49m\u001b[38;5;124;43m\"\u001b[39;49m\u001b[38;5;124;43m$\u001b[39;49m\u001b[38;5;132;43;01m{frame_ps}\u001b[39;49;00m\u001b[38;5;124;43m\"\u001b[39;49m\u001b[38;5;124;43m ]]; then\u001b[39;49m\u001b[38;5;130;43;01m\\n\u001b[39;49;00m\u001b[38;5;124;43m        echo \u001b[39;49m\u001b[38;5;124;43m\"\u001b[39;49m\u001b[38;5;124;43mError: invalid frame time: $\u001b[39;49m\u001b[38;5;132;43;01m{frame_ps}\u001b[39;49;00m\u001b[38;5;124;43m\"\u001b[39;49m\u001b[38;5;124;43m >&2\u001b[39;49m\u001b[38;5;130;43;01m\\n\u001b[39;49;00m\u001b[38;5;124;43m        exit 1\u001b[39;49m\u001b[38;5;130;43;01m\\n\u001b[39;49;00m\u001b[38;5;124;43m      fi\u001b[39;49m\u001b[38;5;130;43;01m\\n\u001b[39;49;00m\u001b[38;5;124;43m      input=\u001b[39;49m\u001b[38;5;124;43m\"\u001b[39;49m\u001b[38;5;124;43mdat.$\u001b[39;49m\u001b[38;5;132;43;01m{output_prefix}\u001b[39;49;00m\u001b[38;5;124;43m_frame_$\u001b[39;49m\u001b[38;5;132;43;01m{frame_ps}\u001b[39;49;00m\u001b[38;5;124;43m.gro\u001b[39;49m\u001b[38;5;124;43m\"\u001b[39;49m\u001b[38;5;130;43;01m\\n\u001b[39;49;00m\u001b[38;5;124;43m      if [[ ! -s \u001b[39;49m\u001b[38;5;124;43m\"\u001b[39;49m\u001b[38;5;124;43m$\u001b[39;49m\u001b[38;5;132;43;01m{input}\u001b[39;49;00m\u001b[38;5;124;43m\"\u001b[39;49m\u001b[38;5;124;43m ]]; then\u001b[39;49m\u001b[38;5;130;43;01m\\n\u001b[39;49;00m\u001b[38;5;124;43m        gmx trjconv -s \u001b[39;49m\u001b[38;5;124;43m\"\u001b[39;49m\u001b[38;5;124;43m$\u001b[39;49m\u001b[38;5;132;43;01m{output_prefix}\u001b[39;49;00m\u001b[38;5;124;43m.tpr\u001b[39;49m\u001b[38;5;124;43m\"\u001b[39;49m\u001b[38;5;124;43m -f \u001b[39;49m\u001b[38;5;124;43m\"\u001b[39;49m\u001b[38;5;124;43m$\u001b[39;49m\u001b[38;5;132;43;01m{output_prefix}\u001b[39;49;00m\u001b[38;5;124;43m_reference.xtc\u001b[39;49m\u001b[38;5;124;43m\"\u001b[39;49m\u001b[38;5;124;43m -dump $frame_ps -o \u001b[39;49m\u001b[38;5;124;43m\"\u001b[39;49m\u001b[38;5;124;43m$\u001b[39;49m\u001b[38;5;132;43;01m{input}\u001b[39;49;00m\u001b[38;5;124;43m\"\u001b[39;49m\u001b[38;5;124;43m <<< \u001b[39;49m\u001b[38;5;124;43m\"\u001b[39;49m\u001b[38;5;124;43m0\u001b[39;49m\u001b[38;5;124;43m\"\u001b[39;49m\u001b[38;5;130;43;01m\\n\u001b[39;49;00m\u001b[38;5;130;43;01m\\n\u001b[39;49;00m\u001b[38;5;124;43m        echo \u001b[39;49m\u001b[38;5;124;43m\"\u001b[39;49m\u001b[38;5;124;43mMade:  $\u001b[39;49m\u001b[38;5;132;43;01m{input}\u001b[39;49;00m\u001b[38;5;124;43m\"\u001b[39;49m\u001b[38;5;124;43m >> \u001b[39;49m\u001b[38;5;124;43m\"\u001b[39;49m\u001b[38;5;124;43m$\u001b[39;49m\u001b[38;5;132;43;01m{log}\u001b[39;49;00m\u001b[38;5;124;43m\"\u001b[39;49m\u001b[38;5;130;43;01m\\n\u001b[39;49;00m\u001b[38;5;124;43m      fi\u001b[39;49m\u001b[38;5;130;43;01m\\n\u001b[39;49;00m\u001b[38;5;124;43m    fi\u001b[39;49m\u001b[38;5;130;43;01m\\n\u001b[39;49;00m\u001b[38;5;130;43;01m\\n\u001b[39;49;00m\u001b[38;5;124;43m    ( echo \u001b[39;49m\u001b[38;5;124;43m\"\u001b[39;49m\u001b[38;5;124;43mC-alpha\u001b[39;49m\u001b[38;5;124;43m\"\u001b[39;49m\u001b[38;5;124;43m; echo \u001b[39;49m\u001b[38;5;124;43m\"\u001b[39;49m\u001b[38;5;124;43m$\u001b[39;49m\u001b[38;5;132;43;01m{rmsd_group}\u001b[39;49;00m\u001b[38;5;124;43m\"\u001b[39;49m\u001b[38;5;124;43m; ) | gmx rms -nomw -s \u001b[39;49m\u001b[38;5;124;43m\"\u001b[39;49m\u001b[38;5;124;43m$\u001b[39;49m\u001b[38;5;132;43;01m{input}\u001b[39;49;00m\u001b[38;5;124;43m\"\u001b[39;49m\u001b[38;5;124;43m -n \u001b[39;49m\u001b[38;5;124;43m\"\u001b[39;49m\u001b[38;5;124;43mindex.ndx\u001b[39;49m\u001b[38;5;124;43m\"\u001b[39;49m\u001b[38;5;124;43m -f \u001b[39;49m\u001b[38;5;124;43m\"\u001b[39;49m\u001b[38;5;124;43m$\u001b[39;49m\u001b[38;5;132;43;01m{output_prefix}\u001b[39;49;00m\u001b[38;5;124;43m_reference.xtc\u001b[39;49m\u001b[38;5;124;43m\"\u001b[39;49m\u001b[38;5;124;43m -o \u001b[39;49m\u001b[38;5;124;43m\"\u001b[39;49m\u001b[38;5;124;43mrmsd.xvg\u001b[39;49m\u001b[38;5;124;43m\"\u001b[39;49m\u001b[38;5;130;43;01m\\n\u001b[39;49;00m\u001b[38;5;130;43;01m\\n\u001b[39;49;00m\u001b[38;5;124;43m    name=\u001b[39;49m\u001b[38;5;124;43m\"\u001b[39;49m\u001b[38;5;124;43m$\u001b[39;49m\u001b[38;5;132;43;01m{output_prefix}\u001b[39;49;00m\u001b[38;5;124;43m_rmsd_$\u001b[39;49m\u001b[38;5;132;43;01m{rmsd_group}\u001b[39;49;00m\u001b[38;5;124;43m_$\u001b[39;49m\u001b[38;5;132;43;01m{range_ps}\u001b[39;49;00m\u001b[38;5;124;43m\"\u001b[39;49m\u001b[38;5;130;43;01m\\n\u001b[39;49;00m\u001b[38;5;124;43m    \u001b[39;49m\u001b[38;5;124;43m{\u001b[39;49m\u001b[38;5;130;43;01m\\n\u001b[39;49;00m\u001b[38;5;124;43m      echo \u001b[39;49m\u001b[38;5;124;43m\"\u001b[39;49m\u001b[38;5;124;43mTime_(ns),RMSD_(A)\u001b[39;49m\u001b[38;5;124;43m\"\u001b[39;49m\u001b[38;5;130;43;01m\\n\u001b[39;49;00m\u001b[38;5;124;43m      sed \u001b[39;49m\u001b[38;5;130;43;01m\\'\u001b[39;49;00m\u001b[38;5;124;43m/^[@#]/d\u001b[39;49m\u001b[38;5;130;43;01m\\'\u001b[39;49;00m\u001b[38;5;124;43m \u001b[39;49m\u001b[38;5;124;43m\"\u001b[39;49m\u001b[38;5;124;43mrmsd.xvg\u001b[39;49m\u001b[38;5;124;43m\"\u001b[39;49m\u001b[38;5;124;43m | awk \u001b[39;49m\u001b[38;5;130;43;01m\\'\u001b[39;49;00m\u001b[38;5;124;43m{\u001b[39;49m\u001b[38;5;124;43m print $1/1000\u001b[39;49m\u001b[38;5;124;43m\"\u001b[39;49m\u001b[38;5;124;43m,\u001b[39;49m\u001b[38;5;124;43m\"\u001b[39;49m\u001b[38;5;124;43m$2*10 }\u001b[39;49m\u001b[38;5;130;43;01m\\'\u001b[39;49;00m\u001b[38;5;130;43;01m\\n\u001b[39;49;00m\u001b[38;5;124;43m    } > \u001b[39;49m\u001b[38;5;124;43m\"\u001b[39;49m\u001b[38;5;124;43mdat.$\u001b[39;49m\u001b[38;5;132;43;01m{name}\u001b[39;49;00m\u001b[38;5;124;43m.csv\u001b[39;49m\u001b[38;5;124;43m\"\u001b[39;49m\u001b[38;5;130;43;01m\\n\u001b[39;49;00m\u001b[38;5;130;43;01m\\n\u001b[39;49;00m\u001b[38;5;124;43m    echo \u001b[39;49m\u001b[38;5;124;43m\"\u001b[39;49m\u001b[38;5;124;43mMade:  dat.$\u001b[39;49m\u001b[38;5;132;43;01m{name}\u001b[39;49;00m\u001b[38;5;124;43m.csv\u001b[39;49m\u001b[38;5;124;43m\"\u001b[39;49m\u001b[38;5;124;43m >> \u001b[39;49m\u001b[38;5;124;43m\"\u001b[39;49m\u001b[38;5;124;43m$\u001b[39;49m\u001b[38;5;132;43;01m{log}\u001b[39;49;00m\u001b[38;5;124;43m\"\u001b[39;49m\u001b[38;5;130;43;01m\\n\u001b[39;49;00m\u001b[38;5;130;43;01m\\n\u001b[39;49;00m\u001b[38;5;124;43m    rm \u001b[39;49m\u001b[38;5;124;43m\"\u001b[39;49m\u001b[38;5;124;43mrmsd.xvg\u001b[39;49m\u001b[38;5;124;43m\"\u001b[39;49m\u001b[38;5;130;43;01m\\n\u001b[39;49;00m\u001b[38;5;130;43;01m\\n\u001b[39;49;00m\u001b[38;5;124;43m  done\u001b[39;49m\u001b[38;5;130;43;01m\\n\u001b[39;49;00m\u001b[38;5;130;43;01m\\n\u001b[39;49;00m\u001b[38;5;124;43mdone\u001b[39;49m\u001b[38;5;130;43;01m\\n\u001b[39;49;00m\u001b[38;5;130;43;01m\\n\u001b[39;49;00m\u001b[38;5;124;43mfor i in $(seq 5); do echo \u001b[39;49m\u001b[38;5;124;43m\"\u001b[39;49m\u001b[38;5;124;43m\"\u001b[39;49m\u001b[38;5;124;43m; done\u001b[39;49m\u001b[38;5;130;43;01m\\n\u001b[39;49;00m\u001b[38;5;124;43m{\u001b[39;49m\u001b[38;5;130;43;01m\\n\u001b[39;49;00m\u001b[38;5;124;43m  echo \u001b[39;49m\u001b[38;5;124;43m\"\u001b[39;49m\u001b[38;5;124;43m***\u001b[39;49m\u001b[38;5;124;43m\"\u001b[39;49m\u001b[38;5;130;43;01m\\n\u001b[39;49;00m\u001b[38;5;124;43m  cat \u001b[39;49m\u001b[38;5;124;43m\"\u001b[39;49m\u001b[38;5;124;43m$\u001b[39;49m\u001b[38;5;132;43;01m{log}\u001b[39;49;00m\u001b[38;5;124;43m\"\u001b[39;49m\u001b[38;5;130;43;01m\\n\u001b[39;49;00m\u001b[38;5;124;43m  echo \u001b[39;49m\u001b[38;5;124;43m\"\u001b[39;49m\u001b[38;5;124;43m***\u001b[39;49m\u001b[38;5;124;43m\"\u001b[39;49m\u001b[38;5;130;43;01m\\n\u001b[39;49;00m\u001b[38;5;124;43m} >&3\u001b[39;49m\u001b[38;5;130;43;01m\\n\u001b[39;49;00m\u001b[38;5;124;43mrm \u001b[39;49m\u001b[38;5;124;43m\"\u001b[39;49m\u001b[38;5;124;43m$\u001b[39;49m\u001b[38;5;132;43;01m{log}\u001b[39;49;00m\u001b[38;5;124;43m\"\u001b[39;49m\u001b[38;5;130;43;01m\\n\u001b[39;49;00m\u001b[38;5;124;43m'\u001b[39;49m\u001b[43m)\u001b[49m\n",
      "File \u001b[0;32m/opt/conda/envs/python35-paddle120-env/lib/python3.10/site-packages/IPython/core/interactiveshell.py:2478\u001b[0m, in \u001b[0;36mInteractiveShell.run_cell_magic\u001b[0;34m(self, magic_name, line, cell)\u001b[0m\n\u001b[1;32m   2476\u001b[0m \u001b[38;5;28;01mwith\u001b[39;00m \u001b[38;5;28mself\u001b[39m\u001b[38;5;241m.\u001b[39mbuiltin_trap:\n\u001b[1;32m   2477\u001b[0m     args \u001b[38;5;241m=\u001b[39m (magic_arg_s, cell)\n\u001b[0;32m-> 2478\u001b[0m     result \u001b[38;5;241m=\u001b[39m \u001b[43mfn\u001b[49m\u001b[43m(\u001b[49m\u001b[38;5;241;43m*\u001b[39;49m\u001b[43margs\u001b[49m\u001b[43m,\u001b[49m\u001b[43m \u001b[49m\u001b[38;5;241;43m*\u001b[39;49m\u001b[38;5;241;43m*\u001b[39;49m\u001b[43mkwargs\u001b[49m\u001b[43m)\u001b[49m\n\u001b[1;32m   2480\u001b[0m \u001b[38;5;66;03m# The code below prevents the output from being displayed\u001b[39;00m\n\u001b[1;32m   2481\u001b[0m \u001b[38;5;66;03m# when using magics with decodator @output_can_be_silenced\u001b[39;00m\n\u001b[1;32m   2482\u001b[0m \u001b[38;5;66;03m# when the last Python token in the expression is a ';'.\u001b[39;00m\n\u001b[1;32m   2483\u001b[0m \u001b[38;5;28;01mif\u001b[39;00m \u001b[38;5;28mgetattr\u001b[39m(fn, magic\u001b[38;5;241m.\u001b[39mMAGIC_OUTPUT_CAN_BE_SILENCED, \u001b[38;5;28;01mFalse\u001b[39;00m):\n",
      "File \u001b[0;32m/opt/conda/envs/python35-paddle120-env/lib/python3.10/site-packages/IPython/core/magics/script.py:154\u001b[0m, in \u001b[0;36mScriptMagics._make_script_magic.<locals>.named_script_magic\u001b[0;34m(line, cell)\u001b[0m\n\u001b[1;32m    152\u001b[0m \u001b[38;5;28;01melse\u001b[39;00m:\n\u001b[1;32m    153\u001b[0m     line \u001b[38;5;241m=\u001b[39m script\n\u001b[0;32m--> 154\u001b[0m \u001b[38;5;28;01mreturn\u001b[39;00m \u001b[38;5;28;43mself\u001b[39;49m\u001b[38;5;241;43m.\u001b[39;49m\u001b[43mshebang\u001b[49m\u001b[43m(\u001b[49m\u001b[43mline\u001b[49m\u001b[43m,\u001b[49m\u001b[43m \u001b[49m\u001b[43mcell\u001b[49m\u001b[43m)\u001b[49m\n",
      "File \u001b[0;32m/opt/conda/envs/python35-paddle120-env/lib/python3.10/site-packages/IPython/core/magics/script.py:314\u001b[0m, in \u001b[0;36mScriptMagics.shebang\u001b[0;34m(self, line, cell)\u001b[0m\n\u001b[1;32m    309\u001b[0m \u001b[38;5;28;01mif\u001b[39;00m args\u001b[38;5;241m.\u001b[39mraise_error \u001b[38;5;129;01mand\u001b[39;00m p\u001b[38;5;241m.\u001b[39mreturncode \u001b[38;5;241m!=\u001b[39m \u001b[38;5;241m0\u001b[39m:\n\u001b[1;32m    310\u001b[0m     \u001b[38;5;66;03m# If we get here and p.returncode is still None, we must have\u001b[39;00m\n\u001b[1;32m    311\u001b[0m     \u001b[38;5;66;03m# killed it but not yet seen its return code. We don't wait for it,\u001b[39;00m\n\u001b[1;32m    312\u001b[0m     \u001b[38;5;66;03m# in case it's stuck in uninterruptible sleep. -9 = SIGKILL\u001b[39;00m\n\u001b[1;32m    313\u001b[0m     rc \u001b[38;5;241m=\u001b[39m p\u001b[38;5;241m.\u001b[39mreturncode \u001b[38;5;129;01mor\u001b[39;00m \u001b[38;5;241m-\u001b[39m\u001b[38;5;241m9\u001b[39m\n\u001b[0;32m--> 314\u001b[0m     \u001b[38;5;28;01mraise\u001b[39;00m CalledProcessError(rc, cell)\n",
      "\u001b[0;31mCalledProcessError\u001b[0m: Command 'b'output_prefix=\"$1\"\\nexec 3>&1\\nif $VERBOSE; then\\n  exec 2>&1  # fix stderr and stdout appearing out of order\\nelse\\n  exec >/dev/null 2>/dev/null  # silence\\nfi\\n\\n#@markdown **Compute RMSD over time data** for the trajectory, with respect to some specified frame of reference.\\n#@markdown\\n#@markdown A frame of reference can either be a **time** in ps, e.g. 0, or a **time range of a computed centroid**, e.g. 0-1000.\\n#@markdown\\n#@markdown (For convenience, you may specify multiple RMSD groups and/or frames of reference, comma separated, and all will be calculated.)\\nrmsd_group=\"LIG\" #@param {type: \"string\"}\\nreference_ps=\"0, 0-1000\" #@param {type: \"string\"}\\n#@markdown <font size=5> </font>\\n#@markdown <small>*Input:* optionally, if a centroid is specified, needs `dat.{output_prefix}_centroid_{rmsd_group}_{start_ps}-{end_ps}.gro` \\\\\\\\\\n#@markdown *Output:* `dat.{output_prefix}_rmsd_{rmsd_group}_{reference_ps}.csv`</small>\\n\\nsource \"/home/aistudio/gromacs/bin/GMXRC.bash\"\\n\\nlog=\"$(mktemp)\"\\n\\nrmsd_groups=\"$(tr -d \" \" <<< \"${rmsd_group}\" | tr \",\" \" \")\"\\nfor rmsd_group in $rmsd_groups; do\\n\\n  ranges_ps=\"$(tr -d \" \" <<< \"${reference_ps}\" | tr \",\" \" \")\"\\n  for range_ps in $ranges_ps; do\\n\\n    if [[ -z \"${range_ps}\" || $range_ps == 0 ]]; then  # first frame\\n      if [[ -s \"conf.gro\" ]]; then\\n        input=\"conf.gro\"\\n      else\\n        range_ps=0  # extract the first frame later\\n      fi\\n    fi\\n\\n    if [[ -z \"${range_ps}\" ]]; then  # already handled\\n      :\\n    elif [[ \"${range_ps}\" =~ - ]]; then  # a centroid already calculated\\n      input=\"dat.${output_prefix}_centroid_${rmsd_group}_${range_ps}.gro\"\\n      if [[ ! -s \"${input}\" ]]; then\\n        echo \"Error: centroid not found for range ${range_ps}: ${input}\" >&2\\n        exit 1\\n      fi\\n    else  # some specified frame to extract\\n      frame_ps=$(($range_ps))\\n      if [[ -z \"${frame_ps}\" ]]; then\\n        echo \"Error: invalid frame time: ${frame_ps}\" >&2\\n        exit 1\\n      fi\\n      input=\"dat.${output_prefix}_frame_${frame_ps}.gro\"\\n      if [[ ! -s \"${input}\" ]]; then\\n        gmx trjconv -s \"${output_prefix}.tpr\" -f \"${output_prefix}_reference.xtc\" -dump $frame_ps -o \"${input}\" <<< \"0\"\\n\\n        echo \"Made:  ${input}\" >> \"${log}\"\\n      fi\\n    fi\\n\\n    ( echo \"C-alpha\"; echo \"${rmsd_group}\"; ) | gmx rms -nomw -s \"${input}\" -n \"index.ndx\" -f \"${output_prefix}_reference.xtc\" -o \"rmsd.xvg\"\\n\\n    name=\"${output_prefix}_rmsd_${rmsd_group}_${range_ps}\"\\n    {\\n      echo \"Time_(ns),RMSD_(A)\"\\n      sed \\'/^[@#]/d\\' \"rmsd.xvg\" | awk \\'{ print $1/1000\",\"$2*10 }\\'\\n    } > \"dat.${name}.csv\"\\n\\n    echo \"Made:  dat.${name}.csv\" >> \"${log}\"\\n\\n    rm \"rmsd.xvg\"\\n\\n  done\\n\\ndone\\n\\nfor i in $(seq 5); do echo \"\"; done\\n{\\n  echo \"***\"\\n  cat \"${log}\"\\n  echo \"***\"\\n} >&3\\nrm \"${log}\"\\n'' returned non-zero exit status 1."
     ]
    }
   ],
   "source": [
    "%%bash -s \"$output_prefix\"\n",
    "output_prefix=\"$1\"\n",
    "exec 3>&1\n",
    "if $VERBOSE; then\n",
    "  exec 2>&1  # fix stderr and stdout appearing out of order\n",
    "else\n",
    "  exec >/dev/null 2>/dev/null  # silence\n",
    "fi\n",
    "\n",
    "#@markdown **Compute RMSD over time data** for the trajectory, with respect to some specified frame of reference.\n",
    "#@markdown\n",
    "#@markdown A frame of reference can either be a **time** in ps, e.g. 0, or a **time range of a computed centroid**, e.g. 0-1000.\n",
    "#@markdown\n",
    "#@markdown (For convenience, you may specify multiple RMSD groups and/or frames of reference, comma separated, and all will be calculated.)\n",
    "rmsd_group=\"LIG\" #@param {type: \"string\"}\n",
    "reference_ps=\"0, 0-1000\" #@param {type: \"string\"}\n",
    "#@markdown <font size=5> </font>\n",
    "#@markdown <small>*Input:* optionally, if a centroid is specified, needs `dat.{output_prefix}_centroid_{rmsd_group}_{start_ps}-{end_ps}.gro` \\\\\n",
    "#@markdown *Output:* `dat.{output_prefix}_rmsd_{rmsd_group}_{reference_ps}.csv`</small>\n",
    "\n",
    "source \"/home/aistudio/gromacs/bin/GMXRC.bash\"\n",
    "\n",
    "log=\"$(mktemp)\"\n",
    "\n",
    "rmsd_groups=\"$(tr -d \" \" <<< \"${rmsd_group}\" | tr \",\" \" \")\"\n",
    "for rmsd_group in $rmsd_groups; do\n",
    "\n",
    "  ranges_ps=\"$(tr -d \" \" <<< \"${reference_ps}\" | tr \",\" \" \")\"\n",
    "  for range_ps in $ranges_ps; do\n",
    "\n",
    "    if [[ -z \"${range_ps}\" || $range_ps == 0 ]]; then  # first frame\n",
    "      if [[ -s \"conf.gro\" ]]; then\n",
    "        input=\"conf.gro\"\n",
    "      else\n",
    "        range_ps=0  # extract the first frame later\n",
    "      fi\n",
    "    fi\n",
    "\n",
    "    if [[ -z \"${range_ps}\" ]]; then  # already handled\n",
    "      :\n",
    "    elif [[ \"${range_ps}\" =~ - ]]; then  # a centroid already calculated\n",
    "      input=\"dat.${output_prefix}_centroid_${rmsd_group}_${range_ps}.gro\"\n",
    "      if [[ ! -s \"${input}\" ]]; then\n",
    "        echo \"Error: centroid not found for range ${range_ps}: ${input}\" >&2\n",
    "        exit 1\n",
    "      fi\n",
    "    else  # some specified frame to extract\n",
    "      frame_ps=$(($range_ps))\n",
    "      if [[ -z \"${frame_ps}\" ]]; then\n",
    "        echo \"Error: invalid frame time: ${frame_ps}\" >&2\n",
    "        exit 1\n",
    "      fi\n",
    "      input=\"dat.${output_prefix}_frame_${frame_ps}.gro\"\n",
    "      if [[ ! -s \"${input}\" ]]; then\n",
    "        gmx trjconv -s \"${output_prefix}.tpr\" -f \"${output_prefix}_reference.xtc\" -dump $frame_ps -o \"${input}\" <<< \"0\"\n",
    "\n",
    "        echo \"Made:  ${input}\" >> \"${log}\"\n",
    "      fi\n",
    "    fi\n",
    "\n",
    "    ( echo \"C-alpha\"; echo \"${rmsd_group}\"; ) | gmx rms -nomw -s \"${input}\" -n \"index.ndx\" -f \"${output_prefix}_reference.xtc\" -o \"rmsd.xvg\"\n",
    "\n",
    "    name=\"${output_prefix}_rmsd_${rmsd_group}_${range_ps}\"\n",
    "    {\n",
    "      echo \"Time_(ns),RMSD_(A)\"\n",
    "      sed '/^[@#]/d' \"rmsd.xvg\" | awk '{ print $1/1000\",\"$2*10 }'\n",
    "    } > \"dat.${name}.csv\"\n",
    "\n",
    "    echo \"Made:  dat.${name}.csv\" >> \"${log}\"\n",
    "\n",
    "    rm \"rmsd.xvg\"\n",
    "\n",
    "  done\n",
    "\n",
    "done\n",
    "\n",
    "for i in $(seq 5); do echo \"\"; done\n",
    "{\n",
    "  echo \"***\"\n",
    "  cat \"${log}\"\n",
    "  echo \"***\"\n",
    "} >&3\n",
    "rm \"${log}\""
   ]
  },
  {
   "cell_type": "markdown",
   "metadata": {
    "id": "wS5lr8gdaoXE"
   },
   "source": [
    "  \\"
   ]
  },
  {
   "cell_type": "code",
   "execution_count": 34,
   "metadata": {
    "cellView": "form",
    "execution": {
     "iopub.execute_input": "2023-07-28T10:43:37.233104Z",
     "iopub.status.busy": "2023-07-28T10:43:37.232438Z",
     "iopub.status.idle": "2023-07-28T10:43:37.576374Z",
     "shell.execute_reply": "2023-07-28T10:43:37.575144Z",
     "shell.execute_reply.started": "2023-07-28T10:43:37.233075Z"
    },
    "id": "QIVKLd7EAdve",
    "scrolled": true,
    "tags": []
   },
   "outputs": [
    {
     "ename": "IndexError",
     "evalue": "index -1 is out of bounds for axis 0 with size 0",
     "output_type": "error",
     "traceback": [
      "\u001b[0;31m---------------------------------------------------------------------------\u001b[0m",
      "\u001b[0;31mIndexError\u001b[0m                                Traceback (most recent call last)",
      "Cell \u001b[0;32mIn[34], line 86\u001b[0m\n\u001b[1;32m     84\u001b[0m \u001b[38;5;66;03m# Set x-axis ticks\u001b[39;00m\n\u001b[1;32m     85\u001b[0m ticker \u001b[38;5;241m=\u001b[39m AutoLocator()\n\u001b[0;32m---> 86\u001b[0m ticker\u001b[38;5;241m.\u001b[39mset_params(steps\u001b[38;5;241m=\u001b[39m[\u001b[38;5;241m1\u001b[39m, \u001b[38;5;241m2\u001b[39m, \u001b[38;5;241m3\u001b[39m, \u001b[38;5;241m5\u001b[39m, \u001b[38;5;241m10\u001b[39m] \u001b[38;5;28;01mif\u001b[39;00m \u001b[38;5;28mround\u001b[39m(\u001b[43mdf\u001b[49m\u001b[43m[\u001b[49m\u001b[43mt_\u001b[49m\u001b[43m]\u001b[49m\u001b[38;5;241;43m.\u001b[39;49m\u001b[43mvalues\u001b[49m\u001b[43m[\u001b[49m\u001b[38;5;241;43m-\u001b[39;49m\u001b[38;5;241;43m1\u001b[39;49m\u001b[43m]\u001b[49m) \u001b[38;5;241m%\u001b[39m \u001b[38;5;241m3\u001b[39m \u001b[38;5;241m==\u001b[39m \u001b[38;5;241m0\u001b[39m \u001b[38;5;28;01melse\u001b[39;00m [\u001b[38;5;241m1\u001b[39m, \u001b[38;5;241m2\u001b[39m, \u001b[38;5;241m5\u001b[39m, \u001b[38;5;241m10\u001b[39m], min_n_ticks\u001b[38;5;241m=\u001b[39m\u001b[38;5;241m6\u001b[39m)\n\u001b[1;32m     87\u001b[0m ax \u001b[38;5;241m=\u001b[39m plt\u001b[38;5;241m.\u001b[39mgca()\n\u001b[1;32m     88\u001b[0m ax\u001b[38;5;241m.\u001b[39mxaxis\u001b[38;5;241m.\u001b[39mset_major_locator(ticker)\n",
      "\u001b[0;31mIndexError\u001b[0m: index -1 is out of bounds for axis 0 with size 0"
     ]
    },
    {
     "data": {
      "image/png": "[encoded data removed]",
      "text/plain": [
       "<Figure size 640x480 with 1 Axes>"
      ]
     },
     "metadata": {},
     "output_type": "display_data"
    }
   ],
   "source": [
    "#@markdown **Plot computed RMSD data.** Tabular output from an RMSD analysis (above) may be visualised as a plot.\n",
    "#@markdown\n",
    "#@markdown Multiple RMSD groups and/or frames of reference may be specified as a comma separated list, in which case multiple plots will be made on the same axes.\n",
    "rmsd_groups = \"LIG\" #@param {type: \"string\"}\n",
    "reference_ps = \"0, 0-1000\" #@param {type: \"string\"}\n",
    "#@markdown Optionally, plot a threshold line (on the $y$-axis) at a particular RMSD value. (0 to disable.)\n",
    "threshold_A = 5.5 #@param {type: \"number\"}\n",
    "#@markdown Optionally, cut off the plot at a particular maximum time. (0 to disable.)\n",
    "max_t_ns = 0 #@param {type: \"number\"}\n",
    "# defaults:    \"LIG\"    \"0, 0-1000\"    5.5    0\n",
    "# \"\"\n",
    "#@markdown <font size=5> </font>\n",
    "#@markdown <small>*Input:* `dat.{output_prefix}_rmsd_{rmsd_group}_{reference_ps}.csv` \\\\\n",
    "#@markdown *Output:* `dat.{output_prefix}_rmsd_{rmsd_groups}_{ranges_ps}.png`</small>\n",
    "\n",
    "rmsd_groups = rmsd_groups.replace(\" \", \"\").split(\",\")\n",
    "ranges_ps = reference_ps.replace(\" \", \"\").split(\",\")\n",
    "\n",
    "\n",
    "#\n",
    "# Get the data from the various RMSD files\n",
    "#\n",
    "\n",
    "import pandas as pd\n",
    "\n",
    "t_ = \"Time_(ns)\"\n",
    "y_ = \"RMSD_(A)\"\n",
    "\n",
    "groups, ranges, labels, tables = list(), list(), list(), list()\n",
    "for g in rmsd_groups:\n",
    "  for r in ranges_ps:\n",
    "    try:\n",
    "      df = pd.read_csv(f\"dat.{output_prefix}_rmsd_{g}_{r}.csv\")\n",
    "    except:\n",
    "      continue\n",
    "\n",
    "    groups.append(g)\n",
    "    ranges.append(r)\n",
    "    if \"-\" in r:\n",
    "      start = float(r.split(\"-\")[0]) / 1000.\n",
    "      labels.append(f\"vs. {r} ns centroid: {g}\")\n",
    "    else:\n",
    "      start = float(r) / 1000.\n",
    "      labels.append(f\"vs. {r} ns frame: {g}\")\n",
    "\n",
    "    # Apply $t$ range\n",
    "    df = df[(df[t_] >= start)]\n",
    "    if max_t_ns > 0.:\n",
    "      df = df[(df[t_] <= max_t_ns)]\n",
    "    tables.append(df)\n",
    "\n",
    "\n",
    "#\n",
    "# Plot\n",
    "#\n",
    "\n",
    "import matplotlib.pyplot as plt\n",
    "import seaborn as sns\n",
    "from matplotlib.ticker import AutoLocator\n",
    "\n",
    "def moving_average(df):\n",
    "  return df.rolling(21, center=True).mean()\n",
    "\n",
    "plt.figure()\n",
    "\n",
    "with sns.color_palette(\"deep\", n_colors=len(tables)):\n",
    "  for l, df in zip(labels, tables):\n",
    "    plt.plot(df[t_], df[y_], alpha=0.1)\n",
    "\n",
    "  for l, df in zip(labels, tables):  # loop again to use same colours\n",
    "    smooth = moving_average(df)\n",
    "    plt.plot(smooth[t_], smooth[y_], label=l)\n",
    "\n",
    "  plt.legend()\n",
    "\n",
    "  if threshold_A != 0.:\n",
    "    plt.axhline(y=threshold_A, color=\"black\", linestyle=\":\")\n",
    "\n",
    "# Title and axis labels\n",
    "plt.title(os.path.basename(project_folder).replace(\"_\", \" \").replace(\"vs \", \"vs. \"))\n",
    "plt.xlabel(\"Time (ns)\")\n",
    "plt.ylabel(f\"RMSD of group (A)\")\n",
    "\n",
    "# Set x-axis ticks\n",
    "ticker = AutoLocator()\n",
    "ticker.set_params(steps=[1, 2, 3, 5, 10] if round(df[t_].values[-1]) % 3 == 0 else [1, 2, 5, 10], min_n_ticks=6)\n",
    "ax = plt.gca()\n",
    "ax.xaxis.set_major_locator(ticker)\n",
    "\n",
    "# Set y-axis limit\n",
    "if any(max(df[y_]) > 16. for df in tables):\n",
    "  ax.set_ylim([0, 16.])\n",
    "\n",
    "\n",
    "#\n",
    "# Output\n",
    "#\n",
    "\n",
    "groups_name = \"_\".join(rmsd_groups)\n",
    "ranges_name = \"_\".join(ranges_ps)\n",
    "name = f\"{output_prefix}_rmsd_{groups_name}_{ranges_name}\"\n",
    "plt.gcf().savefig(f\"dat.{name}.png\")\n",
    "plt.show()\n",
    "\n",
    "print(\"***\")\n",
    "print(f\"Made:  dat.{name}.pdf\")\n",
    "print(\"***\")"
   ]
  },
  {
   "cell_type": "markdown",
   "metadata": {
    "id": "7IE7dNDyapkE"
   },
   "source": [
    "  \\"
   ]
  },
  {
   "cell_type": "code",
   "execution_count": 30,
   "metadata": {
    "cellView": "form",
    "execution": {
     "iopub.execute_input": "2023-07-28T10:41:57.129159Z",
     "iopub.status.busy": "2023-07-28T10:41:57.128558Z",
     "iopub.status.idle": "2023-07-28T10:41:59.614960Z",
     "shell.execute_reply": "2023-07-28T10:41:59.614269Z",
     "shell.execute_reply.started": "2023-07-28T10:41:57.129129Z"
    },
    "id": "clJR7IY6oo8R",
    "scrolled": true
   },
   "outputs": [
    {
     "name": "stdout",
     "output_type": "stream",
     "text": [
      "***\r\n",
      "Information: compared these atoms:\r\n",
      "   29DPPC   O22 1234   2.916   3.825   5.140  0.7562  0.2139 -0.1075\r\n",
      "   63DPPC   H6S 5678   0.930   3.150   5.066  0.7186 -0.6163 -0.7106\r\n",
      "Made:  dat.sim_distance_A-B_0.csv\r\n",
      "***\r\n"
     ]
    }
   ],
   "source": [
    "%%bash -s \"$output_prefix\"\n",
    "exec 3>&1\n",
    "if $VERBOSE; then\n",
    "  exec 2>&1  # fix stderr and stdout appearing out of order\n",
    "else\n",
    "  exec >/dev/null 2>/dev/null  # silence\n",
    "fi\n",
    "output_prefix=\"$1\"\n",
    "\n",
    "#@markdown **Compute atom pair distance over time data** for the trajectory.\n",
    "\n",
    "#@markdown The atom numbers (IDs) of the atoms to measure the distance between. These are found in e.g. the `conf.gro` file for the system.\n",
    "pair_label=\"A-B\" #@param {type: \"string\"}\n",
    "atom_a=1234 #@param {type: \"integer\"}\n",
    "atom_b=5678 #@param {type: \"integer\"}\n",
    "\n",
    "#@markdown (Please note that GROMACS and VMD use atom numbers which are different by $1$. If you use the VMD picker tool to inspect an atom and it says its number is $1000$, please type $1001$ above.)\n",
    "#@markdown\n",
    "#@markdown <font size=5> </font>\n",
    "#@markdown <small>*Output:* `dat.{output_prefix}_distance_{pair_label}_0.csv`</small>\n",
    "\n",
    "source \"/home/aistudio/gromacs/bin/GMXRC.bash\"\n",
    "\n",
    "cat > \"dist.ndx\" <<EOS\n",
    "[ Distance ]\n",
    "${atom_a} ${atom_b}\n",
    "EOS\n",
    "\n",
    "gmx distance -s \"${output_prefix}.tpr\" -f \"${output_prefix}_reference.xtc\" -n \"dist.ndx\" -oall \"dist.xvg\" <<< \"Distance\"\n",
    "\n",
    "name=\"${output_prefix}_distance_${pair_label}_0\"\n",
    "{\n",
    "  echo \"Time_(ns),RMSD_(A)\"\n",
    "  sed '/^[@#]/d' \"dist.xvg\" | awk '{ print $1/1000\",\"$2*10 }'\n",
    "} > \"dat.${name}.csv\"\n",
    "\n",
    "for i in $(seq 5); do echo \"\"; done\n",
    "{\n",
    "  echo \"***\"\n",
    "  echo \"Information: compared these atoms:\"\n",
    "  awk \"NR == ${atom_a} + 2\" \"conf.gro\"\n",
    "  awk \"NR == ${atom_b} + 2\" \"conf.gro\"\n",
    "  echo \"Made:  dat.${name}.csv\"\n",
    "  echo \"***\"\n",
    "} >&3"
   ]
  },
  {
   "cell_type": "markdown",
   "metadata": {
    "id": "_Iyx5YRwasqH"
   },
   "source": [
    "  \\"
   ]
  },
  {
   "cell_type": "code",
   "execution_count": 33,
   "metadata": {
    "cellView": "form",
    "execution": {
     "iopub.execute_input": "2023-07-28T10:43:21.274943Z",
     "iopub.status.busy": "2023-07-28T10:43:21.274546Z",
     "iopub.status.idle": "2023-07-28T10:43:21.566385Z",
     "shell.execute_reply": "2023-07-28T10:43:21.565622Z",
     "shell.execute_reply.started": "2023-07-28T10:43:21.274917Z"
    },
    "id": "MU2Qrbtwj7aB",
    "scrolled": true,
    "tags": []
   },
   "outputs": [
    {
     "data": {
      "image/png": "[encoded data removed]",
      "text/plain": [
       "<Figure size 640x480 with 1 Axes>"
      ]
     },
     "metadata": {},
     "output_type": "display_data"
    },
    {
     "name": "stdout",
     "output_type": "stream",
     "text": [
      "***\r\n",
      "Made:  dat.sim_distance_A-B_0.pdf\r\n",
      "***\r\n"
     ]
    }
   ],
   "source": [
    "#@markdown **Plot computed atom pair data.** Tabular output from an atom pair distance analysis (above) may be visualised as a plot.\n",
    "#@markdown\n",
    "#@markdown Multiple atom pair labels may be specified as a comma separated list, in which case multiple plots will be made on the same axes.\n",
    "pair_labels = \"A-B\" #@param {type: \"string\"}\n",
    "#@markdown Optionally, plot a threshold line (on the $y$-axis) at a particular distance value. (0 to disable.)\n",
    "threshold_A = 0. #@param {type: \"number\"}\n",
    "#@markdown Optionally, cut off the plot at a particular maximum time. (0 to disable.)\n",
    "max_t_ns = 0 #@param {type: \"number\"}\n",
    "# defaults:    \"A-B\"    0.    0\n",
    "# \"\"\n",
    "#@markdown <font size=5> </font>\n",
    "#@markdown <small>*Input:* `dat.{output_prefix}_distance_{pair_labels}_0.csv` \\\\\n",
    "#@markdown *Output:* `dat.{output_prefix}_rmsd_{pair_labels}_0.png`</small>\n",
    "\n",
    "pair_labels = pair_labels.replace(\" \", \"\").split(\",\")\n",
    "\n",
    "\n",
    "#\n",
    "# Get the data from the various distance files\n",
    "#\n",
    "\n",
    "import pandas as pd\n",
    "\n",
    "t_ = \"Time_(ns)\"\n",
    "y_ = \"RMSD_(A)\"\n",
    "\n",
    "labels, tables = list(), list()\n",
    "for p in pair_labels:\n",
    "  try:\n",
    "    df = pd.read_csv(f\"dat.{output_prefix}_distance_{p}_0.csv\")\n",
    "  except:\n",
    "    continue\n",
    "\n",
    "  labels.append(p)\n",
    "\n",
    "  # Apply $t$ range\n",
    "  if max_t_ns > 0.:\n",
    "    df = df[(df[t_] <= max_t_ns)]\n",
    "  tables.append(df)\n",
    "\n",
    "\n",
    "#\n",
    "# Plot\n",
    "#\n",
    "\n",
    "import matplotlib.pyplot as plt\n",
    "import seaborn as sns\n",
    "from matplotlib.ticker import AutoLocator\n",
    "\n",
    "def moving_average(df):\n",
    "  return df.rolling(21, center=True).mean()\n",
    "\n",
    "plt.figure()\n",
    "\n",
    "with sns.color_palette(\"deep\", n_colors=len(tables)):\n",
    "  for l, df in zip(labels, tables):\n",
    "    plt.plot(df[t_], df[y_], alpha=0.1)\n",
    "\n",
    "  for l, df in zip(labels, tables):\n",
    "    smooth = moving_average(df)\n",
    "    plt.plot(smooth[t_], smooth[y_], label=l)\n",
    "\n",
    "  plt.legend()\n",
    "\n",
    "  if threshold_A != 0.:\n",
    "    plt.axhline(y=threshold_A, color=\"black\", linestyle=\":\")\n",
    "\n",
    "# Title and axis labels\n",
    "plt.title(os.path.basename(project_folder).replace(\"_\", \" \").replace(\"vs \", \"vs. \"))\n",
    "plt.xlabel(\"Time (ns)\")\n",
    "plt.ylabel(f\"Distance of pair of atoms (A)\")\n",
    "\n",
    "# Set x-axis ticks\n",
    "ticker = AutoLocator()\n",
    "ticker.set_params(steps=[1, 2, 3, 5, 10] if round(df[t_].values[-1]) % 3 == 0 else [1, 2, 5, 10], min_n_ticks=6)\n",
    "ax = plt.gca()\n",
    "ax.xaxis.set_major_locator(ticker)\n",
    "\n",
    "\n",
    "#\n",
    "# Output\n",
    "#\n",
    "\n",
    "pairs_name = \"_\".join(pair_labels)\n",
    "name = f\"{output_prefix}_distance_{pairs_name}_0\"\n",
    "plt.gcf().savefig(f\"dat.{name}.png\")\n",
    "plt.show()\n",
    "\n",
    "print(\"***\")\n",
    "print(f\"Made:  dat.{name}.pdf\")\n",
    "print(\"***\")"
   ]
  },
  {
   "cell_type": "markdown",
   "metadata": {
    "id": "V-nsZ2JCatqY"
   },
   "source": [
    "  \\"
   ]
  },
  {
   "cell_type": "code",
   "execution_count": 35,
   "metadata": {
    "cellView": "form",
    "execution": {
     "iopub.execute_input": "2023-07-28T10:43:44.060773Z",
     "iopub.status.busy": "2023-07-28T10:43:44.060398Z",
     "iopub.status.idle": "2023-07-28T10:43:49.902642Z",
     "shell.execute_reply": "2023-07-28T10:43:49.901914Z",
     "shell.execute_reply.started": "2023-07-28T10:43:44.060748Z"
    },
    "id": "QaOVYBg63RWU",
    "scrolled": true,
    "tags": []
   },
   "outputs": [
    {
     "name": "stdout",
     "output_type": "stream",
     "text": [
      "***\r\n",
      "Total interaction energy (ligand with protein):  \r\n",
      "Electrostatics term:  \r\n",
      "Van der Waals term:  \r\n",
      "***\r\n"
     ]
    }
   ],
   "source": [
    "%%bash -s \"$output_prefix\"\n",
    "output_prefix=\"$1\"\n",
    "exec 3>&1\n",
    "if $VERBOSE; then\n",
    "  exec 2>&1  # fix stderr and stdout appearing out of order\n",
    "else\n",
    "  exec >/dev/null 2>/dev/null  # silence\n",
    "fi\n",
    "set +H  # turn off history expansion so phrases that look like \"!...\" don't break\n",
    "\n",
    "#@markdown **Compute an energy analysis** for a **protein-ligand complex**, by rewatching an existing simulation. The calculated energies are the averages for the specified time range.\n",
    "#@markdown\n",
    "#@markdown (This may take a minute.)\n",
    "energy_group=\"LIG\" #@param {type: \"string\"}\n",
    "start_ps=0 #@param {type: \"integer\"}\n",
    "end_ps=1000 #@param {type: \"integer\"}\n",
    "\n",
    "source \"/home/aistudio/gromacs/bin/GMXRC.bash\"\n",
    "\n",
    "\n",
    "#\n",
    "# Energy monitoring rerun of simulation with protein\n",
    "#\n",
    "\n",
    "if ! fgrep -q \"Surround\" \"index.ndx\"; then\n",
    "  group_id=$(fgrep '[' \"index.ndx\" | wc -l)\n",
    "  { echo \"! \\\"${energy_group}\\\"\"; echo \"name ${group_id} Surround\"; echo \"q\"; } | gmx make_ndx -f \"conf.gro\" -n \"index.ndx\" -o \"index.ndx\"\n",
    "fi\n",
    "\n",
    "( cat \"grompp.mdp\"; echo \"energygrps = Surround ${energy_group}\" ) > \"lie_protein.mdp\"\n",
    "[[ ! -s \"restraint.gro\" ]] && cp \"conf.gro\" \"restraint.gro\"\n",
    "gmx grompp -f \"lie_protein.mdp\" -o \"lie_protein.tpr\" -c \"conf.gro\" -p \"topol.top\" -r \"restraint.gro\" -n \"index.ndx\" -maxwarn 999\n",
    "\n",
    "# Use .trr or .xtc for the rerun?\n",
    "trr_frames=\"$(gmx check -f \"${output_prefix}.trr\" 2>&1 | awk '$1 ~ /^Coords/ { print $2 }')\"\n",
    "xtc_frames=\"$(gmx check -f \"${output_prefix}.xtc\" 2>&1 | awk '$1 ~ /^Coords/ { print $2 }')\"\n",
    "(( ${trr_frames:- 0} >= ${xtc_frames:- 0} )) && rerun=\"${output_prefix}.trr\" || rerun=\"${output_prefix}.xtc\"\n",
    "\n",
    "gmx trjconv -s \"${output_prefix}.tpr\" -f \"${rerun}\" -e $end_ps -o \"rerun.trr\" <<< \"0\"\n",
    "\n",
    "gmx mdrun -deffnm \"lie_protein\" -rerun \"rerun.trr\"\n",
    "\n",
    "\n",
    "#\n",
    "# Output the energy\n",
    "#\n",
    "\n",
    "read -r protein_qq protein_lj < <({\n",
    "  echo \"Coul-SR:Surround-${energy_group}\";\n",
    "  echo \"LJ-SR:Surround-${energy_group}\";\n",
    "  echo;\n",
    "} | gmx energy -f \"lie_protein.edr\" -b $start_ps -e $end_ps 2>/dev/null | tail -n2 | awk '{ print $2 }' | tr \"\\n\" \" \")\n",
    "\n",
    "protein_total=\"$(perl -le \"print(${protein_qq} + ${protein_lj})\")\"\n",
    "\n",
    "for i in $(seq 5); do echo \"\"; done\n",
    "{\n",
    "  echo \"***\"\n",
    "  echo \"Total interaction energy (ligand with protein):  ${protein_total}\"\n",
    "  echo \"Electrostatics term:  ${protein_qq}\"\n",
    "  echo \"Van der Waals term:  ${protein_lj}\"\n",
    "  echo \"***\"\n",
    "} >&3"
   ]
  },
  {
   "cell_type": "markdown",
   "metadata": {
    "id": "Chj-Zo_bphsn"
   },
   "source": [
    "  \\"
   ]
  },
  {
   "cell_type": "code",
   "execution_count": 36,
   "metadata": {
    "cellView": "form",
    "execution": {
     "iopub.execute_input": "2023-07-28T10:43:53.986901Z",
     "iopub.status.busy": "2023-07-28T10:43:53.986074Z",
     "iopub.status.idle": "2023-07-28T10:43:54.685422Z",
     "shell.execute_reply": "2023-07-28T10:43:54.683917Z",
     "shell.execute_reply.started": "2023-07-28T10:43:53.986872Z"
    },
    "id": "s5mVqG53pewS",
    "scrolled": true,
    "tags": []
   },
   "outputs": [
    {
     "ename": "CalledProcessError",
     "evalue": "Command 'b'output_prefix=\"$1\"\\nexec 3>&1\\nif $VERBOSE; then\\n  exec 2>&1  # fix stderr and stdout appearing out of order\\nelse\\n  exec >/dev/null 2>/dev/null  # silence\\nfi\\nset +H  # turn off history expansion so phrases that look like \"!...\" don\\'t break\\n\\n#@markdown **Compute an energy analysis** for the **ligand in only solvent**, by computing a new simulation in a box of water.\\n#@markdown\\n#@markdown (This may take ten minutes.)\\nenergy_group=\"LIG\" #@param {type: \"string\"}\\n\\nsource \"/home/aistudio/gromacs/bin/GMXRC.bash\"\\n\\n\\n#\\n# Simulate ligand in solvent\\n#\\n\\ngmx trjconv -s \"${output_prefix}.tpr\" -f \"rerun.trr\" -n \"index.ndx\" -dump 1000 -o \"ligand.gro\" <<< \"${energy_group}\"\\n\\ngmx editconf -f \"ligand.gro\" -o \"out.gro\" -c -d 1.0 -bt \"dodecahedron\"\\nmv \"out.gro\" \"ligand.gro\"\\n\\nsed -E \\'/\\\\[\\\\s*molecules\\\\s*\\\\]/q\\' \"topol.top\" > \"ligand.top\"\\necho \"${energy_group} 1\" >> \"ligand.top\"\\n\\n# Put the full CHARMM36 forcefield first, deleting other forcefield.itps, to ensure TIP3 and ions are included\\n# (This makes the assumption that the input system uses CHARMM36)\\nawk \\'! x && $0 ~ /^#include/ { x=1; print \"#include \\\\\"\\'\"${START}\"\\'/charmm36.ff/forcefield.itp\\\\\"\" }; $0 !~ /forcefield.itp/ { print }\\' \"ligand.top\" > \"ligand.top.tmp\"\\nmv \"ligand.top.tmp\" \"ligand.top\"\\n\\n# Solvate with TIP3\\nsed \\'s/SOL /TIP3/g\\' \"/usr/local/gromacs/share/gromacs/top/spc216.gro\" > \"TIP3.gro\"\\ngmx solvate -cp \"ligand.gro\" -cs \"TIP3.gro\" -o \"out.gro\" -p \"ligand.top\"\\nmv \"out.gro\" \"ligand.gro\"\\n\\n\\n#\\n# Minimisation\\n#\\n\\ncat > \"ligand_min.mdp\" <<EOS\\n; See GROMACS_for_CHARMM-GUI.ipynb\\n\\nintegrator            =  steep\\nemtol                 =  1000.0\\nnsteps                =  5000\\n\\ncutoff-scheme         =  Verlet\\nnstlist               =  10\\ncoulombtype           =  PME\\nrcoulomb              =  1.2\\nvdwtype               =  Cut-off\\nvdw-modifier          =  Force-switch\\nrvdw-switch           =  1.0\\nrvdw                  =  1.2\\n\\nconstraints           =  h-bonds\\nconstraint-algorithm  =  LINCS\\nEOS\\n\\ngmx grompp -f \"ligand_min.mdp\" -o \"ligand_min.tpr\" -c \"ligand.gro\" -p \"ligand.top\" -maxwarn 999\\n\\ngmx genion -s \"ligand_min.tpr\" -o \"out.gro\" -p \"ligand.top\" -pname \"POT\" -nname \"CLA\" -neutral <<< \"TIP3\"\\nmv \"out.gro\" \"ligand.gro\"\\n\\ngmx grompp -f \"ligand_min.mdp\" -o \"ligand.tpr\" -c \"ligand.gro\" -p \"ligand.top\" -maxwarn 999\\n\\ngmx mdrun -v -stepout 1000 -deffnm \"ligand_min\"\\nret=$?; if (( $ret != 0 )); then exit $ret; fi\\n\\n\\n#\\n# Equilibration\\n#\\n\\ncat > \"ligand_eq.mdp\" <<EOS\\n; See GROMACS_for_CHARMM-GUI.ipynb\\n\\nintegrator  =  md\\ndt          =  0.001     ; 1 fs\\nnsteps      =  100000    ; 100 ps simulation time\\ncomm-mode   =  Linear\\n\\ncutoff-scheme  =  Verlet\\nnstlist        =  20\\ncoulombtype    =  PME\\nrcoulomb       =  1.2\\nvdwtype        =  Cut-off\\nvdw-modifier   =  Force-switch\\nrvdw-switch    =  1.0\\nrvdw           =  1.2\\n\\ntcoupl   = Berendsen\\ntc-grps  = System\\ntau-t    = 1.0\\nref-t    = 303.15\\n\\npcoupl            = Berendsen\\npcoupltype        = isotropic\\ntau-p             = 5.0\\ncompressibility   = 4.5e-5\\nref-p             = 1.0\\nrefcoord-scaling  = com\\n\\nconstraints           =  h-bonds\\nconstraint-algorithm  =  LINCS\\ncontinuation          =  yes\\nEOS\\n\\ngmx grompp -f \"ligand_eq.mdp\" -o \"ligand_eq.tpr\" -c \"ligand_min.gro\" -p \"ligand.top\" -maxwarn 999\\n\\ngmx mdrun -v -stepout 1000 -deffnm \"ligand_eq\"\\nret=$?; if (( $ret != 0 )); then exit $ret; fi\\n\\n\\n#\\n# Production\\n#\\n\\ncat > \"ligand_prod.mdp\" <<EOS\\n; See GROMACS_for_CHARMM-GUI.ipynb\\n\\nintegrator  =  md\\ndt          =  0.002     ; 2 fs\\nnsteps      =  50000     ; 100 ps simulation time\\ncomm-mode   =  Linear\\n\\nnstxout  =  5000    ; 10 frames total\\nnstvout  =  5000\\n\\ncutoff-scheme  =  Verlet\\nnstlist        =  20\\ncoulombtype    =  PME\\nrcoulomb       =  1.2\\nvdwtype        =  Cut-off\\nvdw-modifier   =  Force-switch\\nrvdw-switch    =  1.0\\nrvdw           =  1.2\\n\\ntcoupl   =  V-Rescale\\ntc-grps  =  System\\ntau-t    =  1.0\\nref-t    =  303.15\\n\\npcoupl           =  Parrinello-Rahman\\npcoupltype       =  isotropic\\ntau-p            =  5.0\\ncompressibility  =  4.5e-5\\nref-p            =  1.0\\n\\nconstraints           =  h-bonds\\nconstraint-algorithm  =  LINCS\\ncontinuation          =  yes\\nEOS\\n\\ngmx grompp -f \"ligand_prod.mdp\" -o \"ligand_prod.tpr\" -c \"ligand_eq.gro\" -p \"ligand.top\" -maxwarn 999\\n\\ngmx mdrun -v -stepout 1000 -deffnm \"ligand_prod\"\\nret=$?; if (( $ret != 0 )); then exit $ret; fi\\n\\n\\n#\\n# Energy monitoring rerun of simulation with ligand\\n#\\n\\necho \"q\" | gmx make_ndx -f \"ligand_min.gro\" -o \"ligand.ndx\"\\ngroup_id=$(fgrep \\'[\\' \"ligand.ndx\" | wc -l)\\n{ echo \"! \\\\\"${energy_group}\\\\\"\"; echo \"name ${group_id} Surround\"; echo \"q\"; } | gmx make_ndx -f \"ligand_min.gro\" -n \"ligand.ndx\" -o \"ligand.ndx\"\\n\\n( cat \"ligand_prod.mdp\"; echo \"energygrps = ${energy_group} Surround\" ) > \"lie_ligand.mdp\"\\ngmx grompp -f \"lie_ligand.mdp\" -o \"lie_ligand.tpr\" -c \"ligand_min.gro\" -p \"ligand.top\" -n \"ligand.ndx\" -maxwarn 999\\n\\ngmx mdrun -deffnm \"lie_ligand\" -rerun \"ligand_prod.trr\"\\n\\n\\n#\\n# Output the energy\\n#\\n\\nread -r ligand_qq ligand_lj < <({\\n  echo \"Coul-SR:${energy_group}-Surround\";\\n  echo \"LJ-SR:${energy_group}-Surround\";\\n  echo;\\n} | gmx energy -f \"lie_ligand.edr\" 2>/dev/null | tail -n2 | awk \\'{ print $2 }\\' | tr \"\\\\n\" \" \")\\n\\nligand_total=\"$(perl -le \"print(${ligand_qq} + ${ligand_lj})\")\"\\n\\nfor i in $(seq 5); do echo \"\"; done\\n{\\n  echo \"***\"\\n  echo \"Total interaction energy (ligand with solvent):  ${ligand_total}\"\\n  echo \"Electrostatics term:  ${ligand_qq}\"\\n  echo \"Van der Waals term:  ${ligand_lj}\"\\n  echo \"***\"\\n} >&3\\n'' returned non-zero exit status 1.",
     "output_type": "error",
     "traceback": [
      "\u001b[0;31m---------------------------------------------------------------------------\u001b[0m",
      "\u001b[0;31mCalledProcessError\u001b[0m                        Traceback (most recent call last)",
      "Cell \u001b[0;32mIn[36], line 1\u001b[0m\n\u001b[0;32m----> 1\u001b[0m \u001b[43mget_ipython\u001b[49m\u001b[43m(\u001b[49m\u001b[43m)\u001b[49m\u001b[38;5;241;43m.\u001b[39;49m\u001b[43mrun_cell_magic\u001b[49m\u001b[43m(\u001b[49m\u001b[38;5;124;43m'\u001b[39;49m\u001b[38;5;124;43mbash\u001b[39;49m\u001b[38;5;124;43m'\u001b[39;49m\u001b[43m,\u001b[49m\u001b[43m \u001b[49m\u001b[38;5;124;43m'\u001b[39;49m\u001b[38;5;124;43m-s \u001b[39;49m\u001b[38;5;124;43m\"\u001b[39;49m\u001b[38;5;124;43m$output_prefix\u001b[39;49m\u001b[38;5;124;43m\"\u001b[39;49m\u001b[38;5;124;43m'\u001b[39;49m\u001b[43m,\u001b[49m\u001b[43m \u001b[49m\u001b[38;5;124;43m'\u001b[39;49m\u001b[38;5;124;43moutput_prefix=\u001b[39;49m\u001b[38;5;124;43m\"\u001b[39;49m\u001b[38;5;124;43m$1\u001b[39;49m\u001b[38;5;124;43m\"\u001b[39;49m\u001b[38;5;130;43;01m\\n\u001b[39;49;00m\u001b[38;5;124;43mexec 3>&1\u001b[39;49m\u001b[38;5;130;43;01m\\n\u001b[39;49;00m\u001b[38;5;124;43mif $VERBOSE; then\u001b[39;49m\u001b[38;5;130;43;01m\\n\u001b[39;49;00m\u001b[38;5;124;43m  exec 2>&1  # fix stderr and stdout appearing out of order\u001b[39;49m\u001b[38;5;130;43;01m\\n\u001b[39;49;00m\u001b[38;5;124;43melse\u001b[39;49m\u001b[38;5;130;43;01m\\n\u001b[39;49;00m\u001b[38;5;124;43m  exec >/dev/null 2>/dev/null  # silence\u001b[39;49m\u001b[38;5;130;43;01m\\n\u001b[39;49;00m\u001b[38;5;124;43mfi\u001b[39;49m\u001b[38;5;130;43;01m\\n\u001b[39;49;00m\u001b[38;5;124;43mset +H  # turn off history expansion so phrases that look like \u001b[39;49m\u001b[38;5;124;43m\"\u001b[39;49m\u001b[38;5;124;43m!...\u001b[39;49m\u001b[38;5;124;43m\"\u001b[39;49m\u001b[38;5;124;43m don\u001b[39;49m\u001b[38;5;130;43;01m\\'\u001b[39;49;00m\u001b[38;5;124;43mt break\u001b[39;49m\u001b[38;5;130;43;01m\\n\u001b[39;49;00m\u001b[38;5;130;43;01m\\n\u001b[39;49;00m\u001b[38;5;124;43m#@markdown **Compute an energy analysis** for the **ligand in only solvent**, by computing a new simulation in a box of water.\u001b[39;49m\u001b[38;5;130;43;01m\\n\u001b[39;49;00m\u001b[38;5;124;43m#@markdown\u001b[39;49m\u001b[38;5;130;43;01m\\n\u001b[39;49;00m\u001b[38;5;124;43m#@markdown (This may take ten minutes.)\u001b[39;49m\u001b[38;5;130;43;01m\\n\u001b[39;49;00m\u001b[38;5;124;43menergy_group=\u001b[39;49m\u001b[38;5;124;43m\"\u001b[39;49m\u001b[38;5;124;43mLIG\u001b[39;49m\u001b[38;5;124;43m\"\u001b[39;49m\u001b[38;5;124;43m #@param \u001b[39;49m\u001b[38;5;124;43m{\u001b[39;49m\u001b[38;5;124;43mtype: \u001b[39;49m\u001b[38;5;124;43m\"\u001b[39;49m\u001b[38;5;124;43mstring\u001b[39;49m\u001b[38;5;124;43m\"\u001b[39;49m\u001b[38;5;124;43m}\u001b[39;49m\u001b[38;5;130;43;01m\\n\u001b[39;49;00m\u001b[38;5;130;43;01m\\n\u001b[39;49;00m\u001b[38;5;124;43msource \u001b[39;49m\u001b[38;5;124;43m\"\u001b[39;49m\u001b[38;5;124;43m/home/aistudio/gromacs/bin/GMXRC.bash\u001b[39;49m\u001b[38;5;124;43m\"\u001b[39;49m\u001b[38;5;130;43;01m\\n\u001b[39;49;00m\u001b[38;5;130;43;01m\\n\u001b[39;49;00m\u001b[38;5;130;43;01m\\n\u001b[39;49;00m\u001b[38;5;124;43m#\u001b[39;49m\u001b[38;5;130;43;01m\\n\u001b[39;49;00m\u001b[38;5;124;43m# Simulate ligand in solvent\u001b[39;49m\u001b[38;5;130;43;01m\\n\u001b[39;49;00m\u001b[38;5;124;43m#\u001b[39;49m\u001b[38;5;130;43;01m\\n\u001b[39;49;00m\u001b[38;5;130;43;01m\\n\u001b[39;49;00m\u001b[38;5;124;43mgmx trjconv -s \u001b[39;49m\u001b[38;5;124;43m\"\u001b[39;49m\u001b[38;5;124;43m$\u001b[39;49m\u001b[38;5;132;43;01m{output_prefix}\u001b[39;49;00m\u001b[38;5;124;43m.tpr\u001b[39;49m\u001b[38;5;124;43m\"\u001b[39;49m\u001b[38;5;124;43m -f \u001b[39;49m\u001b[38;5;124;43m\"\u001b[39;49m\u001b[38;5;124;43mrerun.trr\u001b[39;49m\u001b[38;5;124;43m\"\u001b[39;49m\u001b[38;5;124;43m -n \u001b[39;49m\u001b[38;5;124;43m\"\u001b[39;49m\u001b[38;5;124;43mindex.ndx\u001b[39;49m\u001b[38;5;124;43m\"\u001b[39;49m\u001b[38;5;124;43m -dump 1000 -o \u001b[39;49m\u001b[38;5;124;43m\"\u001b[39;49m\u001b[38;5;124;43mligand.gro\u001b[39;49m\u001b[38;5;124;43m\"\u001b[39;49m\u001b[38;5;124;43m <<< \u001b[39;49m\u001b[38;5;124;43m\"\u001b[39;49m\u001b[38;5;124;43m$\u001b[39;49m\u001b[38;5;132;43;01m{energy_group}\u001b[39;49;00m\u001b[38;5;124;43m\"\u001b[39;49m\u001b[38;5;130;43;01m\\n\u001b[39;49;00m\u001b[38;5;130;43;01m\\n\u001b[39;49;00m\u001b[38;5;124;43mgmx editconf -f \u001b[39;49m\u001b[38;5;124;43m\"\u001b[39;49m\u001b[38;5;124;43mligand.gro\u001b[39;49m\u001b[38;5;124;43m\"\u001b[39;49m\u001b[38;5;124;43m -o \u001b[39;49m\u001b[38;5;124;43m\"\u001b[39;49m\u001b[38;5;124;43mout.gro\u001b[39;49m\u001b[38;5;124;43m\"\u001b[39;49m\u001b[38;5;124;43m -c -d 1.0 -bt \u001b[39;49m\u001b[38;5;124;43m\"\u001b[39;49m\u001b[38;5;124;43mdodecahedron\u001b[39;49m\u001b[38;5;124;43m\"\u001b[39;49m\u001b[38;5;130;43;01m\\n\u001b[39;49;00m\u001b[38;5;124;43mmv \u001b[39;49m\u001b[38;5;124;43m\"\u001b[39;49m\u001b[38;5;124;43mout.gro\u001b[39;49m\u001b[38;5;124;43m\"\u001b[39;49m\u001b[38;5;124;43m \u001b[39;49m\u001b[38;5;124;43m\"\u001b[39;49m\u001b[38;5;124;43mligand.gro\u001b[39;49m\u001b[38;5;124;43m\"\u001b[39;49m\u001b[38;5;130;43;01m\\n\u001b[39;49;00m\u001b[38;5;130;43;01m\\n\u001b[39;49;00m\u001b[38;5;124;43msed -E \u001b[39;49m\u001b[38;5;130;43;01m\\'\u001b[39;49;00m\u001b[38;5;124;43m/\u001b[39;49m\u001b[38;5;130;43;01m\\\\\u001b[39;49;00m\u001b[38;5;124;43m[\u001b[39;49m\u001b[38;5;130;43;01m\\\\\u001b[39;49;00m\u001b[38;5;124;43ms*molecules\u001b[39;49m\u001b[38;5;130;43;01m\\\\\u001b[39;49;00m\u001b[38;5;124;43ms*\u001b[39;49m\u001b[38;5;130;43;01m\\\\\u001b[39;49;00m\u001b[38;5;124;43m]/q\u001b[39;49m\u001b[38;5;130;43;01m\\'\u001b[39;49;00m\u001b[38;5;124;43m \u001b[39;49m\u001b[38;5;124;43m\"\u001b[39;49m\u001b[38;5;124;43mtopol.top\u001b[39;49m\u001b[38;5;124;43m\"\u001b[39;49m\u001b[38;5;124;43m > \u001b[39;49m\u001b[38;5;124;43m\"\u001b[39;49m\u001b[38;5;124;43mligand.top\u001b[39;49m\u001b[38;5;124;43m\"\u001b[39;49m\u001b[38;5;130;43;01m\\n\u001b[39;49;00m\u001b[38;5;124;43mecho \u001b[39;49m\u001b[38;5;124;43m\"\u001b[39;49m\u001b[38;5;124;43m$\u001b[39;49m\u001b[38;5;132;43;01m{energy_group}\u001b[39;49;00m\u001b[38;5;124;43m 1\u001b[39;49m\u001b[38;5;124;43m\"\u001b[39;49m\u001b[38;5;124;43m >> \u001b[39;49m\u001b[38;5;124;43m\"\u001b[39;49m\u001b[38;5;124;43mligand.top\u001b[39;49m\u001b[38;5;124;43m\"\u001b[39;49m\u001b[38;5;130;43;01m\\n\u001b[39;49;00m\u001b[38;5;130;43;01m\\n\u001b[39;49;00m\u001b[38;5;124;43m# Put the full CHARMM36 forcefield first, deleting other forcefield.itps, to ensure TIP3 and ions are included\u001b[39;49m\u001b[38;5;130;43;01m\\n\u001b[39;49;00m\u001b[38;5;124;43m# (This makes the assumption that the input system uses CHARMM36)\u001b[39;49m\u001b[38;5;130;43;01m\\n\u001b[39;49;00m\u001b[38;5;124;43mawk \u001b[39;49m\u001b[38;5;130;43;01m\\'\u001b[39;49;00m\u001b[38;5;124;43m! x && $0 ~ /^#include/ \u001b[39;49m\u001b[38;5;124;43m{\u001b[39;49m\u001b[38;5;124;43m x=1; print \u001b[39;49m\u001b[38;5;124;43m\"\u001b[39;49m\u001b[38;5;124;43m#include \u001b[39;49m\u001b[38;5;130;43;01m\\\\\u001b[39;49;00m\u001b[38;5;124;43m\"\u001b[39;49m\u001b[38;5;130;43;01m\\'\u001b[39;49;00m\u001b[38;5;124;43m\"\u001b[39;49m\u001b[38;5;124;43m$\u001b[39;49m\u001b[38;5;132;43;01m{START}\u001b[39;49;00m\u001b[38;5;124;43m\"\u001b[39;49m\u001b[38;5;130;43;01m\\'\u001b[39;49;00m\u001b[38;5;124;43m/charmm36.ff/forcefield.itp\u001b[39;49m\u001b[38;5;130;43;01m\\\\\u001b[39;49;00m\u001b[38;5;124;43m\"\u001b[39;49m\u001b[38;5;124;43m\"\u001b[39;49m\u001b[38;5;124;43m }; $0 !~ /forcefield.itp/ \u001b[39;49m\u001b[38;5;124;43m{\u001b[39;49m\u001b[38;5;124;43m print }\u001b[39;49m\u001b[38;5;130;43;01m\\'\u001b[39;49;00m\u001b[38;5;124;43m \u001b[39;49m\u001b[38;5;124;43m\"\u001b[39;49m\u001b[38;5;124;43mligand.top\u001b[39;49m\u001b[38;5;124;43m\"\u001b[39;49m\u001b[38;5;124;43m > \u001b[39;49m\u001b[38;5;124;43m\"\u001b[39;49m\u001b[38;5;124;43mligand.top.tmp\u001b[39;49m\u001b[38;5;124;43m\"\u001b[39;49m\u001b[38;5;130;43;01m\\n\u001b[39;49;00m\u001b[38;5;124;43mmv \u001b[39;49m\u001b[38;5;124;43m\"\u001b[39;49m\u001b[38;5;124;43mligand.top.tmp\u001b[39;49m\u001b[38;5;124;43m\"\u001b[39;49m\u001b[38;5;124;43m \u001b[39;49m\u001b[38;5;124;43m\"\u001b[39;49m\u001b[38;5;124;43mligand.top\u001b[39;49m\u001b[38;5;124;43m\"\u001b[39;49m\u001b[38;5;130;43;01m\\n\u001b[39;49;00m\u001b[38;5;130;43;01m\\n\u001b[39;49;00m\u001b[38;5;124;43m# Solvate with TIP3\u001b[39;49m\u001b[38;5;130;43;01m\\n\u001b[39;49;00m\u001b[38;5;124;43msed \u001b[39;49m\u001b[38;5;130;43;01m\\'\u001b[39;49;00m\u001b[38;5;124;43ms/SOL /TIP3/g\u001b[39;49m\u001b[38;5;130;43;01m\\'\u001b[39;49;00m\u001b[38;5;124;43m \u001b[39;49m\u001b[38;5;124;43m\"\u001b[39;49m\u001b[38;5;124;43m/usr/local/gromacs/share/gromacs/top/spc216.gro\u001b[39;49m\u001b[38;5;124;43m\"\u001b[39;49m\u001b[38;5;124;43m > \u001b[39;49m\u001b[38;5;124;43m\"\u001b[39;49m\u001b[38;5;124;43mTIP3.gro\u001b[39;49m\u001b[38;5;124;43m\"\u001b[39;49m\u001b[38;5;130;43;01m\\n\u001b[39;49;00m\u001b[38;5;124;43mgmx solvate -cp \u001b[39;49m\u001b[38;5;124;43m\"\u001b[39;49m\u001b[38;5;124;43mligand.gro\u001b[39;49m\u001b[38;5;124;43m\"\u001b[39;49m\u001b[38;5;124;43m -cs \u001b[39;49m\u001b[38;5;124;43m\"\u001b[39;49m\u001b[38;5;124;43mTIP3.gro\u001b[39;49m\u001b[38;5;124;43m\"\u001b[39;49m\u001b[38;5;124;43m -o \u001b[39;49m\u001b[38;5;124;43m\"\u001b[39;49m\u001b[38;5;124;43mout.gro\u001b[39;49m\u001b[38;5;124;43m\"\u001b[39;49m\u001b[38;5;124;43m -p \u001b[39;49m\u001b[38;5;124;43m\"\u001b[39;49m\u001b[38;5;124;43mligand.top\u001b[39;49m\u001b[38;5;124;43m\"\u001b[39;49m\u001b[38;5;130;43;01m\\n\u001b[39;49;00m\u001b[38;5;124;43mmv \u001b[39;49m\u001b[38;5;124;43m\"\u001b[39;49m\u001b[38;5;124;43mout.gro\u001b[39;49m\u001b[38;5;124;43m\"\u001b[39;49m\u001b[38;5;124;43m \u001b[39;49m\u001b[38;5;124;43m\"\u001b[39;49m\u001b[38;5;124;43mligand.gro\u001b[39;49m\u001b[38;5;124;43m\"\u001b[39;49m\u001b[38;5;130;43;01m\\n\u001b[39;49;00m\u001b[38;5;130;43;01m\\n\u001b[39;49;00m\u001b[38;5;130;43;01m\\n\u001b[39;49;00m\u001b[38;5;124;43m#\u001b[39;49m\u001b[38;5;130;43;01m\\n\u001b[39;49;00m\u001b[38;5;124;43m# Minimisation\u001b[39;49m\u001b[38;5;130;43;01m\\n\u001b[39;49;00m\u001b[38;5;124;43m#\u001b[39;49m\u001b[38;5;130;43;01m\\n\u001b[39;49;00m\u001b[38;5;130;43;01m\\n\u001b[39;49;00m\u001b[38;5;124;43mcat > \u001b[39;49m\u001b[38;5;124;43m\"\u001b[39;49m\u001b[38;5;124;43mligand_min.mdp\u001b[39;49m\u001b[38;5;124;43m\"\u001b[39;49m\u001b[38;5;124;43m <<EOS\u001b[39;49m\u001b[38;5;130;43;01m\\n\u001b[39;49;00m\u001b[38;5;124;43m; See GROMACS_for_CHARMM-GUI.ipynb\u001b[39;49m\u001b[38;5;130;43;01m\\n\u001b[39;49;00m\u001b[38;5;130;43;01m\\n\u001b[39;49;00m\u001b[38;5;124;43mintegrator            =  steep\u001b[39;49m\u001b[38;5;130;43;01m\\n\u001b[39;49;00m\u001b[38;5;124;43memtol                 =  1000.0\u001b[39;49m\u001b[38;5;130;43;01m\\n\u001b[39;49;00m\u001b[38;5;124;43mnsteps                =  5000\u001b[39;49m\u001b[38;5;130;43;01m\\n\u001b[39;49;00m\u001b[38;5;130;43;01m\\n\u001b[39;49;00m\u001b[38;5;124;43mcutoff-scheme         =  Verlet\u001b[39;49m\u001b[38;5;130;43;01m\\n\u001b[39;49;00m\u001b[38;5;124;43mnstlist               =  10\u001b[39;49m\u001b[38;5;130;43;01m\\n\u001b[39;49;00m\u001b[38;5;124;43mcoulombtype           =  PME\u001b[39;49m\u001b[38;5;130;43;01m\\n\u001b[39;49;00m\u001b[38;5;124;43mrcoulomb              =  1.2\u001b[39;49m\u001b[38;5;130;43;01m\\n\u001b[39;49;00m\u001b[38;5;124;43mvdwtype               =  Cut-off\u001b[39;49m\u001b[38;5;130;43;01m\\n\u001b[39;49;00m\u001b[38;5;124;43mvdw-modifier          =  Force-switch\u001b[39;49m\u001b[38;5;130;43;01m\\n\u001b[39;49;00m\u001b[38;5;124;43mrvdw-switch           =  1.0\u001b[39;49m\u001b[38;5;130;43;01m\\n\u001b[39;49;00m\u001b[38;5;124;43mrvdw                  =  1.2\u001b[39;49m\u001b[38;5;130;43;01m\\n\u001b[39;49;00m\u001b[38;5;130;43;01m\\n\u001b[39;49;00m\u001b[38;5;124;43mconstraints           =  h-bonds\u001b[39;49m\u001b[38;5;130;43;01m\\n\u001b[39;49;00m\u001b[38;5;124;43mconstraint-algorithm  =  LINCS\u001b[39;49m\u001b[38;5;130;43;01m\\n\u001b[39;49;00m\u001b[38;5;124;43mEOS\u001b[39;49m\u001b[38;5;130;43;01m\\n\u001b[39;49;00m\u001b[38;5;130;43;01m\\n\u001b[39;49;00m\u001b[38;5;124;43mgmx grompp -f \u001b[39;49m\u001b[38;5;124;43m\"\u001b[39;49m\u001b[38;5;124;43mligand_min.mdp\u001b[39;49m\u001b[38;5;124;43m\"\u001b[39;49m\u001b[38;5;124;43m -o \u001b[39;49m\u001b[38;5;124;43m\"\u001b[39;49m\u001b[38;5;124;43mligand_min.tpr\u001b[39;49m\u001b[38;5;124;43m\"\u001b[39;49m\u001b[38;5;124;43m -c \u001b[39;49m\u001b[38;5;124;43m\"\u001b[39;49m\u001b[38;5;124;43mligand.gro\u001b[39;49m\u001b[38;5;124;43m\"\u001b[39;49m\u001b[38;5;124;43m -p \u001b[39;49m\u001b[38;5;124;43m\"\u001b[39;49m\u001b[38;5;124;43mligand.top\u001b[39;49m\u001b[38;5;124;43m\"\u001b[39;49m\u001b[38;5;124;43m -maxwarn 999\u001b[39;49m\u001b[38;5;130;43;01m\\n\u001b[39;49;00m\u001b[38;5;130;43;01m\\n\u001b[39;49;00m\u001b[38;5;124;43mgmx genion -s \u001b[39;49m\u001b[38;5;124;43m\"\u001b[39;49m\u001b[38;5;124;43mligand_min.tpr\u001b[39;49m\u001b[38;5;124;43m\"\u001b[39;49m\u001b[38;5;124;43m -o \u001b[39;49m\u001b[38;5;124;43m\"\u001b[39;49m\u001b[38;5;124;43mout.gro\u001b[39;49m\u001b[38;5;124;43m\"\u001b[39;49m\u001b[38;5;124;43m -p \u001b[39;49m\u001b[38;5;124;43m\"\u001b[39;49m\u001b[38;5;124;43mligand.top\u001b[39;49m\u001b[38;5;124;43m\"\u001b[39;49m\u001b[38;5;124;43m -pname \u001b[39;49m\u001b[38;5;124;43m\"\u001b[39;49m\u001b[38;5;124;43mPOT\u001b[39;49m\u001b[38;5;124;43m\"\u001b[39;49m\u001b[38;5;124;43m -nname \u001b[39;49m\u001b[38;5;124;43m\"\u001b[39;49m\u001b[38;5;124;43mCLA\u001b[39;49m\u001b[38;5;124;43m\"\u001b[39;49m\u001b[38;5;124;43m -neutral <<< \u001b[39;49m\u001b[38;5;124;43m\"\u001b[39;49m\u001b[38;5;124;43mTIP3\u001b[39;49m\u001b[38;5;124;43m\"\u001b[39;49m\u001b[38;5;130;43;01m\\n\u001b[39;49;00m\u001b[38;5;124;43mmv \u001b[39;49m\u001b[38;5;124;43m\"\u001b[39;49m\u001b[38;5;124;43mout.gro\u001b[39;49m\u001b[38;5;124;43m\"\u001b[39;49m\u001b[38;5;124;43m \u001b[39;49m\u001b[38;5;124;43m\"\u001b[39;49m\u001b[38;5;124;43mligand.gro\u001b[39;49m\u001b[38;5;124;43m\"\u001b[39;49m\u001b[38;5;130;43;01m\\n\u001b[39;49;00m\u001b[38;5;130;43;01m\\n\u001b[39;49;00m\u001b[38;5;124;43mgmx grompp -f \u001b[39;49m\u001b[38;5;124;43m\"\u001b[39;49m\u001b[38;5;124;43mligand_min.mdp\u001b[39;49m\u001b[38;5;124;43m\"\u001b[39;49m\u001b[38;5;124;43m -o \u001b[39;49m\u001b[38;5;124;43m\"\u001b[39;49m\u001b[38;5;124;43mligand.tpr\u001b[39;49m\u001b[38;5;124;43m\"\u001b[39;49m\u001b[38;5;124;43m -c \u001b[39;49m\u001b[38;5;124;43m\"\u001b[39;49m\u001b[38;5;124;43mligand.gro\u001b[39;49m\u001b[38;5;124;43m\"\u001b[39;49m\u001b[38;5;124;43m -p \u001b[39;49m\u001b[38;5;124;43m\"\u001b[39;49m\u001b[38;5;124;43mligand.top\u001b[39;49m\u001b[38;5;124;43m\"\u001b[39;49m\u001b[38;5;124;43m -maxwarn 999\u001b[39;49m\u001b[38;5;130;43;01m\\n\u001b[39;49;00m\u001b[38;5;130;43;01m\\n\u001b[39;49;00m\u001b[38;5;124;43mgmx mdrun -v -stepout 1000 -deffnm \u001b[39;49m\u001b[38;5;124;43m\"\u001b[39;49m\u001b[38;5;124;43mligand_min\u001b[39;49m\u001b[38;5;124;43m\"\u001b[39;49m\u001b[38;5;130;43;01m\\n\u001b[39;49;00m\u001b[38;5;124;43mret=$?; if (( $ret != 0 )); then exit $ret; fi\u001b[39;49m\u001b[38;5;130;43;01m\\n\u001b[39;49;00m\u001b[38;5;130;43;01m\\n\u001b[39;49;00m\u001b[38;5;130;43;01m\\n\u001b[39;49;00m\u001b[38;5;124;43m#\u001b[39;49m\u001b[38;5;130;43;01m\\n\u001b[39;49;00m\u001b[38;5;124;43m# Equilibration\u001b[39;49m\u001b[38;5;130;43;01m\\n\u001b[39;49;00m\u001b[38;5;124;43m#\u001b[39;49m\u001b[38;5;130;43;01m\\n\u001b[39;49;00m\u001b[38;5;130;43;01m\\n\u001b[39;49;00m\u001b[38;5;124;43mcat > \u001b[39;49m\u001b[38;5;124;43m\"\u001b[39;49m\u001b[38;5;124;43mligand_eq.mdp\u001b[39;49m\u001b[38;5;124;43m\"\u001b[39;49m\u001b[38;5;124;43m <<EOS\u001b[39;49m\u001b[38;5;130;43;01m\\n\u001b[39;49;00m\u001b[38;5;124;43m; See GROMACS_for_CHARMM-GUI.ipynb\u001b[39;49m\u001b[38;5;130;43;01m\\n\u001b[39;49;00m\u001b[38;5;130;43;01m\\n\u001b[39;49;00m\u001b[38;5;124;43mintegrator  =  md\u001b[39;49m\u001b[38;5;130;43;01m\\n\u001b[39;49;00m\u001b[38;5;124;43mdt          =  0.001     ; 1 fs\u001b[39;49m\u001b[38;5;130;43;01m\\n\u001b[39;49;00m\u001b[38;5;124;43mnsteps      =  100000    ; 100 ps simulation time\u001b[39;49m\u001b[38;5;130;43;01m\\n\u001b[39;49;00m\u001b[38;5;124;43mcomm-mode   =  Linear\u001b[39;49m\u001b[38;5;130;43;01m\\n\u001b[39;49;00m\u001b[38;5;130;43;01m\\n\u001b[39;49;00m\u001b[38;5;124;43mcutoff-scheme  =  Verlet\u001b[39;49m\u001b[38;5;130;43;01m\\n\u001b[39;49;00m\u001b[38;5;124;43mnstlist        =  20\u001b[39;49m\u001b[38;5;130;43;01m\\n\u001b[39;49;00m\u001b[38;5;124;43mcoulombtype    =  PME\u001b[39;49m\u001b[38;5;130;43;01m\\n\u001b[39;49;00m\u001b[38;5;124;43mrcoulomb       =  1.2\u001b[39;49m\u001b[38;5;130;43;01m\\n\u001b[39;49;00m\u001b[38;5;124;43mvdwtype        =  Cut-off\u001b[39;49m\u001b[38;5;130;43;01m\\n\u001b[39;49;00m\u001b[38;5;124;43mvdw-modifier   =  Force-switch\u001b[39;49m\u001b[38;5;130;43;01m\\n\u001b[39;49;00m\u001b[38;5;124;43mrvdw-switch    =  1.0\u001b[39;49m\u001b[38;5;130;43;01m\\n\u001b[39;49;00m\u001b[38;5;124;43mrvdw           =  1.2\u001b[39;49m\u001b[38;5;130;43;01m\\n\u001b[39;49;00m\u001b[38;5;130;43;01m\\n\u001b[39;49;00m\u001b[38;5;124;43mtcoupl   = Berendsen\u001b[39;49m\u001b[38;5;130;43;01m\\n\u001b[39;49;00m\u001b[38;5;124;43mtc-grps  = System\u001b[39;49m\u001b[38;5;130;43;01m\\n\u001b[39;49;00m\u001b[38;5;124;43mtau-t    = 1.0\u001b[39;49m\u001b[38;5;130;43;01m\\n\u001b[39;49;00m\u001b[38;5;124;43mref-t    = 303.15\u001b[39;49m\u001b[38;5;130;43;01m\\n\u001b[39;49;00m\u001b[38;5;130;43;01m\\n\u001b[39;49;00m\u001b[38;5;124;43mpcoupl            = Berendsen\u001b[39;49m\u001b[38;5;130;43;01m\\n\u001b[39;49;00m\u001b[38;5;124;43mpcoupltype        = isotropic\u001b[39;49m\u001b[38;5;130;43;01m\\n\u001b[39;49;00m\u001b[38;5;124;43mtau-p             = 5.0\u001b[39;49m\u001b[38;5;130;43;01m\\n\u001b[39;49;00m\u001b[38;5;124;43mcompressibility   = 4.5e-5\u001b[39;49m\u001b[38;5;130;43;01m\\n\u001b[39;49;00m\u001b[38;5;124;43mref-p             = 1.0\u001b[39;49m\u001b[38;5;130;43;01m\\n\u001b[39;49;00m\u001b[38;5;124;43mrefcoord-scaling  = com\u001b[39;49m\u001b[38;5;130;43;01m\\n\u001b[39;49;00m\u001b[38;5;130;43;01m\\n\u001b[39;49;00m\u001b[38;5;124;43mconstraints           =  h-bonds\u001b[39;49m\u001b[38;5;130;43;01m\\n\u001b[39;49;00m\u001b[38;5;124;43mconstraint-algorithm  =  LINCS\u001b[39;49m\u001b[38;5;130;43;01m\\n\u001b[39;49;00m\u001b[38;5;124;43mcontinuation          =  yes\u001b[39;49m\u001b[38;5;130;43;01m\\n\u001b[39;49;00m\u001b[38;5;124;43mEOS\u001b[39;49m\u001b[38;5;130;43;01m\\n\u001b[39;49;00m\u001b[38;5;130;43;01m\\n\u001b[39;49;00m\u001b[38;5;124;43mgmx grompp -f \u001b[39;49m\u001b[38;5;124;43m\"\u001b[39;49m\u001b[38;5;124;43mligand_eq.mdp\u001b[39;49m\u001b[38;5;124;43m\"\u001b[39;49m\u001b[38;5;124;43m -o \u001b[39;49m\u001b[38;5;124;43m\"\u001b[39;49m\u001b[38;5;124;43mligand_eq.tpr\u001b[39;49m\u001b[38;5;124;43m\"\u001b[39;49m\u001b[38;5;124;43m -c \u001b[39;49m\u001b[38;5;124;43m\"\u001b[39;49m\u001b[38;5;124;43mligand_min.gro\u001b[39;49m\u001b[38;5;124;43m\"\u001b[39;49m\u001b[38;5;124;43m -p \u001b[39;49m\u001b[38;5;124;43m\"\u001b[39;49m\u001b[38;5;124;43mligand.top\u001b[39;49m\u001b[38;5;124;43m\"\u001b[39;49m\u001b[38;5;124;43m -maxwarn 999\u001b[39;49m\u001b[38;5;130;43;01m\\n\u001b[39;49;00m\u001b[38;5;130;43;01m\\n\u001b[39;49;00m\u001b[38;5;124;43mgmx mdrun -v -stepout 1000 -deffnm \u001b[39;49m\u001b[38;5;124;43m\"\u001b[39;49m\u001b[38;5;124;43mligand_eq\u001b[39;49m\u001b[38;5;124;43m\"\u001b[39;49m\u001b[38;5;130;43;01m\\n\u001b[39;49;00m\u001b[38;5;124;43mret=$?; if (( $ret != 0 )); then exit $ret; fi\u001b[39;49m\u001b[38;5;130;43;01m\\n\u001b[39;49;00m\u001b[38;5;130;43;01m\\n\u001b[39;49;00m\u001b[38;5;130;43;01m\\n\u001b[39;49;00m\u001b[38;5;124;43m#\u001b[39;49m\u001b[38;5;130;43;01m\\n\u001b[39;49;00m\u001b[38;5;124;43m# Production\u001b[39;49m\u001b[38;5;130;43;01m\\n\u001b[39;49;00m\u001b[38;5;124;43m#\u001b[39;49m\u001b[38;5;130;43;01m\\n\u001b[39;49;00m\u001b[38;5;130;43;01m\\n\u001b[39;49;00m\u001b[38;5;124;43mcat > \u001b[39;49m\u001b[38;5;124;43m\"\u001b[39;49m\u001b[38;5;124;43mligand_prod.mdp\u001b[39;49m\u001b[38;5;124;43m\"\u001b[39;49m\u001b[38;5;124;43m <<EOS\u001b[39;49m\u001b[38;5;130;43;01m\\n\u001b[39;49;00m\u001b[38;5;124;43m; See GROMACS_for_CHARMM-GUI.ipynb\u001b[39;49m\u001b[38;5;130;43;01m\\n\u001b[39;49;00m\u001b[38;5;130;43;01m\\n\u001b[39;49;00m\u001b[38;5;124;43mintegrator  =  md\u001b[39;49m\u001b[38;5;130;43;01m\\n\u001b[39;49;00m\u001b[38;5;124;43mdt          =  0.002     ; 2 fs\u001b[39;49m\u001b[38;5;130;43;01m\\n\u001b[39;49;00m\u001b[38;5;124;43mnsteps      =  50000     ; 100 ps simulation time\u001b[39;49m\u001b[38;5;130;43;01m\\n\u001b[39;49;00m\u001b[38;5;124;43mcomm-mode   =  Linear\u001b[39;49m\u001b[38;5;130;43;01m\\n\u001b[39;49;00m\u001b[38;5;130;43;01m\\n\u001b[39;49;00m\u001b[38;5;124;43mnstxout  =  5000    ; 10 frames total\u001b[39;49m\u001b[38;5;130;43;01m\\n\u001b[39;49;00m\u001b[38;5;124;43mnstvout  =  5000\u001b[39;49m\u001b[38;5;130;43;01m\\n\u001b[39;49;00m\u001b[38;5;130;43;01m\\n\u001b[39;49;00m\u001b[38;5;124;43mcutoff-scheme  =  Verlet\u001b[39;49m\u001b[38;5;130;43;01m\\n\u001b[39;49;00m\u001b[38;5;124;43mnstlist        =  20\u001b[39;49m\u001b[38;5;130;43;01m\\n\u001b[39;49;00m\u001b[38;5;124;43mcoulombtype    =  PME\u001b[39;49m\u001b[38;5;130;43;01m\\n\u001b[39;49;00m\u001b[38;5;124;43mrcoulomb       =  1.2\u001b[39;49m\u001b[38;5;130;43;01m\\n\u001b[39;49;00m\u001b[38;5;124;43mvdwtype        =  Cut-off\u001b[39;49m\u001b[38;5;130;43;01m\\n\u001b[39;49;00m\u001b[38;5;124;43mvdw-modifier   =  Force-switch\u001b[39;49m\u001b[38;5;130;43;01m\\n\u001b[39;49;00m\u001b[38;5;124;43mrvdw-switch    =  1.0\u001b[39;49m\u001b[38;5;130;43;01m\\n\u001b[39;49;00m\u001b[38;5;124;43mrvdw           =  1.2\u001b[39;49m\u001b[38;5;130;43;01m\\n\u001b[39;49;00m\u001b[38;5;130;43;01m\\n\u001b[39;49;00m\u001b[38;5;124;43mtcoupl   =  V-Rescale\u001b[39;49m\u001b[38;5;130;43;01m\\n\u001b[39;49;00m\u001b[38;5;124;43mtc-grps  =  System\u001b[39;49m\u001b[38;5;130;43;01m\\n\u001b[39;49;00m\u001b[38;5;124;43mtau-t    =  1.0\u001b[39;49m\u001b[38;5;130;43;01m\\n\u001b[39;49;00m\u001b[38;5;124;43mref-t    =  303.15\u001b[39;49m\u001b[38;5;130;43;01m\\n\u001b[39;49;00m\u001b[38;5;130;43;01m\\n\u001b[39;49;00m\u001b[38;5;124;43mpcoupl           =  Parrinello-Rahman\u001b[39;49m\u001b[38;5;130;43;01m\\n\u001b[39;49;00m\u001b[38;5;124;43mpcoupltype       =  isotropic\u001b[39;49m\u001b[38;5;130;43;01m\\n\u001b[39;49;00m\u001b[38;5;124;43mtau-p            =  5.0\u001b[39;49m\u001b[38;5;130;43;01m\\n\u001b[39;49;00m\u001b[38;5;124;43mcompressibility  =  4.5e-5\u001b[39;49m\u001b[38;5;130;43;01m\\n\u001b[39;49;00m\u001b[38;5;124;43mref-p            =  1.0\u001b[39;49m\u001b[38;5;130;43;01m\\n\u001b[39;49;00m\u001b[38;5;130;43;01m\\n\u001b[39;49;00m\u001b[38;5;124;43mconstraints           =  h-bonds\u001b[39;49m\u001b[38;5;130;43;01m\\n\u001b[39;49;00m\u001b[38;5;124;43mconstraint-algorithm  =  LINCS\u001b[39;49m\u001b[38;5;130;43;01m\\n\u001b[39;49;00m\u001b[38;5;124;43mcontinuation          =  yes\u001b[39;49m\u001b[38;5;130;43;01m\\n\u001b[39;49;00m\u001b[38;5;124;43mEOS\u001b[39;49m\u001b[38;5;130;43;01m\\n\u001b[39;49;00m\u001b[38;5;130;43;01m\\n\u001b[39;49;00m\u001b[38;5;124;43mgmx grompp -f \u001b[39;49m\u001b[38;5;124;43m\"\u001b[39;49m\u001b[38;5;124;43mligand_prod.mdp\u001b[39;49m\u001b[38;5;124;43m\"\u001b[39;49m\u001b[38;5;124;43m -o \u001b[39;49m\u001b[38;5;124;43m\"\u001b[39;49m\u001b[38;5;124;43mligand_prod.tpr\u001b[39;49m\u001b[38;5;124;43m\"\u001b[39;49m\u001b[38;5;124;43m -c \u001b[39;49m\u001b[38;5;124;43m\"\u001b[39;49m\u001b[38;5;124;43mligand_eq.gro\u001b[39;49m\u001b[38;5;124;43m\"\u001b[39;49m\u001b[38;5;124;43m -p \u001b[39;49m\u001b[38;5;124;43m\"\u001b[39;49m\u001b[38;5;124;43mligand.top\u001b[39;49m\u001b[38;5;124;43m\"\u001b[39;49m\u001b[38;5;124;43m -maxwarn 999\u001b[39;49m\u001b[38;5;130;43;01m\\n\u001b[39;49;00m\u001b[38;5;130;43;01m\\n\u001b[39;49;00m\u001b[38;5;124;43mgmx mdrun -v -stepout 1000 -deffnm \u001b[39;49m\u001b[38;5;124;43m\"\u001b[39;49m\u001b[38;5;124;43mligand_prod\u001b[39;49m\u001b[38;5;124;43m\"\u001b[39;49m\u001b[38;5;130;43;01m\\n\u001b[39;49;00m\u001b[38;5;124;43mret=$?; if (( $ret != 0 )); then exit $ret; fi\u001b[39;49m\u001b[38;5;130;43;01m\\n\u001b[39;49;00m\u001b[38;5;130;43;01m\\n\u001b[39;49;00m\u001b[38;5;130;43;01m\\n\u001b[39;49;00m\u001b[38;5;124;43m#\u001b[39;49m\u001b[38;5;130;43;01m\\n\u001b[39;49;00m\u001b[38;5;124;43m# Energy monitoring rerun of simulation with ligand\u001b[39;49m\u001b[38;5;130;43;01m\\n\u001b[39;49;00m\u001b[38;5;124;43m#\u001b[39;49m\u001b[38;5;130;43;01m\\n\u001b[39;49;00m\u001b[38;5;130;43;01m\\n\u001b[39;49;00m\u001b[38;5;124;43mecho \u001b[39;49m\u001b[38;5;124;43m\"\u001b[39;49m\u001b[38;5;124;43mq\u001b[39;49m\u001b[38;5;124;43m\"\u001b[39;49m\u001b[38;5;124;43m | gmx make_ndx -f \u001b[39;49m\u001b[38;5;124;43m\"\u001b[39;49m\u001b[38;5;124;43mligand_min.gro\u001b[39;49m\u001b[38;5;124;43m\"\u001b[39;49m\u001b[38;5;124;43m -o \u001b[39;49m\u001b[38;5;124;43m\"\u001b[39;49m\u001b[38;5;124;43mligand.ndx\u001b[39;49m\u001b[38;5;124;43m\"\u001b[39;49m\u001b[38;5;130;43;01m\\n\u001b[39;49;00m\u001b[38;5;124;43mgroup_id=$(fgrep \u001b[39;49m\u001b[38;5;130;43;01m\\'\u001b[39;49;00m\u001b[38;5;124;43m[\u001b[39;49m\u001b[38;5;130;43;01m\\'\u001b[39;49;00m\u001b[38;5;124;43m \u001b[39;49m\u001b[38;5;124;43m\"\u001b[39;49m\u001b[38;5;124;43mligand.ndx\u001b[39;49m\u001b[38;5;124;43m\"\u001b[39;49m\u001b[38;5;124;43m | wc -l)\u001b[39;49m\u001b[38;5;130;43;01m\\n\u001b[39;49;00m\u001b[38;5;124;43m{\u001b[39;49m\u001b[38;5;124;43m echo \u001b[39;49m\u001b[38;5;124;43m\"\u001b[39;49m\u001b[38;5;124;43m! \u001b[39;49m\u001b[38;5;130;43;01m\\\\\u001b[39;49;00m\u001b[38;5;124;43m\"\u001b[39;49m\u001b[38;5;124;43m$\u001b[39;49m\u001b[38;5;132;43;01m{energy_group}\u001b[39;49;00m\u001b[38;5;130;43;01m\\\\\u001b[39;49;00m\u001b[38;5;124;43m\"\u001b[39;49m\u001b[38;5;124;43m\"\u001b[39;49m\u001b[38;5;124;43m; echo \u001b[39;49m\u001b[38;5;124;43m\"\u001b[39;49m\u001b[38;5;124;43mname $\u001b[39;49m\u001b[38;5;132;43;01m{group_id}\u001b[39;49;00m\u001b[38;5;124;43m Surround\u001b[39;49m\u001b[38;5;124;43m\"\u001b[39;49m\u001b[38;5;124;43m; echo \u001b[39;49m\u001b[38;5;124;43m\"\u001b[39;49m\u001b[38;5;124;43mq\u001b[39;49m\u001b[38;5;124;43m\"\u001b[39;49m\u001b[38;5;124;43m; } | gmx make_ndx -f \u001b[39;49m\u001b[38;5;124;43m\"\u001b[39;49m\u001b[38;5;124;43mligand_min.gro\u001b[39;49m\u001b[38;5;124;43m\"\u001b[39;49m\u001b[38;5;124;43m -n \u001b[39;49m\u001b[38;5;124;43m\"\u001b[39;49m\u001b[38;5;124;43mligand.ndx\u001b[39;49m\u001b[38;5;124;43m\"\u001b[39;49m\u001b[38;5;124;43m -o \u001b[39;49m\u001b[38;5;124;43m\"\u001b[39;49m\u001b[38;5;124;43mligand.ndx\u001b[39;49m\u001b[38;5;124;43m\"\u001b[39;49m\u001b[38;5;130;43;01m\\n\u001b[39;49;00m\u001b[38;5;130;43;01m\\n\u001b[39;49;00m\u001b[38;5;124;43m( cat \u001b[39;49m\u001b[38;5;124;43m\"\u001b[39;49m\u001b[38;5;124;43mligand_prod.mdp\u001b[39;49m\u001b[38;5;124;43m\"\u001b[39;49m\u001b[38;5;124;43m; echo \u001b[39;49m\u001b[38;5;124;43m\"\u001b[39;49m\u001b[38;5;124;43menergygrps = $\u001b[39;49m\u001b[38;5;132;43;01m{energy_group}\u001b[39;49;00m\u001b[38;5;124;43m Surround\u001b[39;49m\u001b[38;5;124;43m\"\u001b[39;49m\u001b[38;5;124;43m ) > \u001b[39;49m\u001b[38;5;124;43m\"\u001b[39;49m\u001b[38;5;124;43mlie_ligand.mdp\u001b[39;49m\u001b[38;5;124;43m\"\u001b[39;49m\u001b[38;5;130;43;01m\\n\u001b[39;49;00m\u001b[38;5;124;43mgmx grompp -f \u001b[39;49m\u001b[38;5;124;43m\"\u001b[39;49m\u001b[38;5;124;43mlie_ligand.mdp\u001b[39;49m\u001b[38;5;124;43m\"\u001b[39;49m\u001b[38;5;124;43m -o \u001b[39;49m\u001b[38;5;124;43m\"\u001b[39;49m\u001b[38;5;124;43mlie_ligand.tpr\u001b[39;49m\u001b[38;5;124;43m\"\u001b[39;49m\u001b[38;5;124;43m -c \u001b[39;49m\u001b[38;5;124;43m\"\u001b[39;49m\u001b[38;5;124;43mligand_min.gro\u001b[39;49m\u001b[38;5;124;43m\"\u001b[39;49m\u001b[38;5;124;43m -p \u001b[39;49m\u001b[38;5;124;43m\"\u001b[39;49m\u001b[38;5;124;43mligand.top\u001b[39;49m\u001b[38;5;124;43m\"\u001b[39;49m\u001b[38;5;124;43m -n \u001b[39;49m\u001b[38;5;124;43m\"\u001b[39;49m\u001b[38;5;124;43mligand.ndx\u001b[39;49m\u001b[38;5;124;43m\"\u001b[39;49m\u001b[38;5;124;43m -maxwarn 999\u001b[39;49m\u001b[38;5;130;43;01m\\n\u001b[39;49;00m\u001b[38;5;130;43;01m\\n\u001b[39;49;00m\u001b[38;5;124;43mgmx mdrun -deffnm \u001b[39;49m\u001b[38;5;124;43m\"\u001b[39;49m\u001b[38;5;124;43mlie_ligand\u001b[39;49m\u001b[38;5;124;43m\"\u001b[39;49m\u001b[38;5;124;43m -rerun \u001b[39;49m\u001b[38;5;124;43m\"\u001b[39;49m\u001b[38;5;124;43mligand_prod.trr\u001b[39;49m\u001b[38;5;124;43m\"\u001b[39;49m\u001b[38;5;130;43;01m\\n\u001b[39;49;00m\u001b[38;5;130;43;01m\\n\u001b[39;49;00m\u001b[38;5;130;43;01m\\n\u001b[39;49;00m\u001b[38;5;124;43m#\u001b[39;49m\u001b[38;5;130;43;01m\\n\u001b[39;49;00m\u001b[38;5;124;43m# Output the energy\u001b[39;49m\u001b[38;5;130;43;01m\\n\u001b[39;49;00m\u001b[38;5;124;43m#\u001b[39;49m\u001b[38;5;130;43;01m\\n\u001b[39;49;00m\u001b[38;5;130;43;01m\\n\u001b[39;49;00m\u001b[38;5;124;43mread -r ligand_qq ligand_lj < <(\u001b[39;49m\u001b[38;5;124;43m{\u001b[39;49m\u001b[38;5;130;43;01m\\n\u001b[39;49;00m\u001b[38;5;124;43m  echo \u001b[39;49m\u001b[38;5;124;43m\"\u001b[39;49m\u001b[38;5;124;43mCoul-SR:$\u001b[39;49m\u001b[38;5;132;43;01m{energy_group}\u001b[39;49;00m\u001b[38;5;124;43m-Surround\u001b[39;49m\u001b[38;5;124;43m\"\u001b[39;49m\u001b[38;5;124;43m;\u001b[39;49m\u001b[38;5;130;43;01m\\n\u001b[39;49;00m\u001b[38;5;124;43m  echo \u001b[39;49m\u001b[38;5;124;43m\"\u001b[39;49m\u001b[38;5;124;43mLJ-SR:$\u001b[39;49m\u001b[38;5;132;43;01m{energy_group}\u001b[39;49;00m\u001b[38;5;124;43m-Surround\u001b[39;49m\u001b[38;5;124;43m\"\u001b[39;49m\u001b[38;5;124;43m;\u001b[39;49m\u001b[38;5;130;43;01m\\n\u001b[39;49;00m\u001b[38;5;124;43m  echo;\u001b[39;49m\u001b[38;5;130;43;01m\\n\u001b[39;49;00m\u001b[38;5;124;43m} | gmx energy -f \u001b[39;49m\u001b[38;5;124;43m\"\u001b[39;49m\u001b[38;5;124;43mlie_ligand.edr\u001b[39;49m\u001b[38;5;124;43m\"\u001b[39;49m\u001b[38;5;124;43m 2>/dev/null | tail -n2 | awk \u001b[39;49m\u001b[38;5;130;43;01m\\'\u001b[39;49;00m\u001b[38;5;124;43m{\u001b[39;49m\u001b[38;5;124;43m print $2 }\u001b[39;49m\u001b[38;5;130;43;01m\\'\u001b[39;49;00m\u001b[38;5;124;43m | tr \u001b[39;49m\u001b[38;5;124;43m\"\u001b[39;49m\u001b[38;5;130;43;01m\\\\\u001b[39;49;00m\u001b[38;5;124;43mn\u001b[39;49m\u001b[38;5;124;43m\"\u001b[39;49m\u001b[38;5;124;43m \u001b[39;49m\u001b[38;5;124;43m\"\u001b[39;49m\u001b[38;5;124;43m \u001b[39;49m\u001b[38;5;124;43m\"\u001b[39;49m\u001b[38;5;124;43m)\u001b[39;49m\u001b[38;5;130;43;01m\\n\u001b[39;49;00m\u001b[38;5;130;43;01m\\n\u001b[39;49;00m\u001b[38;5;124;43mligand_total=\u001b[39;49m\u001b[38;5;124;43m\"\u001b[39;49m\u001b[38;5;124;43m$(perl -le \u001b[39;49m\u001b[38;5;124;43m\"\u001b[39;49m\u001b[38;5;124;43mprint($\u001b[39;49m\u001b[38;5;132;43;01m{ligand_qq}\u001b[39;49;00m\u001b[38;5;124;43m + $\u001b[39;49m\u001b[38;5;132;43;01m{ligand_lj}\u001b[39;49;00m\u001b[38;5;124;43m)\u001b[39;49m\u001b[38;5;124;43m\"\u001b[39;49m\u001b[38;5;124;43m)\u001b[39;49m\u001b[38;5;124;43m\"\u001b[39;49m\u001b[38;5;130;43;01m\\n\u001b[39;49;00m\u001b[38;5;130;43;01m\\n\u001b[39;49;00m\u001b[38;5;124;43mfor i in $(seq 5); do echo \u001b[39;49m\u001b[38;5;124;43m\"\u001b[39;49m\u001b[38;5;124;43m\"\u001b[39;49m\u001b[38;5;124;43m; done\u001b[39;49m\u001b[38;5;130;43;01m\\n\u001b[39;49;00m\u001b[38;5;124;43m{\u001b[39;49m\u001b[38;5;130;43;01m\\n\u001b[39;49;00m\u001b[38;5;124;43m  echo \u001b[39;49m\u001b[38;5;124;43m\"\u001b[39;49m\u001b[38;5;124;43m***\u001b[39;49m\u001b[38;5;124;43m\"\u001b[39;49m\u001b[38;5;130;43;01m\\n\u001b[39;49;00m\u001b[38;5;124;43m  echo \u001b[39;49m\u001b[38;5;124;43m\"\u001b[39;49m\u001b[38;5;124;43mTotal interaction energy (ligand with solvent):  $\u001b[39;49m\u001b[38;5;132;43;01m{ligand_total}\u001b[39;49;00m\u001b[38;5;124;43m\"\u001b[39;49m\u001b[38;5;130;43;01m\\n\u001b[39;49;00m\u001b[38;5;124;43m  echo \u001b[39;49m\u001b[38;5;124;43m\"\u001b[39;49m\u001b[38;5;124;43mElectrostatics term:  $\u001b[39;49m\u001b[38;5;132;43;01m{ligand_qq}\u001b[39;49;00m\u001b[38;5;124;43m\"\u001b[39;49m\u001b[38;5;130;43;01m\\n\u001b[39;49;00m\u001b[38;5;124;43m  echo \u001b[39;49m\u001b[38;5;124;43m\"\u001b[39;49m\u001b[38;5;124;43mVan der Waals term:  $\u001b[39;49m\u001b[38;5;132;43;01m{ligand_lj}\u001b[39;49;00m\u001b[38;5;124;43m\"\u001b[39;49m\u001b[38;5;130;43;01m\\n\u001b[39;49;00m\u001b[38;5;124;43m  echo \u001b[39;49m\u001b[38;5;124;43m\"\u001b[39;49m\u001b[38;5;124;43m***\u001b[39;49m\u001b[38;5;124;43m\"\u001b[39;49m\u001b[38;5;130;43;01m\\n\u001b[39;49;00m\u001b[38;5;124;43m} >&3\u001b[39;49m\u001b[38;5;130;43;01m\\n\u001b[39;49;00m\u001b[38;5;124;43m'\u001b[39;49m\u001b[43m)\u001b[49m\n",
      "File \u001b[0;32m/opt/conda/envs/python35-paddle120-env/lib/python3.10/site-packages/IPython/core/interactiveshell.py:2478\u001b[0m, in \u001b[0;36mInteractiveShell.run_cell_magic\u001b[0;34m(self, magic_name, line, cell)\u001b[0m\n\u001b[1;32m   2476\u001b[0m \u001b[38;5;28;01mwith\u001b[39;00m \u001b[38;5;28mself\u001b[39m\u001b[38;5;241m.\u001b[39mbuiltin_trap:\n\u001b[1;32m   2477\u001b[0m     args \u001b[38;5;241m=\u001b[39m (magic_arg_s, cell)\n\u001b[0;32m-> 2478\u001b[0m     result \u001b[38;5;241m=\u001b[39m \u001b[43mfn\u001b[49m\u001b[43m(\u001b[49m\u001b[38;5;241;43m*\u001b[39;49m\u001b[43margs\u001b[49m\u001b[43m,\u001b[49m\u001b[43m \u001b[49m\u001b[38;5;241;43m*\u001b[39;49m\u001b[38;5;241;43m*\u001b[39;49m\u001b[43mkwargs\u001b[49m\u001b[43m)\u001b[49m\n\u001b[1;32m   2480\u001b[0m \u001b[38;5;66;03m# The code below prevents the output from being displayed\u001b[39;00m\n\u001b[1;32m   2481\u001b[0m \u001b[38;5;66;03m# when using magics with decodator @output_can_be_silenced\u001b[39;00m\n\u001b[1;32m   2482\u001b[0m \u001b[38;5;66;03m# when the last Python token in the expression is a ';'.\u001b[39;00m\n\u001b[1;32m   2483\u001b[0m \u001b[38;5;28;01mif\u001b[39;00m \u001b[38;5;28mgetattr\u001b[39m(fn, magic\u001b[38;5;241m.\u001b[39mMAGIC_OUTPUT_CAN_BE_SILENCED, \u001b[38;5;28;01mFalse\u001b[39;00m):\n",
      "File \u001b[0;32m/opt/conda/envs/python35-paddle120-env/lib/python3.10/site-packages/IPython/core/magics/script.py:154\u001b[0m, in \u001b[0;36mScriptMagics._make_script_magic.<locals>.named_script_magic\u001b[0;34m(line, cell)\u001b[0m\n\u001b[1;32m    152\u001b[0m \u001b[38;5;28;01melse\u001b[39;00m:\n\u001b[1;32m    153\u001b[0m     line \u001b[38;5;241m=\u001b[39m script\n\u001b[0;32m--> 154\u001b[0m \u001b[38;5;28;01mreturn\u001b[39;00m \u001b[38;5;28;43mself\u001b[39;49m\u001b[38;5;241;43m.\u001b[39;49m\u001b[43mshebang\u001b[49m\u001b[43m(\u001b[49m\u001b[43mline\u001b[49m\u001b[43m,\u001b[49m\u001b[43m \u001b[49m\u001b[43mcell\u001b[49m\u001b[43m)\u001b[49m\n",
      "File \u001b[0;32m/opt/conda/envs/python35-paddle120-env/lib/python3.10/site-packages/IPython/core/magics/script.py:314\u001b[0m, in \u001b[0;36mScriptMagics.shebang\u001b[0;34m(self, line, cell)\u001b[0m\n\u001b[1;32m    309\u001b[0m \u001b[38;5;28;01mif\u001b[39;00m args\u001b[38;5;241m.\u001b[39mraise_error \u001b[38;5;129;01mand\u001b[39;00m p\u001b[38;5;241m.\u001b[39mreturncode \u001b[38;5;241m!=\u001b[39m \u001b[38;5;241m0\u001b[39m:\n\u001b[1;32m    310\u001b[0m     \u001b[38;5;66;03m# If we get here and p.returncode is still None, we must have\u001b[39;00m\n\u001b[1;32m    311\u001b[0m     \u001b[38;5;66;03m# killed it but not yet seen its return code. We don't wait for it,\u001b[39;00m\n\u001b[1;32m    312\u001b[0m     \u001b[38;5;66;03m# in case it's stuck in uninterruptible sleep. -9 = SIGKILL\u001b[39;00m\n\u001b[1;32m    313\u001b[0m     rc \u001b[38;5;241m=\u001b[39m p\u001b[38;5;241m.\u001b[39mreturncode \u001b[38;5;129;01mor\u001b[39;00m \u001b[38;5;241m-\u001b[39m\u001b[38;5;241m9\u001b[39m\n\u001b[0;32m--> 314\u001b[0m     \u001b[38;5;28;01mraise\u001b[39;00m CalledProcessError(rc, cell)\n",
      "\u001b[0;31mCalledProcessError\u001b[0m: Command 'b'output_prefix=\"$1\"\\nexec 3>&1\\nif $VERBOSE; then\\n  exec 2>&1  # fix stderr and stdout appearing out of order\\nelse\\n  exec >/dev/null 2>/dev/null  # silence\\nfi\\nset +H  # turn off history expansion so phrases that look like \"!...\" don\\'t break\\n\\n#@markdown **Compute an energy analysis** for the **ligand in only solvent**, by computing a new simulation in a box of water.\\n#@markdown\\n#@markdown (This may take ten minutes.)\\nenergy_group=\"LIG\" #@param {type: \"string\"}\\n\\nsource \"/home/aistudio/gromacs/bin/GMXRC.bash\"\\n\\n\\n#\\n# Simulate ligand in solvent\\n#\\n\\ngmx trjconv -s \"${output_prefix}.tpr\" -f \"rerun.trr\" -n \"index.ndx\" -dump 1000 -o \"ligand.gro\" <<< \"${energy_group}\"\\n\\ngmx editconf -f \"ligand.gro\" -o \"out.gro\" -c -d 1.0 -bt \"dodecahedron\"\\nmv \"out.gro\" \"ligand.gro\"\\n\\nsed -E \\'/\\\\[\\\\s*molecules\\\\s*\\\\]/q\\' \"topol.top\" > \"ligand.top\"\\necho \"${energy_group} 1\" >> \"ligand.top\"\\n\\n# Put the full CHARMM36 forcefield first, deleting other forcefield.itps, to ensure TIP3 and ions are included\\n# (This makes the assumption that the input system uses CHARMM36)\\nawk \\'! x && $0 ~ /^#include/ { x=1; print \"#include \\\\\"\\'\"${START}\"\\'/charmm36.ff/forcefield.itp\\\\\"\" }; $0 !~ /forcefield.itp/ { print }\\' \"ligand.top\" > \"ligand.top.tmp\"\\nmv \"ligand.top.tmp\" \"ligand.top\"\\n\\n# Solvate with TIP3\\nsed \\'s/SOL /TIP3/g\\' \"/usr/local/gromacs/share/gromacs/top/spc216.gro\" > \"TIP3.gro\"\\ngmx solvate -cp \"ligand.gro\" -cs \"TIP3.gro\" -o \"out.gro\" -p \"ligand.top\"\\nmv \"out.gro\" \"ligand.gro\"\\n\\n\\n#\\n# Minimisation\\n#\\n\\ncat > \"ligand_min.mdp\" <<EOS\\n; See GROMACS_for_CHARMM-GUI.ipynb\\n\\nintegrator            =  steep\\nemtol                 =  1000.0\\nnsteps                =  5000\\n\\ncutoff-scheme         =  Verlet\\nnstlist               =  10\\ncoulombtype           =  PME\\nrcoulomb              =  1.2\\nvdwtype               =  Cut-off\\nvdw-modifier          =  Force-switch\\nrvdw-switch           =  1.0\\nrvdw                  =  1.2\\n\\nconstraints           =  h-bonds\\nconstraint-algorithm  =  LINCS\\nEOS\\n\\ngmx grompp -f \"ligand_min.mdp\" -o \"ligand_min.tpr\" -c \"ligand.gro\" -p \"ligand.top\" -maxwarn 999\\n\\ngmx genion -s \"ligand_min.tpr\" -o \"out.gro\" -p \"ligand.top\" -pname \"POT\" -nname \"CLA\" -neutral <<< \"TIP3\"\\nmv \"out.gro\" \"ligand.gro\"\\n\\ngmx grompp -f \"ligand_min.mdp\" -o \"ligand.tpr\" -c \"ligand.gro\" -p \"ligand.top\" -maxwarn 999\\n\\ngmx mdrun -v -stepout 1000 -deffnm \"ligand_min\"\\nret=$?; if (( $ret != 0 )); then exit $ret; fi\\n\\n\\n#\\n# Equilibration\\n#\\n\\ncat > \"ligand_eq.mdp\" <<EOS\\n; See GROMACS_for_CHARMM-GUI.ipynb\\n\\nintegrator  =  md\\ndt          =  0.001     ; 1 fs\\nnsteps      =  100000    ; 100 ps simulation time\\ncomm-mode   =  Linear\\n\\ncutoff-scheme  =  Verlet\\nnstlist        =  20\\ncoulombtype    =  PME\\nrcoulomb       =  1.2\\nvdwtype        =  Cut-off\\nvdw-modifier   =  Force-switch\\nrvdw-switch    =  1.0\\nrvdw           =  1.2\\n\\ntcoupl   = Berendsen\\ntc-grps  = System\\ntau-t    = 1.0\\nref-t    = 303.15\\n\\npcoupl            = Berendsen\\npcoupltype        = isotropic\\ntau-p             = 5.0\\ncompressibility   = 4.5e-5\\nref-p             = 1.0\\nrefcoord-scaling  = com\\n\\nconstraints           =  h-bonds\\nconstraint-algorithm  =  LINCS\\ncontinuation          =  yes\\nEOS\\n\\ngmx grompp -f \"ligand_eq.mdp\" -o \"ligand_eq.tpr\" -c \"ligand_min.gro\" -p \"ligand.top\" -maxwarn 999\\n\\ngmx mdrun -v -stepout 1000 -deffnm \"ligand_eq\"\\nret=$?; if (( $ret != 0 )); then exit $ret; fi\\n\\n\\n#\\n# Production\\n#\\n\\ncat > \"ligand_prod.mdp\" <<EOS\\n; See GROMACS_for_CHARMM-GUI.ipynb\\n\\nintegrator  =  md\\ndt          =  0.002     ; 2 fs\\nnsteps      =  50000     ; 100 ps simulation time\\ncomm-mode   =  Linear\\n\\nnstxout  =  5000    ; 10 frames total\\nnstvout  =  5000\\n\\ncutoff-scheme  =  Verlet\\nnstlist        =  20\\ncoulombtype    =  PME\\nrcoulomb       =  1.2\\nvdwtype        =  Cut-off\\nvdw-modifier   =  Force-switch\\nrvdw-switch    =  1.0\\nrvdw           =  1.2\\n\\ntcoupl   =  V-Rescale\\ntc-grps  =  System\\ntau-t    =  1.0\\nref-t    =  303.15\\n\\npcoupl           =  Parrinello-Rahman\\npcoupltype       =  isotropic\\ntau-p            =  5.0\\ncompressibility  =  4.5e-5\\nref-p            =  1.0\\n\\nconstraints           =  h-bonds\\nconstraint-algorithm  =  LINCS\\ncontinuation          =  yes\\nEOS\\n\\ngmx grompp -f \"ligand_prod.mdp\" -o \"ligand_prod.tpr\" -c \"ligand_eq.gro\" -p \"ligand.top\" -maxwarn 999\\n\\ngmx mdrun -v -stepout 1000 -deffnm \"ligand_prod\"\\nret=$?; if (( $ret != 0 )); then exit $ret; fi\\n\\n\\n#\\n# Energy monitoring rerun of simulation with ligand\\n#\\n\\necho \"q\" | gmx make_ndx -f \"ligand_min.gro\" -o \"ligand.ndx\"\\ngroup_id=$(fgrep \\'[\\' \"ligand.ndx\" | wc -l)\\n{ echo \"! \\\\\"${energy_group}\\\\\"\"; echo \"name ${group_id} Surround\"; echo \"q\"; } | gmx make_ndx -f \"ligand_min.gro\" -n \"ligand.ndx\" -o \"ligand.ndx\"\\n\\n( cat \"ligand_prod.mdp\"; echo \"energygrps = ${energy_group} Surround\" ) > \"lie_ligand.mdp\"\\ngmx grompp -f \"lie_ligand.mdp\" -o \"lie_ligand.tpr\" -c \"ligand_min.gro\" -p \"ligand.top\" -n \"ligand.ndx\" -maxwarn 999\\n\\ngmx mdrun -deffnm \"lie_ligand\" -rerun \"ligand_prod.trr\"\\n\\n\\n#\\n# Output the energy\\n#\\n\\nread -r ligand_qq ligand_lj < <({\\n  echo \"Coul-SR:${energy_group}-Surround\";\\n  echo \"LJ-SR:${energy_group}-Surround\";\\n  echo;\\n} | gmx energy -f \"lie_ligand.edr\" 2>/dev/null | tail -n2 | awk \\'{ print $2 }\\' | tr \"\\\\n\" \" \")\\n\\nligand_total=\"$(perl -le \"print(${ligand_qq} + ${ligand_lj})\")\"\\n\\nfor i in $(seq 5); do echo \"\"; done\\n{\\n  echo \"***\"\\n  echo \"Total interaction energy (ligand with solvent):  ${ligand_total}\"\\n  echo \"Electrostatics term:  ${ligand_qq}\"\\n  echo \"Van der Waals term:  ${ligand_lj}\"\\n  echo \"***\"\\n} >&3\\n'' returned non-zero exit status 1."
     ]
    }
   ],
   "source": [
    "%%bash -s \"$output_prefix\"\n",
    "output_prefix=\"$1\"\n",
    "exec 3>&1\n",
    "if $VERBOSE; then\n",
    "  exec 2>&1  # fix stderr and stdout appearing out of order\n",
    "else\n",
    "  exec >/dev/null 2>/dev/null  # silence\n",
    "fi\n",
    "set +H  # turn off history expansion so phrases that look like \"!...\" don't break\n",
    "\n",
    "#@markdown **Compute an energy analysis** for the **ligand in only solvent**, by computing a new simulation in a box of water.\n",
    "#@markdown\n",
    "#@markdown (This may take ten minutes.)\n",
    "energy_group=\"LIG\" #@param {type: \"string\"}\n",
    "\n",
    "source \"/home/aistudio/gromacs/bin/GMXRC.bash\"\n",
    "\n",
    "\n",
    "#\n",
    "# Simulate ligand in solvent\n",
    "#\n",
    "\n",
    "gmx trjconv -s \"${output_prefix}.tpr\" -f \"rerun.trr\" -n \"index.ndx\" -dump 1000 -o \"ligand.gro\" <<< \"${energy_group}\"\n",
    "\n",
    "gmx editconf -f \"ligand.gro\" -o \"out.gro\" -c -d 1.0 -bt \"dodecahedron\"\n",
    "mv \"out.gro\" \"ligand.gro\"\n",
    "\n",
    "sed -E '/\\[\\s*molecules\\s*\\]/q' \"topol.top\" > \"ligand.top\"\n",
    "echo \"${energy_group} 1\" >> \"ligand.top\"\n",
    "\n",
    "# Put the full CHARMM36 forcefield first, deleting other forcefield.itps, to ensure TIP3 and ions are included\n",
    "# (This makes the assumption that the input system uses CHARMM36)\n",
    "awk '! x && $0 ~ /^#include/ { x=1; print \"#include \\\"'\"${START}\"'/charmm36.ff/forcefield.itp\\\"\" }; $0 !~ /forcefield.itp/ { print }' \"ligand.top\" > \"ligand.top.tmp\"\n",
    "mv \"ligand.top.tmp\" \"ligand.top\"\n",
    "\n",
    "# Solvate with TIP3\n",
    "sed 's/SOL /TIP3/g' \"/usr/local/gromacs/share/gromacs/top/spc216.gro\" > \"TIP3.gro\"\n",
    "gmx solvate -cp \"ligand.gro\" -cs \"TIP3.gro\" -o \"out.gro\" -p \"ligand.top\"\n",
    "mv \"out.gro\" \"ligand.gro\"\n",
    "\n",
    "\n",
    "#\n",
    "# Minimisation\n",
    "#\n",
    "\n",
    "cat > \"ligand_min.mdp\" <<EOS\n",
    "; See GROMACS_for_CHARMM-GUI.ipynb\n",
    "\n",
    "integrator            =  steep\n",
    "emtol                 =  1000.0\n",
    "nsteps                =  5000\n",
    "\n",
    "cutoff-scheme         =  Verlet\n",
    "nstlist               =  10\n",
    "coulombtype           =  PME\n",
    "rcoulomb              =  1.2\n",
    "vdwtype               =  Cut-off\n",
    "vdw-modifier          =  Force-switch\n",
    "rvdw-switch           =  1.0\n",
    "rvdw                  =  1.2\n",
    "\n",
    "constraints           =  h-bonds\n",
    "constraint-algorithm  =  LINCS\n",
    "EOS\n",
    "\n",
    "gmx grompp -f \"ligand_min.mdp\" -o \"ligand_min.tpr\" -c \"ligand.gro\" -p \"ligand.top\" -maxwarn 999\n",
    "\n",
    "gmx genion -s \"ligand_min.tpr\" -o \"out.gro\" -p \"ligand.top\" -pname \"POT\" -nname \"CLA\" -neutral <<< \"TIP3\"\n",
    "mv \"out.gro\" \"ligand.gro\"\n",
    "\n",
    "gmx grompp -f \"ligand_min.mdp\" -o \"ligand.tpr\" -c \"ligand.gro\" -p \"ligand.top\" -maxwarn 999\n",
    "\n",
    "gmx mdrun -v -stepout 1000 -deffnm \"ligand_min\"\n",
    "ret=$?; if (( $ret != 0 )); then exit $ret; fi\n",
    "\n",
    "\n",
    "#\n",
    "# Equilibration\n",
    "#\n",
    "\n",
    "cat > \"ligand_eq.mdp\" <<EOS\n",
    "; See GROMACS_for_CHARMM-GUI.ipynb\n",
    "\n",
    "integrator  =  md\n",
    "dt          =  0.001     ; 1 fs\n",
    "nsteps      =  100000    ; 100 ps simulation time\n",
    "comm-mode   =  Linear\n",
    "\n",
    "cutoff-scheme  =  Verlet\n",
    "nstlist        =  20\n",
    "coulombtype    =  PME\n",
    "rcoulomb       =  1.2\n",
    "vdwtype        =  Cut-off\n",
    "vdw-modifier   =  Force-switch\n",
    "rvdw-switch    =  1.0\n",
    "rvdw           =  1.2\n",
    "\n",
    "tcoupl   = Berendsen\n",
    "tc-grps  = System\n",
    "tau-t    = 1.0\n",
    "ref-t    = 303.15\n",
    "\n",
    "pcoupl            = Berendsen\n",
    "pcoupltype        = isotropic\n",
    "tau-p             = 5.0\n",
    "compressibility   = 4.5e-5\n",
    "ref-p             = 1.0\n",
    "refcoord-scaling  = com\n",
    "\n",
    "constraints           =  h-bonds\n",
    "constraint-algorithm  =  LINCS\n",
    "continuation          =  yes\n",
    "EOS\n",
    "\n",
    "gmx grompp -f \"ligand_eq.mdp\" -o \"ligand_eq.tpr\" -c \"ligand_min.gro\" -p \"ligand.top\" -maxwarn 999\n",
    "\n",
    "gmx mdrun -v -stepout 1000 -deffnm \"ligand_eq\"\n",
    "ret=$?; if (( $ret != 0 )); then exit $ret; fi\n",
    "\n",
    "\n",
    "#\n",
    "# Production\n",
    "#\n",
    "\n",
    "cat > \"ligand_prod.mdp\" <<EOS\n",
    "; See GROMACS_for_CHARMM-GUI.ipynb\n",
    "\n",
    "integrator  =  md\n",
    "dt          =  0.002     ; 2 fs\n",
    "nsteps      =  50000     ; 100 ps simulation time\n",
    "comm-mode   =  Linear\n",
    "\n",
    "nstxout  =  5000    ; 10 frames total\n",
    "nstvout  =  5000\n",
    "\n",
    "cutoff-scheme  =  Verlet\n",
    "nstlist        =  20\n",
    "coulombtype    =  PME\n",
    "rcoulomb       =  1.2\n",
    "vdwtype        =  Cut-off\n",
    "vdw-modifier   =  Force-switch\n",
    "rvdw-switch    =  1.0\n",
    "rvdw           =  1.2\n",
    "\n",
    "tcoupl   =  V-Rescale\n",
    "tc-grps  =  System\n",
    "tau-t    =  1.0\n",
    "ref-t    =  303.15\n",
    "\n",
    "pcoupl           =  Parrinello-Rahman\n",
    "pcoupltype       =  isotropic\n",
    "tau-p            =  5.0\n",
    "compressibility  =  4.5e-5\n",
    "ref-p            =  1.0\n",
    "\n",
    "constraints           =  h-bonds\n",
    "constraint-algorithm  =  LINCS\n",
    "continuation          =  yes\n",
    "EOS\n",
    "\n",
    "gmx grompp -f \"ligand_prod.mdp\" -o \"ligand_prod.tpr\" -c \"ligand_eq.gro\" -p \"ligand.top\" -maxwarn 999\n",
    "\n",
    "gmx mdrun -v -stepout 1000 -deffnm \"ligand_prod\"\n",
    "ret=$?; if (( $ret != 0 )); then exit $ret; fi\n",
    "\n",
    "\n",
    "#\n",
    "# Energy monitoring rerun of simulation with ligand\n",
    "#\n",
    "\n",
    "echo \"q\" | gmx make_ndx -f \"ligand_min.gro\" -o \"ligand.ndx\"\n",
    "group_id=$(fgrep '[' \"ligand.ndx\" | wc -l)\n",
    "{ echo \"! \\\"${energy_group}\\\"\"; echo \"name ${group_id} Surround\"; echo \"q\"; } | gmx make_ndx -f \"ligand_min.gro\" -n \"ligand.ndx\" -o \"ligand.ndx\"\n",
    "\n",
    "( cat \"ligand_prod.mdp\"; echo \"energygrps = ${energy_group} Surround\" ) > \"lie_ligand.mdp\"\n",
    "gmx grompp -f \"lie_ligand.mdp\" -o \"lie_ligand.tpr\" -c \"ligand_min.gro\" -p \"ligand.top\" -n \"ligand.ndx\" -maxwarn 999\n",
    "\n",
    "gmx mdrun -deffnm \"lie_ligand\" -rerun \"ligand_prod.trr\"\n",
    "\n",
    "\n",
    "#\n",
    "# Output the energy\n",
    "#\n",
    "\n",
    "read -r ligand_qq ligand_lj < <({\n",
    "  echo \"Coul-SR:${energy_group}-Surround\";\n",
    "  echo \"LJ-SR:${energy_group}-Surround\";\n",
    "  echo;\n",
    "} | gmx energy -f \"lie_ligand.edr\" 2>/dev/null | tail -n2 | awk '{ print $2 }' | tr \"\\n\" \" \")\n",
    "\n",
    "ligand_total=\"$(perl -le \"print(${ligand_qq} + ${ligand_lj})\")\"\n",
    "\n",
    "for i in $(seq 5); do echo \"\"; done\n",
    "{\n",
    "  echo \"***\"\n",
    "  echo \"Total interaction energy (ligand with solvent):  ${ligand_total}\"\n",
    "  echo \"Electrostatics term:  ${ligand_qq}\"\n",
    "  echo \"Van der Waals term:  ${ligand_lj}\"\n",
    "  echo \"***\"\n",
    "} >&3"
   ]
  },
  {
   "cell_type": "code",
   "execution_count": null,
   "metadata": {
    "scrolled": true
   },
   "outputs": [],
   "source": []
  }
 ],
 "metadata": {
  "colab": {
   "collapsed_sections": [
    "vv5cq2Wv7UhB",
    "lZM0vkKdy6v6",
    "reax83yQAG-9"
   ],
   "machine_shape": "hm",
   "private_outputs": true,
   "provenance": []
  },
  "gpuClass": "standard",
  "kernelspec": {
   "display_name": "Python 3",
   "language": "python",
   "name": "py35-paddle1.2.0"
  },
  "language_info": {
   "codemirror_mode": {
    "name": "ipython",
    "version": 3
   },
   "file_extension": ".py",
   "mimetype": "text/x-python",
   "name": "python",
   "nbconvert_exporter": "python",
   "pygments_lexer": "ipython3",
   "version": "3.10.10"
  }
 },
 "nbformat": 4,
 "nbformat_minor": 4
}
