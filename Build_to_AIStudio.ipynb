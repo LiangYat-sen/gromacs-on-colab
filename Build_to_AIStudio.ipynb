{
 "cells": [
  {
   "cell_type": "markdown",
   "metadata": {
    "id": "Z-TExYh0MGuS"
   },
   "source": [
    "#### Build to AI Studio<font color=\"DarkSeaGreen\">/ GROMACS-on-AIStudio</font>\n",
    "<small>Suite: `Build_to_Google_Drive.ipynb` | [`GROMACS_for_CHARMM-GUI.ipynb`](https://colab.research.google.com/github/bioinfkaustin/gromacs-on-colab/blob/main/GROMACS_for_CHARMM-GUI.ipynb) | [`GROMACS_for_production.ipynb`](https://colab.research.google.com/github/bioinfkaustin/gromacs-on-colab/blob/main/GROMACS_for_production.ipynb) | [`Trajectory_analysis_tools.ipynb`](https://colab.research.google.com/github/bioinfkaustin/gromacs-on-colab/blob/main/Trajectory_analysis_tools.ipynb)</small>"
   ]
  },
  {
   "cell_type": "markdown",
   "metadata": {
    "id": "vv5cq2Wv7UhB"
   },
   "source": [
    "#### Documentation\n",
    "**Before using this notebook, please click the *↳ cells hidden* button below to show the documentation.**"
   ]
  },
  {
   "cell_type": "markdown",
   "metadata": {
    "id": "5dTAvj38Dal8"
   },
   "source": [
    "##### License\n",
    "\n",
    "> This notebook as a work of software is licensed under the terms of the [AGPL-3.0](https://opensource.org/licenses/AGPL-3.0) or later."
   ]
  },
  {
   "cell_type": "markdown",
   "metadata": {
    "id": "Jb0ESikELkRH"
   },
   "source": [
    "##### About this software\n",
    "\n",
    "> This notebook compiles and installs **GROMACS** and other libraries and utilities for running molecular dynamics simulations. It then caches the installations in your connected **AI Studio**, for later use in other notebooks.\n",
    ">\n",
    "> (To ensure compatiblity with every runtime type, please run this notebook on a \"CPU only / Standard RAM\" instance.)"
   ]
  },
  {
   "cell_type": "markdown",
   "metadata": {
    "id": "j7tcSeX0b5dd"
   },
   "source": [
    "#### Installation"
   ]
  },
  {
   "cell_type": "code",
   "execution_count": 1,
   "metadata": {
    "cellView": "form",
    "execution": {
     "iopub.execute_input": "2023-07-25T12:47:20.146614Z",
     "iopub.status.busy": "2023-07-25T12:47:20.145772Z",
     "iopub.status.idle": "2023-07-25T12:47:20.155140Z",
     "shell.execute_reply": "2023-07-25T12:47:20.154585Z",
     "shell.execute_reply.started": "2023-07-25T12:47:20.146582Z"
    },
    "id": "bhcpS51_dHd4",
    "scrolled": true
   },
   "outputs": [
    {
     "name": "stdout",
     "output_type": "stream",
     "text": [
      "env: STORAGE=/home/aistudio/gromacs-on-colab\r\n",
      "env: START=/home/aistudio\r\n"
     ]
    }
   ],
   "source": [
    "#@markdown In the following cells, applications will be downloaded from the internet and compiled and/or installed to a **persistent cache** in your Google Drive.\n",
    "#@markdown\n",
    "#@markdown This cell sets up the cache folder.\n",
    "\n",
    "import os\n",
    "\n",
    "if not os.path.isdir(\"/home/aistudio\"):\n",
    "  from google.colab import drive\n",
    "  drive.mount(\"/home/aistudio\")\n",
    "\n",
    "if not os.path.isdir(\"/home/aistudio\"):\n",
    "  raise RuntimeError(\"Error: could not connect to aistudio\")\n",
    "\n",
    "storage = \"/home/aistudio/gromacs-on-aistudio\"\n",
    "os.makedirs(storage, exist_ok=True)\n",
    "%env STORAGE={storage}\n",
    "\n",
    "if \"START\" not in os.environ or not os.environ[\"START\"]:\n",
    "  %env START={os.getcwd()}\n",
    "else:\n",
    "  %cd {os.environ[\"START\"]}"
   ]
  },
  {
   "cell_type": "code",
   "execution_count": 8,
   "metadata": {
    "cellView": "form",
    "execution": {
     "iopub.execute_input": "2023-07-25T12:52:29.978452Z",
     "iopub.status.busy": "2023-07-25T12:52:29.977415Z",
     "iopub.status.idle": "2023-07-25T12:52:30.965478Z",
     "shell.execute_reply": "2023-07-25T12:52:30.964548Z",
     "shell.execute_reply.started": "2023-07-25T12:52:29.978421Z"
    },
    "id": "WV8aP1j0Ra0E",
    "scrolled": true,
    "tags": []
   },
   "outputs": [],
   "source": [
    "%%bash\n",
    "#@markdown **GROMACS** is downloaded and compiled from source code. (This takes a while.)\n",
    "\n",
    "if [[ -d \"/home/aistudio/gromacs\" ]]; then\n",
    "  exit 0  # already installed\n",
    "fi\n",
    "\n",
    "gromacs_vers=\"2023\" #@param {type: \"string\"}\n",
    "cache_gromacs=\"/home/aistudio/gromacs-${gromacs_vers}.tar.gz\"\n",
    "\n",
    "if [[ -s \"${cache_gromacs}\" ]]; then\n",
    "  tar -xzf \"${cache_gromacs}\" -C \"/home/aistudio\"\n",
    "else\n",
    "  wget -q \"ftp://ftp.gromacs.org/gromacs/gromacs-${gromacs_vers}.tar.gz\"\n",
    "  if [[ ! -s \"gromacs-${gromacs_vers}.tar.gz\" ]]; then\n",
    "    echo \"Error: could not download: gromacs-${gromacs_vers}.tar.gz\" >&2\n",
    "    exit 1\n",
    "  fi\n",
    "  tar -xzf \"gromacs-${gromacs_vers}.tar.gz\"\n",
    "  rm \"gromacs-${gromacs_vers}.tar.gz\"\n",
    "\n",
    "  cd \"gromacs-${gromacs_vers}\"\n",
    "  mkdir \"build\"\n",
    "  cd \"build\"\n",
    "  cmake .. -DGMX_BUILD_OWN_FFTW=ON -DGMX_GPU=CUDA -DCMAKE_INSTALL_PREFIX=/home/aistudio/gromacs\n",
    "  make -j $(nproc)\n",
    "  make install \n",
    "\n",
    "  # Cache\n",
    "  tar -czf \"my_gromacs.tar.gz\" -C \"/home/aistudio\" \"gromacs\"\n",
    "  mv \"my_gromacs.tar.gz\" \"${cache_gromacs}\"\n",
    "fi\n"
   ]
  },
  {
   "cell_type": "code",
   "execution_count": 9,
   "metadata": {
    "execution": {
     "iopub.execute_input": "2023-07-25T12:52:51.692897Z",
     "iopub.status.busy": "2023-07-25T12:52:51.692188Z",
     "iopub.status.idle": "2023-07-25T13:04:16.479781Z",
     "shell.execute_reply": "2023-07-25T13:04:16.478926Z",
     "shell.execute_reply.started": "2023-07-25T12:52:51.692859Z"
    },
    "scrolled": true,
    "tags": []
   },
   "outputs": [
    {
     "name": "stdout",
     "output_type": "stream",
     "text": [
      "Process is interrupted.\r\n"
     ]
    }
   ],
   "source": [
    "%%bash\n",
    "#@markdown **GROMACS** is downloaded and compiled from source code. (This takes a while.)\n",
    "\n",
    "if [[ -d \"/home/aistudio/gromacs\" ]]; then\n",
    "  exit 0  # already installed\n",
    "fi\n",
    "\n",
    "gromacs_vers=\"2023\" #@param {type: \"string\"}\n",
    "cache_gromacs=\"${STORAGE}/gromacs-${gromacs_vers}.tar.gz\"\n",
    "\n",
    "if [[ -s \"${cache_gromacs}\" ]]; then\n",
    "  tar -xzf \"${cache_gromacs}\" -C \"/usr/local\"\n",
    "else\n",
    "  wget -q \"ftp://ftp.gromacs.org/gromacs/gromacs-${gromacs_vers}.tar.gz\"\n",
    "  if [[ ! -s \"gromacs-${gromacs_vers}.tar.gz\" ]]; then\n",
    "    echo \"Error: could not download: gromacs-${gromacs_vers}.tar.gz\" >&2\n",
    "    exit 1\n",
    "  fi\n",
    "  tar -xzf \"gromacs-${gromacs_vers}.tar.gz\"\n",
    "  rm \"gromacs-${gromacs_vers}.tar.gz\"\n",
    "\n",
    "  cd \"gromacs-${gromacs_vers}\"\n",
    "  mkdir \"build\"\n",
    "  cd \"build\"\n",
    "  cmake .. -DGMX_BUILD_OWN_FFTW=ON -DGMX_GPU=CUDA\n",
    "  make -j $(nproc)\n",
    "  make install # -> /home/aistudio/gromacs\n",
    "\n",
    "  # Cache\n",
    "  tar -czf \"my_gromacs.tar.gz\" -C \"/home/aistudio\" \"gromacs\"\n",
    "  mv \"my_gromacs.tar.gz\" \"${cache_gromacs}\"\n",
    "fi"
   ]
  },
  {
   "cell_type": "code",
   "execution_count": 3,
   "metadata": {
    "cellView": "form",
    "execution": {
     "iopub.execute_input": "2023-07-25T12:47:20.165854Z",
     "iopub.status.busy": "2023-07-25T12:47:20.165640Z",
     "iopub.status.idle": "2023-07-25T12:47:20.196280Z",
     "shell.execute_reply": "2023-07-25T12:47:20.195710Z",
     "shell.execute_reply.started": "2023-07-25T12:47:20.165836Z"
    },
    "id": "39WYUdSHzuDQ",
    "scrolled": true
   },
   "outputs": [],
   "source": [
    "%%bash\n",
    "#@markdown Set up a Miniconda environment with **Python** `<=3.8`, **Numpy** `<=1.23`, and **NetworkX** `=2.3`, for `cgenff_charmm2gmx.py`; and a second environment for **Biopython** and **Open Babel**.\n",
    "\n",
    "if [[ -d \"${START}/miniconda3\" ]]; then\n",
    "  exit 0  # already installed\n",
    "fi\n",
    "\n",
    "miniconda3_vers=\"py39_23.1.0-1\" #@param {type: \"string\"}#这里更改最新版本\n",
    "wget -q \"https://repo.anaconda.com/miniconda/Miniconda3-${miniconda3_vers}-Linux-x86_64.sh\"\n",
    "if [[ ! -s \"Miniconda3-${miniconda3_vers}-Linux-x86_64.sh\" ]]; then\n",
    "  echo \"Error: could not download: Miniconda3-${miniconda3_vers}-Linux-x86_64.sh\" >&2\n",
    "  exit 1\n",
    "fi\n",
    "bash \"Miniconda3-${miniconda3_vers}-Linux-x86_64.sh\" -b -p \"${START}/miniconda3\"\n",
    "rm \"Miniconda3-${miniconda3_vers}-Linux-x86_64.sh\"\n",
    "\n",
    "eval \"$(\"$START/miniconda3/bin/conda\" shell.bash hook)\"\n",
    "\n",
    "cache_miniconda3=\"${STORAGE}/Miniconda3-${miniconda3_vers}-Linux-x86_64_envs.tar.gz\"\n",
    "\n",
    "if [[ -s \"${cache_miniconda3}\" ]]; then\n",
    "  tar -xzf \"${cache_miniconda3}\" -C \"${START}/miniconda3\"\n",
    "else\n",
    "  conda create --yes --name \"charmm2gmx\"\n",
    "  conda activate \"charmm2gmx\"\n",
    "  conda config --env --set channel_priority \"strict\"\n",
    "  conda config --env --add channels \"conda-forge\"\n",
    "  conda install -q --yes \"python<=3.8\" \"networkx=2.3\" \"numpy<=1.23\"\n",
    "\n",
    "  conda create --yes --name \"biopython\"\n",
    "  conda activate \"biopython\"\n",
    "  conda config --env --set channel_priority \"strict\"\n",
    "  conda config --env --add channels \"conda-forge\"\n",
    "  conda install -q --yes \"biopython\" \"openbabel\"\n",
    "\n",
    "  # Cache\n",
    "  tar -czf \"my_miniconda3_envs.tar.gz\" -C \"${START}/miniconda3\" \"envs\"\n",
    "  mv \"my_miniconda3_envs.tar.gz\" \"${cache_miniconda3}\"\n",
    "fi"
   ]
  },
  {
   "cell_type": "code",
   "execution_count": 4,
   "metadata": {
    "cellView": "form",
    "execution": {
     "iopub.execute_input": "2023-07-25T12:47:20.197731Z",
     "iopub.status.busy": "2023-07-25T12:47:20.197524Z",
     "iopub.status.idle": "2023-07-25T12:47:20.207350Z",
     "shell.execute_reply": "2023-07-25T12:47:20.206830Z",
     "shell.execute_reply.started": "2023-07-25T12:47:20.197714Z"
    },
    "id": "QWr9d9Pg5-R5",
    "scrolled": true
   },
   "outputs": [],
   "source": [
    "%%bash\n",
    "#@markdown The CHARMM36 forcefield is downloaded.\n",
    "\n",
    "if [[ -d \"${START}/charmm36.ff\" ]]; then\n",
    "  exit 0  # already installed\n",
    "fi\n",
    "\n",
    "charmm36_vers=\"jul2022\" #@param {type: \"string\"}\n",
    "cache_charmm36=\"${STORAGE}/charmm36-${charmm36_vers}.tar.gz\"\n",
    "\n",
    "if [[ -s \"${cache_charmm36}\" ]]; then\n",
    "  tar -xzf \"${cache_charmm36}\" -C \"${START}\"\n",
    "else\n",
    "  wget -q -O \"charmm36-${charmm36_vers}.ff.tgz\" \"https://mackerell.umaryland.edu/download.php?filename=CHARMM_ff_params_files/charmm36-${charmm36_vers}.ff.tgz\"\n",
    "  if [[ ! -s \"charmm36-${charmm36_vers}.ff.tgz\" ]]; then\n",
    "    echo \"Error: could not download: charmm36-${charmm36_vers}.ff.tgz\" >&2\n",
    "    exit 1\n",
    "  fi\n",
    "  tar -xzf \"charmm36-${charmm36_vers}.ff.tgz\"\n",
    "  rm \"charmm36-${charmm36_vers}.ff.tgz\"\n",
    "\n",
    "  mv \"charmm36-${charmm36_vers}.ff\" \"${START}/charmm36.ff\"\n",
    "\n",
    "  # Cache\n",
    "  tar -czf \"my_charmm36.tar.gz\" -C \"${START}\" \"charmm36.ff\"\n",
    "  mv \"my_charmm36.tar.gz\" \"${cache_charmm36}\"\n",
    "fi"
   ]
  },
  {
   "cell_type": "code",
   "execution_count": 5,
   "metadata": {
    "cellView": "form",
    "execution": {
     "iopub.execute_input": "2023-07-25T12:47:20.208275Z",
     "iopub.status.busy": "2023-07-25T12:47:20.208071Z",
     "iopub.status.idle": "2023-07-25T12:47:20.217674Z",
     "shell.execute_reply": "2023-07-25T12:47:20.217111Z",
     "shell.execute_reply.started": "2023-07-25T12:47:20.208258Z"
    },
    "id": "VpRVEGtvUKCq",
    "scrolled": true
   },
   "outputs": [],
   "source": [
    "%%bash\n",
    "#@markdown The utility **`cgenff_charmm2gmx.py`** is installed.\n",
    "\n",
    "if [[ -x \"${START}/miniconda3/envs/charmm2gmx/bin/cgenff_charmm2gmx.py\" ]]; then\n",
    "  exit 0  # already installed\n",
    "fi\n",
    "\n",
    "charmm2gmx_vers=\"py3_nx2\" #@param {type: \"string\"}\n",
    "cache_charmm2gmx=\"$STORAGE/cgenff_charmm2gmx_${charmm2gmx_vers}.tar.gz\"\n",
    "\n",
    "if [[ -s \"${cache_charmm2gmx}\" ]]; then\n",
    "  tar -xzf \"${cache_charmm2gmx}\" -C \"${START}/miniconda3/envs/charmm2gmx/bin\"\n",
    "else\n",
    "  wget -q -O \"cgenff_charmm2gmx.py\" \"https://mackerell.umaryland.edu/download.php?filename=CHARMM_ff_params_files/cgenff_charmm2gmx_${charmm2gmx_vers}.py\"\n",
    "  if [[ ! -s \"cgenff_charmm2gmx.py\" ]]; then\n",
    "    echo \"Error: could not download: cgenff_charmm2gmx_${charmm2gmx_vers}.py\" >&2\n",
    "    exit 1\n",
    "  fi\n",
    "  sed -i\"\" 's/\\r//g' \"cgenff_charmm2gmx.py\"\n",
    "  chmod +x \"cgenff_charmm2gmx.py\"\n",
    "  mv \"cgenff_charmm2gmx.py\" \"${START}/miniconda3/envs/charmm2gmx/bin/\"\n",
    "\n",
    "  # Cache\n",
    "  tar -czf \"my_charmm2gmx.tar.gz\" -C \"${START}/miniconda3/envs/charmm2gmx/bin\" \"cgenff_charmm2gmx.py\"\n",
    "  mv \"my_charmm2gmx.tar.gz\" \"${cache_charmm2gmx}\"\n",
    "fi"
   ]
  },
  {
   "cell_type": "code",
   "execution_count": null,
   "metadata": {
    "scrolled": true
   },
   "outputs": [],
   "source": []
  }
 ],
 "metadata": {
  "colab": {
   "collapsed_sections": [
    "vv5cq2Wv7UhB"
   ],
   "private_outputs": true,
   "provenance": [],
   "toc_visible": true
  },
  "kernelspec": {
   "display_name": "Python 3",
   "language": "python",
   "name": "py35-paddle1.2.0"
  },
  "language_info": {
   "codemirror_mode": {
    "name": "ipython",
    "version": 3
   },
   "file_extension": ".py",
   "mimetype": "text/x-python",
   "name": "python",
   "nbconvert_exporter": "python",
   "pygments_lexer": "ipython3",
   "version": "3.10.10"
  }
 },
 "nbformat": 4,
 "nbformat_minor": 4
}
